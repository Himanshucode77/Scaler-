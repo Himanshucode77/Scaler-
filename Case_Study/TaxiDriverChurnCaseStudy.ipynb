{
  "nbformat": 4,
  "nbformat_minor": 0,
  "metadata": {
    "colab": {
      "provenance": [],
      "authorship_tag": "ABX9TyN4as+a+6vKz9Jl/XpL9crU",
      "include_colab_link": true
    },
    "kernelspec": {
      "name": "python3",
      "display_name": "Python 3"
    },
    "language_info": {
      "name": "python"
    }
  },
  "cells": [
    {
      "cell_type": "markdown",
      "metadata": {
        "id": "view-in-github",
        "colab_type": "text"
      },
      "source": [
        "<a href=\"https://colab.research.google.com/github/Kishorecsmani/ScalerProject/blob/main/TaxiDriverChurnCaseStudy.ipynb\" target=\"_parent\"><img src=\"https://colab.research.google.com/assets/colab-badge.svg\" alt=\"Open In Colab\"/></a>"
      ]
    },
    {
      "cell_type": "markdown",
      "source": [
        "<font color='#0dab7f'># Problem Statement \n",
        "\n",
        "<font color='#0dab7f'>1) Recruiting and retaining drivers is seen by industry watchers as a tough battle. Churn among drivers is high and it’s very easy for drivers to stop working for the service on the fly or jump to other company depending on the rates.\n",
        "\n",
        "\n",
        "<font color='#0dab7f'>2) As the companies get bigger, the high churn could become a bigger problem. To find new drivers, company is casting a wide net, including people who don’t have cars for jobs. But this acquisition is really costly. Losing drivers frequently impacts the morale of the organization and acquiring new drivers is more expensive than retaining existing ones.\n",
        "\n",
        "<font color='#0dab7f'>3) Monthly information for a segment of drivers for 2019 and 2020 is provided and tasked to predict whether a driver will be leaving the company or not based on their attributes like\n",
        "\n",
        "<font color='#0dab7f'>Demographics (city, age, gender etc.)\n",
        "\n",
        "<font color='#0dab7f'>Tenure information (joining date, Last Date)\n",
        "\n",
        "<font color='#0dab7f'>Historical data regarding the performance of the driver (Quarterly rating, \n",
        "Monthly business acquired, grade, Income)"
      ],
      "metadata": {
        "id": "p1hR4r3GjoGc"
      }
    },
    {
      "cell_type": "code",
      "execution_count": null,
      "metadata": {
        "id": "xK-uUuvtxaFt"
      },
      "outputs": [],
      "source": [
        "import pandas as pd\n",
        "import numpy as np\n",
        "import seaborn as sns\n",
        "import matplotlib.pyplot as plt"
      ]
    },
    {
      "cell_type": "code",
      "source": [
        "!gdown 1e4POGdsWbjgF-pJmAOoUu3v1LN-CTG4U"
      ],
      "metadata": {
        "id": "xb38Z12Sx3Jv"
      },
      "execution_count": null,
      "outputs": []
    },
    {
      "cell_type": "code",
      "source": [
        "df = pd.read_csv('driver_scaler.csv')\n",
        "df.head(5)"
      ],
      "metadata": {
        "colab": {
          "base_uri": "https://localhost:8080/",
          "height": 206
        },
        "id": "FpRoccv2x3Tm",
        "outputId": "cd9b2bcf-57fe-4666-e900-c4929b9dd7c5"
      },
      "execution_count": null,
      "outputs": [
        {
          "output_type": "execute_result",
          "data": {
            "text/plain": [
              "   Unnamed: 0    MMM-YY  Driver_ID   Age  Gender City  Education_Level  \\\n",
              "0           0  01/01/19          1  28.0     0.0  C23                2   \n",
              "1           1  02/01/19          1  28.0     0.0  C23                2   \n",
              "2           2  03/01/19          1  28.0     0.0  C23                2   \n",
              "3           3  11/01/20          2  31.0     0.0   C7                2   \n",
              "4           4  12/01/20          2  31.0     0.0   C7                2   \n",
              "\n",
              "   Income Dateofjoining LastWorkingDate  Joining Designation  Grade  \\\n",
              "0   57387      24/12/18             NaN                    1      1   \n",
              "1   57387      24/12/18             NaN                    1      1   \n",
              "2   57387      24/12/18        03/11/19                    1      1   \n",
              "3   67016      11/06/20             NaN                    2      2   \n",
              "4   67016      11/06/20             NaN                    2      2   \n",
              "\n",
              "   Total Business Value  Quarterly Rating  \n",
              "0               2381060                 2  \n",
              "1               -665480                 2  \n",
              "2                     0                 2  \n",
              "3                     0                 1  \n",
              "4                     0                 1  "
            ],
            "text/html": [
              "\n",
              "  <div id=\"df-3d21682a-8969-4257-af12-9a432e48879b\">\n",
              "    <div class=\"colab-df-container\">\n",
              "      <div>\n",
              "<style scoped>\n",
              "    .dataframe tbody tr th:only-of-type {\n",
              "        vertical-align: middle;\n",
              "    }\n",
              "\n",
              "    .dataframe tbody tr th {\n",
              "        vertical-align: top;\n",
              "    }\n",
              "\n",
              "    .dataframe thead th {\n",
              "        text-align: right;\n",
              "    }\n",
              "</style>\n",
              "<table border=\"1\" class=\"dataframe\">\n",
              "  <thead>\n",
              "    <tr style=\"text-align: right;\">\n",
              "      <th></th>\n",
              "      <th>Unnamed: 0</th>\n",
              "      <th>MMM-YY</th>\n",
              "      <th>Driver_ID</th>\n",
              "      <th>Age</th>\n",
              "      <th>Gender</th>\n",
              "      <th>City</th>\n",
              "      <th>Education_Level</th>\n",
              "      <th>Income</th>\n",
              "      <th>Dateofjoining</th>\n",
              "      <th>LastWorkingDate</th>\n",
              "      <th>Joining Designation</th>\n",
              "      <th>Grade</th>\n",
              "      <th>Total Business Value</th>\n",
              "      <th>Quarterly Rating</th>\n",
              "    </tr>\n",
              "  </thead>\n",
              "  <tbody>\n",
              "    <tr>\n",
              "      <th>0</th>\n",
              "      <td>0</td>\n",
              "      <td>01/01/19</td>\n",
              "      <td>1</td>\n",
              "      <td>28.0</td>\n",
              "      <td>0.0</td>\n",
              "      <td>C23</td>\n",
              "      <td>2</td>\n",
              "      <td>57387</td>\n",
              "      <td>24/12/18</td>\n",
              "      <td>NaN</td>\n",
              "      <td>1</td>\n",
              "      <td>1</td>\n",
              "      <td>2381060</td>\n",
              "      <td>2</td>\n",
              "    </tr>\n",
              "    <tr>\n",
              "      <th>1</th>\n",
              "      <td>1</td>\n",
              "      <td>02/01/19</td>\n",
              "      <td>1</td>\n",
              "      <td>28.0</td>\n",
              "      <td>0.0</td>\n",
              "      <td>C23</td>\n",
              "      <td>2</td>\n",
              "      <td>57387</td>\n",
              "      <td>24/12/18</td>\n",
              "      <td>NaN</td>\n",
              "      <td>1</td>\n",
              "      <td>1</td>\n",
              "      <td>-665480</td>\n",
              "      <td>2</td>\n",
              "    </tr>\n",
              "    <tr>\n",
              "      <th>2</th>\n",
              "      <td>2</td>\n",
              "      <td>03/01/19</td>\n",
              "      <td>1</td>\n",
              "      <td>28.0</td>\n",
              "      <td>0.0</td>\n",
              "      <td>C23</td>\n",
              "      <td>2</td>\n",
              "      <td>57387</td>\n",
              "      <td>24/12/18</td>\n",
              "      <td>03/11/19</td>\n",
              "      <td>1</td>\n",
              "      <td>1</td>\n",
              "      <td>0</td>\n",
              "      <td>2</td>\n",
              "    </tr>\n",
              "    <tr>\n",
              "      <th>3</th>\n",
              "      <td>3</td>\n",
              "      <td>11/01/20</td>\n",
              "      <td>2</td>\n",
              "      <td>31.0</td>\n",
              "      <td>0.0</td>\n",
              "      <td>C7</td>\n",
              "      <td>2</td>\n",
              "      <td>67016</td>\n",
              "      <td>11/06/20</td>\n",
              "      <td>NaN</td>\n",
              "      <td>2</td>\n",
              "      <td>2</td>\n",
              "      <td>0</td>\n",
              "      <td>1</td>\n",
              "    </tr>\n",
              "    <tr>\n",
              "      <th>4</th>\n",
              "      <td>4</td>\n",
              "      <td>12/01/20</td>\n",
              "      <td>2</td>\n",
              "      <td>31.0</td>\n",
              "      <td>0.0</td>\n",
              "      <td>C7</td>\n",
              "      <td>2</td>\n",
              "      <td>67016</td>\n",
              "      <td>11/06/20</td>\n",
              "      <td>NaN</td>\n",
              "      <td>2</td>\n",
              "      <td>2</td>\n",
              "      <td>0</td>\n",
              "      <td>1</td>\n",
              "    </tr>\n",
              "  </tbody>\n",
              "</table>\n",
              "</div>\n",
              "      <button class=\"colab-df-convert\" onclick=\"convertToInteractive('df-3d21682a-8969-4257-af12-9a432e48879b')\"\n",
              "              title=\"Convert this dataframe to an interactive table.\"\n",
              "              style=\"display:none;\">\n",
              "        \n",
              "  <svg xmlns=\"http://www.w3.org/2000/svg\" height=\"24px\"viewBox=\"0 0 24 24\"\n",
              "       width=\"24px\">\n",
              "    <path d=\"M0 0h24v24H0V0z\" fill=\"none\"/>\n",
              "    <path d=\"M18.56 5.44l.94 2.06.94-2.06 2.06-.94-2.06-.94-.94-2.06-.94 2.06-2.06.94zm-11 1L8.5 8.5l.94-2.06 2.06-.94-2.06-.94L8.5 2.5l-.94 2.06-2.06.94zm10 10l.94 2.06.94-2.06 2.06-.94-2.06-.94-.94-2.06-.94 2.06-2.06.94z\"/><path d=\"M17.41 7.96l-1.37-1.37c-.4-.4-.92-.59-1.43-.59-.52 0-1.04.2-1.43.59L10.3 9.45l-7.72 7.72c-.78.78-.78 2.05 0 2.83L4 21.41c.39.39.9.59 1.41.59.51 0 1.02-.2 1.41-.59l7.78-7.78 2.81-2.81c.8-.78.8-2.07 0-2.86zM5.41 20L4 18.59l7.72-7.72 1.47 1.35L5.41 20z\"/>\n",
              "  </svg>\n",
              "      </button>\n",
              "      \n",
              "  <style>\n",
              "    .colab-df-container {\n",
              "      display:flex;\n",
              "      flex-wrap:wrap;\n",
              "      gap: 12px;\n",
              "    }\n",
              "\n",
              "    .colab-df-convert {\n",
              "      background-color: #E8F0FE;\n",
              "      border: none;\n",
              "      border-radius: 50%;\n",
              "      cursor: pointer;\n",
              "      display: none;\n",
              "      fill: #1967D2;\n",
              "      height: 32px;\n",
              "      padding: 0 0 0 0;\n",
              "      width: 32px;\n",
              "    }\n",
              "\n",
              "    .colab-df-convert:hover {\n",
              "      background-color: #E2EBFA;\n",
              "      box-shadow: 0px 1px 2px rgba(60, 64, 67, 0.3), 0px 1px 3px 1px rgba(60, 64, 67, 0.15);\n",
              "      fill: #174EA6;\n",
              "    }\n",
              "\n",
              "    [theme=dark] .colab-df-convert {\n",
              "      background-color: #3B4455;\n",
              "      fill: #D2E3FC;\n",
              "    }\n",
              "\n",
              "    [theme=dark] .colab-df-convert:hover {\n",
              "      background-color: #434B5C;\n",
              "      box-shadow: 0px 1px 3px 1px rgba(0, 0, 0, 0.15);\n",
              "      filter: drop-shadow(0px 1px 2px rgba(0, 0, 0, 0.3));\n",
              "      fill: #FFFFFF;\n",
              "    }\n",
              "  </style>\n",
              "\n",
              "      <script>\n",
              "        const buttonEl =\n",
              "          document.querySelector('#df-3d21682a-8969-4257-af12-9a432e48879b button.colab-df-convert');\n",
              "        buttonEl.style.display =\n",
              "          google.colab.kernel.accessAllowed ? 'block' : 'none';\n",
              "\n",
              "        async function convertToInteractive(key) {\n",
              "          const element = document.querySelector('#df-3d21682a-8969-4257-af12-9a432e48879b');\n",
              "          const dataTable =\n",
              "            await google.colab.kernel.invokeFunction('convertToInteractive',\n",
              "                                                     [key], {});\n",
              "          if (!dataTable) return;\n",
              "\n",
              "          const docLinkHtml = 'Like what you see? Visit the ' +\n",
              "            '<a target=\"_blank\" href=https://colab.research.google.com/notebooks/data_table.ipynb>data table notebook</a>'\n",
              "            + ' to learn more about interactive tables.';\n",
              "          element.innerHTML = '';\n",
              "          dataTable['output_type'] = 'display_data';\n",
              "          await google.colab.output.renderOutput(dataTable, element);\n",
              "          const docLink = document.createElement('div');\n",
              "          docLink.innerHTML = docLinkHtml;\n",
              "          element.appendChild(docLink);\n",
              "        }\n",
              "      </script>\n",
              "    </div>\n",
              "  </div>\n",
              "  "
            ]
          },
          "metadata": {},
          "execution_count": 215
        }
      ]
    },
    {
      "cell_type": "code",
      "source": [
        "# drop the 1 st column\n",
        "df.drop('Unnamed: 0', axis = 1, inplace= True)"
      ],
      "metadata": {
        "id": "eaUT6B-G5gCO"
      },
      "execution_count": null,
      "outputs": []
    },
    {
      "cell_type": "code",
      "source": [
        "# rename column name from 'MMM-YY' to 'Reporting date'\n",
        "df.rename({'MMM-YY': 'ReportingDate'}, axis=1, inplace=True)"
      ],
      "metadata": {
        "id": "cslGN2iJ6Jxe"
      },
      "execution_count": null,
      "outputs": []
    },
    {
      "cell_type": "code",
      "source": [
        "df.shape"
      ],
      "metadata": {
        "colab": {
          "base_uri": "https://localhost:8080/"
        },
        "id": "wygkzTV0x3d1",
        "outputId": "177b059a-b63c-4d06-d8b6-d6357163a981"
      },
      "execution_count": null,
      "outputs": [
        {
          "output_type": "execute_result",
          "data": {
            "text/plain": [
              "(19104, 13)"
            ]
          },
          "metadata": {},
          "execution_count": 218
        }
      ]
    },
    {
      "cell_type": "code",
      "source": [
        "df.info(verbose = True, null_counts = True)"
      ],
      "metadata": {
        "colab": {
          "base_uri": "https://localhost:8080/"
        },
        "id": "-HpFa3Au05Wf",
        "outputId": "7c6bfcfd-2c82-4dc0-f626-08761dd99927"
      },
      "execution_count": null,
      "outputs": [
        {
          "output_type": "stream",
          "name": "stdout",
          "text": [
            "<class 'pandas.core.frame.DataFrame'>\n",
            "RangeIndex: 19104 entries, 0 to 19103\n",
            "Data columns (total 13 columns):\n",
            " #   Column                Non-Null Count  Dtype  \n",
            "---  ------                --------------  -----  \n",
            " 0   ReportingDate         19104 non-null  object \n",
            " 1   Driver_ID             19104 non-null  int64  \n",
            " 2   Age                   19043 non-null  float64\n",
            " 3   Gender                19052 non-null  float64\n",
            " 4   City                  19104 non-null  object \n",
            " 5   Education_Level       19104 non-null  int64  \n",
            " 6   Income                19104 non-null  int64  \n",
            " 7   Dateofjoining         19104 non-null  object \n",
            " 8   LastWorkingDate       1616 non-null   object \n",
            " 9   Joining Designation   19104 non-null  int64  \n",
            " 10  Grade                 19104 non-null  int64  \n",
            " 11  Total Business Value  19104 non-null  int64  \n",
            " 12  Quarterly Rating      19104 non-null  int64  \n",
            "dtypes: float64(2), int64(7), object(4)\n",
            "memory usage: 1.9+ MB\n"
          ]
        },
        {
          "output_type": "stream",
          "name": "stderr",
          "text": [
            "<ipython-input-219-f6a666cc1a3a>:1: FutureWarning: null_counts is deprecated. Use show_counts instead\n",
            "  df.info(verbose = True, null_counts = True)\n"
          ]
        }
      ]
    },
    {
      "cell_type": "code",
      "source": [
        "#checking null values in every column of our data\n",
        "(df.isnull().sum()/len(df))*100"
      ],
      "metadata": {
        "colab": {
          "base_uri": "https://localhost:8080/"
        },
        "id": "oNCMZsK_1Jbv",
        "outputId": "f2574cba-957e-49fc-824c-fb1e42ece6ed"
      },
      "execution_count": null,
      "outputs": [
        {
          "output_type": "execute_result",
          "data": {
            "text/plain": [
              "ReportingDate            0.000000\n",
              "Driver_ID                0.000000\n",
              "Age                      0.319305\n",
              "Gender                   0.272194\n",
              "City                     0.000000\n",
              "Education_Level          0.000000\n",
              "Income                   0.000000\n",
              "Dateofjoining            0.000000\n",
              "LastWorkingDate         91.541039\n",
              "Joining Designation      0.000000\n",
              "Grade                    0.000000\n",
              "Total Business Value     0.000000\n",
              "Quarterly Rating         0.000000\n",
              "dtype: float64"
            ]
          },
          "metadata": {},
          "execution_count": 220
        }
      ]
    },
    {
      "cell_type": "code",
      "source": [
        "NA_col = (df.isnull().sum()/len(df)) * 100\n",
        "NA_col = NA_col[NA_col > 0] \n",
        "plt.figure(figsize=(20,5))\n",
        "plt.title('list of column with null values')\n",
        "NA_col.plot(kind = 'bar')\n",
        "plt.plot()"
      ],
      "metadata": {
        "colab": {
          "base_uri": "https://localhost:8080/",
          "height": 428
        },
        "id": "8FB3skQY1jZG",
        "outputId": "35a59308-e30c-42ca-a22e-a0675f6830eb"
      },
      "execution_count": null,
      "outputs": [
        {
          "output_type": "execute_result",
          "data": {
            "text/plain": [
              "[]"
            ]
          },
          "metadata": {},
          "execution_count": 221
        },
        {
          "output_type": "display_data",
          "data": {
            "text/plain": [
              "<Figure size 1440x360 with 1 Axes>"
            ],
            "image/png": "[encoded data removed]"
          },
          "metadata": {
            "needs_background": "light"
          }
        }
      ]
    },
    {
      "cell_type": "markdown",
      "source": [
        "<font color='#0dab7f'> Observation:  Age, Gender , LastWorkingDate has null values"
      ],
      "metadata": {
        "id": "bWrXAhkg2SW_"
      }
    },
    {
      "cell_type": "code",
      "source": [
        "# Duplicate check\n",
        "dup = df.duplicated()\n",
        "dup.sum()"
      ],
      "metadata": {
        "colab": {
          "base_uri": "https://localhost:8080/"
        },
        "id": "WHl4KEjuZ1kh",
        "outputId": "c81cee52-3996-45d4-c4b6-557ee8b24cd0"
      },
      "execution_count": null,
      "outputs": [
        {
          "output_type": "execute_result",
          "data": {
            "text/plain": [
              "0"
            ]
          },
          "metadata": {},
          "execution_count": 222
        }
      ]
    },
    {
      "cell_type": "markdown",
      "source": [
        "<font color='#0dab7f'> Observation:  There are no duplicate rows"
      ],
      "metadata": {
        "id": "SNXuGMJtaD5M"
      }
    },
    {
      "cell_type": "code",
      "source": [
        "# describe on column having integer data type\n",
        "df.describe(include = [np.number])"
      ],
      "metadata": {
        "colab": {
          "base_uri": "https://localhost:8080/",
          "height": 300
        },
        "id": "2s1kxrS40lAv",
        "outputId": "591712c8-e194-4a16-d3c0-1a5fdcd661fe"
      },
      "execution_count": null,
      "outputs": [
        {
          "output_type": "execute_result",
          "data": {
            "text/plain": [
              "          Driver_ID           Age        Gender  Education_Level  \\\n",
              "count  19104.000000  19043.000000  19052.000000     19104.000000   \n",
              "mean    1415.591133     34.668435      0.418749         1.021671   \n",
              "std      810.705321      6.257912      0.493367         0.800167   \n",
              "min        1.000000     21.000000      0.000000         0.000000   \n",
              "25%      710.000000     30.000000      0.000000         0.000000   \n",
              "50%     1417.000000     34.000000      0.000000         1.000000   \n",
              "75%     2137.000000     39.000000      1.000000         2.000000   \n",
              "max     2788.000000     58.000000      1.000000         2.000000   \n",
              "\n",
              "              Income  Joining Designation         Grade  Total Business Value  \\\n",
              "count   19104.000000         19104.000000  19104.000000          1.910400e+04   \n",
              "mean    65652.025126             1.690536      2.252670          5.716621e+05   \n",
              "std     30914.515344             0.836984      1.026512          1.128312e+06   \n",
              "min     10747.000000             1.000000      1.000000         -6.000000e+06   \n",
              "25%     42383.000000             1.000000      1.000000          0.000000e+00   \n",
              "50%     60087.000000             1.000000      2.000000          2.500000e+05   \n",
              "75%     83969.000000             2.000000      3.000000          6.997000e+05   \n",
              "max    188418.000000             5.000000      5.000000          3.374772e+07   \n",
              "\n",
              "       Quarterly Rating  \n",
              "count      19104.000000  \n",
              "mean           2.008899  \n",
              "std            1.009832  \n",
              "min            1.000000  \n",
              "25%            1.000000  \n",
              "50%            2.000000  \n",
              "75%            3.000000  \n",
              "max            4.000000  "
            ],
            "text/html": [
              "\n",
              "  <div id=\"df-e2a19638-2afd-422e-9f41-6b5627cf0038\">\n",
              "    <div class=\"colab-df-container\">\n",
              "      <div>\n",
              "<style scoped>\n",
              "    .dataframe tbody tr th:only-of-type {\n",
              "        vertical-align: middle;\n",
              "    }\n",
              "\n",
              "    .dataframe tbody tr th {\n",
              "        vertical-align: top;\n",
              "    }\n",
              "\n",
              "    .dataframe thead th {\n",
              "        text-align: right;\n",
              "    }\n",
              "</style>\n",
              "<table border=\"1\" class=\"dataframe\">\n",
              "  <thead>\n",
              "    <tr style=\"text-align: right;\">\n",
              "      <th></th>\n",
              "      <th>Driver_ID</th>\n",
              "      <th>Age</th>\n",
              "      <th>Gender</th>\n",
              "      <th>Education_Level</th>\n",
              "      <th>Income</th>\n",
              "      <th>Joining Designation</th>\n",
              "      <th>Grade</th>\n",
              "      <th>Total Business Value</th>\n",
              "      <th>Quarterly Rating</th>\n",
              "    </tr>\n",
              "  </thead>\n",
              "  <tbody>\n",
              "    <tr>\n",
              "      <th>count</th>\n",
              "      <td>19104.000000</td>\n",
              "      <td>19043.000000</td>\n",
              "      <td>19052.000000</td>\n",
              "      <td>19104.000000</td>\n",
              "      <td>19104.000000</td>\n",
              "      <td>19104.000000</td>\n",
              "      <td>19104.000000</td>\n",
              "      <td>1.910400e+04</td>\n",
              "      <td>19104.000000</td>\n",
              "    </tr>\n",
              "    <tr>\n",
              "      <th>mean</th>\n",
              "      <td>1415.591133</td>\n",
              "      <td>34.668435</td>\n",
              "      <td>0.418749</td>\n",
              "      <td>1.021671</td>\n",
              "      <td>65652.025126</td>\n",
              "      <td>1.690536</td>\n",
              "      <td>2.252670</td>\n",
              "      <td>5.716621e+05</td>\n",
              "      <td>2.008899</td>\n",
              "    </tr>\n",
              "    <tr>\n",
              "      <th>std</th>\n",
              "      <td>810.705321</td>\n",
              "      <td>6.257912</td>\n",
              "      <td>0.493367</td>\n",
              "      <td>0.800167</td>\n",
              "      <td>30914.515344</td>\n",
              "      <td>0.836984</td>\n",
              "      <td>1.026512</td>\n",
              "      <td>1.128312e+06</td>\n",
              "      <td>1.009832</td>\n",
              "    </tr>\n",
              "    <tr>\n",
              "      <th>min</th>\n",
              "      <td>1.000000</td>\n",
              "      <td>21.000000</td>\n",
              "      <td>0.000000</td>\n",
              "      <td>0.000000</td>\n",
              "      <td>10747.000000</td>\n",
              "      <td>1.000000</td>\n",
              "      <td>1.000000</td>\n",
              "      <td>-6.000000e+06</td>\n",
              "      <td>1.000000</td>\n",
              "    </tr>\n",
              "    <tr>\n",
              "      <th>25%</th>\n",
              "      <td>710.000000</td>\n",
              "      <td>30.000000</td>\n",
              "      <td>0.000000</td>\n",
              "      <td>0.000000</td>\n",
              "      <td>42383.000000</td>\n",
              "      <td>1.000000</td>\n",
              "      <td>1.000000</td>\n",
              "      <td>0.000000e+00</td>\n",
              "      <td>1.000000</td>\n",
              "    </tr>\n",
              "    <tr>\n",
              "      <th>50%</th>\n",
              "      <td>1417.000000</td>\n",
              "      <td>34.000000</td>\n",
              "      <td>0.000000</td>\n",
              "      <td>1.000000</td>\n",
              "      <td>60087.000000</td>\n",
              "      <td>1.000000</td>\n",
              "      <td>2.000000</td>\n",
              "      <td>2.500000e+05</td>\n",
              "      <td>2.000000</td>\n",
              "    </tr>\n",
              "    <tr>\n",
              "      <th>75%</th>\n",
              "      <td>2137.000000</td>\n",
              "      <td>39.000000</td>\n",
              "      <td>1.000000</td>\n",
              "      <td>2.000000</td>\n",
              "      <td>83969.000000</td>\n",
              "      <td>2.000000</td>\n",
              "      <td>3.000000</td>\n",
              "      <td>6.997000e+05</td>\n",
              "      <td>3.000000</td>\n",
              "    </tr>\n",
              "    <tr>\n",
              "      <th>max</th>\n",
              "      <td>2788.000000</td>\n",
              "      <td>58.000000</td>\n",
              "      <td>1.000000</td>\n",
              "      <td>2.000000</td>\n",
              "      <td>188418.000000</td>\n",
              "      <td>5.000000</td>\n",
              "      <td>5.000000</td>\n",
              "      <td>3.374772e+07</td>\n",
              "      <td>4.000000</td>\n",
              "    </tr>\n",
              "  </tbody>\n",
              "</table>\n",
              "</div>\n",
              "      <button class=\"colab-df-convert\" onclick=\"convertToInteractive('df-e2a19638-2afd-422e-9f41-6b5627cf0038')\"\n",
              "              title=\"Convert this dataframe to an interactive table.\"\n",
              "              style=\"display:none;\">\n",
              "        \n",
              "  <svg xmlns=\"http://www.w3.org/2000/svg\" height=\"24px\"viewBox=\"0 0 24 24\"\n",
              "       width=\"24px\">\n",
              "    <path d=\"M0 0h24v24H0V0z\" fill=\"none\"/>\n",
              "    <path d=\"M18.56 5.44l.94 2.06.94-2.06 2.06-.94-2.06-.94-.94-2.06-.94 2.06-2.06.94zm-11 1L8.5 8.5l.94-2.06 2.06-.94-2.06-.94L8.5 2.5l-.94 2.06-2.06.94zm10 10l.94 2.06.94-2.06 2.06-.94-2.06-.94-.94-2.06-.94 2.06-2.06.94z\"/><path d=\"M17.41 7.96l-1.37-1.37c-.4-.4-.92-.59-1.43-.59-.52 0-1.04.2-1.43.59L10.3 9.45l-7.72 7.72c-.78.78-.78 2.05 0 2.83L4 21.41c.39.39.9.59 1.41.59.51 0 1.02-.2 1.41-.59l7.78-7.78 2.81-2.81c.8-.78.8-2.07 0-2.86zM5.41 20L4 18.59l7.72-7.72 1.47 1.35L5.41 20z\"/>\n",
              "  </svg>\n",
              "      </button>\n",
              "      \n",
              "  <style>\n",
              "    .colab-df-container {\n",
              "      display:flex;\n",
              "      flex-wrap:wrap;\n",
              "      gap: 12px;\n",
              "    }\n",
              "\n",
              "    .colab-df-convert {\n",
              "      background-color: #E8F0FE;\n",
              "      border: none;\n",
              "      border-radius: 50%;\n",
              "      cursor: pointer;\n",
              "      display: none;\n",
              "      fill: #1967D2;\n",
              "      height: 32px;\n",
              "      padding: 0 0 0 0;\n",
              "      width: 32px;\n",
              "    }\n",
              "\n",
              "    .colab-df-convert:hover {\n",
              "      background-color: #E2EBFA;\n",
              "      box-shadow: 0px 1px 2px rgba(60, 64, 67, 0.3), 0px 1px 3px 1px rgba(60, 64, 67, 0.15);\n",
              "      fill: #174EA6;\n",
              "    }\n",
              "\n",
              "    [theme=dark] .colab-df-convert {\n",
              "      background-color: #3B4455;\n",
              "      fill: #D2E3FC;\n",
              "    }\n",
              "\n",
              "    [theme=dark] .colab-df-convert:hover {\n",
              "      background-color: #434B5C;\n",
              "      box-shadow: 0px 1px 3px 1px rgba(0, 0, 0, 0.15);\n",
              "      filter: drop-shadow(0px 1px 2px rgba(0, 0, 0, 0.3));\n",
              "      fill: #FFFFFF;\n",
              "    }\n",
              "  </style>\n",
              "\n",
              "      <script>\n",
              "        const buttonEl =\n",
              "          document.querySelector('#df-e2a19638-2afd-422e-9f41-6b5627cf0038 button.colab-df-convert');\n",
              "        buttonEl.style.display =\n",
              "          google.colab.kernel.accessAllowed ? 'block' : 'none';\n",
              "\n",
              "        async function convertToInteractive(key) {\n",
              "          const element = document.querySelector('#df-e2a19638-2afd-422e-9f41-6b5627cf0038');\n",
              "          const dataTable =\n",
              "            await google.colab.kernel.invokeFunction('convertToInteractive',\n",
              "                                                     [key], {});\n",
              "          if (!dataTable) return;\n",
              "\n",
              "          const docLinkHtml = 'Like what you see? Visit the ' +\n",
              "            '<a target=\"_blank\" href=https://colab.research.google.com/notebooks/data_table.ipynb>data table notebook</a>'\n",
              "            + ' to learn more about interactive tables.';\n",
              "          element.innerHTML = '';\n",
              "          dataTable['output_type'] = 'display_data';\n",
              "          await google.colab.output.renderOutput(dataTable, element);\n",
              "          const docLink = document.createElement('div');\n",
              "          docLink.innerHTML = docLinkHtml;\n",
              "          element.appendChild(docLink);\n",
              "        }\n",
              "      </script>\n",
              "    </div>\n",
              "  </div>\n",
              "  "
            ]
          },
          "metadata": {},
          "execution_count": 223
        }
      ]
    },
    {
      "cell_type": "code",
      "source": [
        "# describe on column having object data type\n",
        "df.describe(include = 'object')"
      ],
      "metadata": {
        "colab": {
          "base_uri": "https://localhost:8080/",
          "height": 175
        },
        "id": "b7htWYun2gfI",
        "outputId": "2f7c17b3-6da1-4fb3-bc9c-50916712db20"
      },
      "execution_count": null,
      "outputs": [
        {
          "output_type": "execute_result",
          "data": {
            "text/plain": [
              "       ReportingDate   City Dateofjoining LastWorkingDate\n",
              "count          19104  19104         19104            1616\n",
              "unique            24     29           869             493\n",
              "top         01/01/19    C20      23/07/15        29/07/20\n",
              "freq            1022   1008           192              70"
            ],
            "text/html": [
              "\n",
              "  <div id=\"df-4f029656-621d-40ba-bc3c-ac61efb89ca4\">\n",
              "    <div class=\"colab-df-container\">\n",
              "      <div>\n",
              "<style scoped>\n",
              "    .dataframe tbody tr th:only-of-type {\n",
              "        vertical-align: middle;\n",
              "    }\n",
              "\n",
              "    .dataframe tbody tr th {\n",
              "        vertical-align: top;\n",
              "    }\n",
              "\n",
              "    .dataframe thead th {\n",
              "        text-align: right;\n",
              "    }\n",
              "</style>\n",
              "<table border=\"1\" class=\"dataframe\">\n",
              "  <thead>\n",
              "    <tr style=\"text-align: right;\">\n",
              "      <th></th>\n",
              "      <th>ReportingDate</th>\n",
              "      <th>City</th>\n",
              "      <th>Dateofjoining</th>\n",
              "      <th>LastWorkingDate</th>\n",
              "    </tr>\n",
              "  </thead>\n",
              "  <tbody>\n",
              "    <tr>\n",
              "      <th>count</th>\n",
              "      <td>19104</td>\n",
              "      <td>19104</td>\n",
              "      <td>19104</td>\n",
              "      <td>1616</td>\n",
              "    </tr>\n",
              "    <tr>\n",
              "      <th>unique</th>\n",
              "      <td>24</td>\n",
              "      <td>29</td>\n",
              "      <td>869</td>\n",
              "      <td>493</td>\n",
              "    </tr>\n",
              "    <tr>\n",
              "      <th>top</th>\n",
              "      <td>01/01/19</td>\n",
              "      <td>C20</td>\n",
              "      <td>23/07/15</td>\n",
              "      <td>29/07/20</td>\n",
              "    </tr>\n",
              "    <tr>\n",
              "      <th>freq</th>\n",
              "      <td>1022</td>\n",
              "      <td>1008</td>\n",
              "      <td>192</td>\n",
              "      <td>70</td>\n",
              "    </tr>\n",
              "  </tbody>\n",
              "</table>\n",
              "</div>\n",
              "      <button class=\"colab-df-convert\" onclick=\"convertToInteractive('df-4f029656-621d-40ba-bc3c-ac61efb89ca4')\"\n",
              "              title=\"Convert this dataframe to an interactive table.\"\n",
              "              style=\"display:none;\">\n",
              "        \n",
              "  <svg xmlns=\"http://www.w3.org/2000/svg\" height=\"24px\"viewBox=\"0 0 24 24\"\n",
              "       width=\"24px\">\n",
              "    <path d=\"M0 0h24v24H0V0z\" fill=\"none\"/>\n",
              "    <path d=\"M18.56 5.44l.94 2.06.94-2.06 2.06-.94-2.06-.94-.94-2.06-.94 2.06-2.06.94zm-11 1L8.5 8.5l.94-2.06 2.06-.94-2.06-.94L8.5 2.5l-.94 2.06-2.06.94zm10 10l.94 2.06.94-2.06 2.06-.94-2.06-.94-.94-2.06-.94 2.06-2.06.94z\"/><path d=\"M17.41 7.96l-1.37-1.37c-.4-.4-.92-.59-1.43-.59-.52 0-1.04.2-1.43.59L10.3 9.45l-7.72 7.72c-.78.78-.78 2.05 0 2.83L4 21.41c.39.39.9.59 1.41.59.51 0 1.02-.2 1.41-.59l7.78-7.78 2.81-2.81c.8-.78.8-2.07 0-2.86zM5.41 20L4 18.59l7.72-7.72 1.47 1.35L5.41 20z\"/>\n",
              "  </svg>\n",
              "      </button>\n",
              "      \n",
              "  <style>\n",
              "    .colab-df-container {\n",
              "      display:flex;\n",
              "      flex-wrap:wrap;\n",
              "      gap: 12px;\n",
              "    }\n",
              "\n",
              "    .colab-df-convert {\n",
              "      background-color: #E8F0FE;\n",
              "      border: none;\n",
              "      border-radius: 50%;\n",
              "      cursor: pointer;\n",
              "      display: none;\n",
              "      fill: #1967D2;\n",
              "      height: 32px;\n",
              "      padding: 0 0 0 0;\n",
              "      width: 32px;\n",
              "    }\n",
              "\n",
              "    .colab-df-convert:hover {\n",
              "      background-color: #E2EBFA;\n",
              "      box-shadow: 0px 1px 2px rgba(60, 64, 67, 0.3), 0px 1px 3px 1px rgba(60, 64, 67, 0.15);\n",
              "      fill: #174EA6;\n",
              "    }\n",
              "\n",
              "    [theme=dark] .colab-df-convert {\n",
              "      background-color: #3B4455;\n",
              "      fill: #D2E3FC;\n",
              "    }\n",
              "\n",
              "    [theme=dark] .colab-df-convert:hover {\n",
              "      background-color: #434B5C;\n",
              "      box-shadow: 0px 1px 3px 1px rgba(0, 0, 0, 0.15);\n",
              "      filter: drop-shadow(0px 1px 2px rgba(0, 0, 0, 0.3));\n",
              "      fill: #FFFFFF;\n",
              "    }\n",
              "  </style>\n",
              "\n",
              "      <script>\n",
              "        const buttonEl =\n",
              "          document.querySelector('#df-4f029656-621d-40ba-bc3c-ac61efb89ca4 button.colab-df-convert');\n",
              "        buttonEl.style.display =\n",
              "          google.colab.kernel.accessAllowed ? 'block' : 'none';\n",
              "\n",
              "        async function convertToInteractive(key) {\n",
              "          const element = document.querySelector('#df-4f029656-621d-40ba-bc3c-ac61efb89ca4');\n",
              "          const dataTable =\n",
              "            await google.colab.kernel.invokeFunction('convertToInteractive',\n",
              "                                                     [key], {});\n",
              "          if (!dataTable) return;\n",
              "\n",
              "          const docLinkHtml = 'Like what you see? Visit the ' +\n",
              "            '<a target=\"_blank\" href=https://colab.research.google.com/notebooks/data_table.ipynb>data table notebook</a>'\n",
              "            + ' to learn more about interactive tables.';\n",
              "          element.innerHTML = '';\n",
              "          dataTable['output_type'] = 'display_data';\n",
              "          await google.colab.output.renderOutput(dataTable, element);\n",
              "          const docLink = document.createElement('div');\n",
              "          docLink.innerHTML = docLinkHtml;\n",
              "          element.appendChild(docLink);\n",
              "        }\n",
              "      </script>\n",
              "    </div>\n",
              "  </div>\n",
              "  "
            ]
          },
          "metadata": {},
          "execution_count": 224
        }
      ]
    },
    {
      "cell_type": "code",
      "source": [
        "# Convert date-like features to their respective data type\n",
        "\n",
        "df['Dateofjoining'] = pd.to_datetime(df['Dateofjoining'])\n",
        "df['LastWorkingDate'] = pd.to_datetime(df['LastWorkingDate'])\n",
        "df['ReportingDate'] = pd.to_datetime(df['ReportingDate'])\n",
        "df.info(verbose = True, null_counts = True)"
      ],
      "metadata": {
        "colab": {
          "base_uri": "https://localhost:8080/"
        },
        "id": "SqySDIQb3E5X",
        "outputId": "d5ea2815-4f04-479b-e4a7-f5ee0f2d5a19"
      },
      "execution_count": null,
      "outputs": [
        {
          "output_type": "stream",
          "name": "stdout",
          "text": [
            "<class 'pandas.core.frame.DataFrame'>\n",
            "RangeIndex: 19104 entries, 0 to 19103\n",
            "Data columns (total 13 columns):\n",
            " #   Column                Non-Null Count  Dtype         \n",
            "---  ------                --------------  -----         \n",
            " 0   ReportingDate         19104 non-null  datetime64[ns]\n",
            " 1   Driver_ID             19104 non-null  int64         \n",
            " 2   Age                   19043 non-null  float64       \n",
            " 3   Gender                19052 non-null  float64       \n",
            " 4   City                  19104 non-null  object        \n",
            " 5   Education_Level       19104 non-null  int64         \n",
            " 6   Income                19104 non-null  int64         \n",
            " 7   Dateofjoining         19104 non-null  datetime64[ns]\n",
            " 8   LastWorkingDate       1616 non-null   datetime64[ns]\n",
            " 9   Joining Designation   19104 non-null  int64         \n",
            " 10  Grade                 19104 non-null  int64         \n",
            " 11  Total Business Value  19104 non-null  int64         \n",
            " 12  Quarterly Rating      19104 non-null  int64         \n",
            "dtypes: datetime64[ns](3), float64(2), int64(7), object(1)\n",
            "memory usage: 1.9+ MB\n"
          ]
        },
        {
          "output_type": "stream",
          "name": "stderr",
          "text": [
            "<ipython-input-225-84ce7f967f71>:6: FutureWarning: null_counts is deprecated. Use show_counts instead\n",
            "  df.info(verbose = True, null_counts = True)\n"
          ]
        }
      ]
    },
    {
      "cell_type": "code",
      "source": [
        "# describe on column having datetime data type\n",
        "df.describe(include = 'datetime')"
      ],
      "metadata": {
        "colab": {
          "base_uri": "https://localhost:8080/",
          "height": 292
        },
        "id": "vga3eBCh6sMX",
        "outputId": "064543c4-6db9-44ca-9c28-da2016c4dfd9"
      },
      "execution_count": null,
      "outputs": [
        {
          "output_type": "stream",
          "name": "stderr",
          "text": [
            "<ipython-input-226-885c4c045016>:2: FutureWarning: Treating datetime data as categorical rather than numeric in `.describe` is deprecated and will be removed in a future version of pandas. Specify `datetime_is_numeric=True` to silence this warning and adopt the future behavior now.\n",
            "  df.describe(include = 'datetime')\n"
          ]
        },
        {
          "output_type": "execute_result",
          "data": {
            "text/plain": [
              "              ReportingDate        Dateofjoining      LastWorkingDate\n",
              "count                 19104                19104                 1616\n",
              "unique                   24                  869                  493\n",
              "top     2019-01-01 00:00:00  2015-07-23 00:00:00  2020-07-29 00:00:00\n",
              "freq                   1022                  192                   70\n",
              "first   2019-01-01 00:00:00  2013-04-01 00:00:00  2018-12-31 00:00:00\n",
              "last    2020-12-01 00:00:00  2020-12-28 00:00:00  2020-12-28 00:00:00"
            ],
            "text/html": [
              "\n",
              "  <div id=\"df-bfad2eb9-4348-45aa-bed1-2f057cb64fcb\">\n",
              "    <div class=\"colab-df-container\">\n",
              "      <div>\n",
              "<style scoped>\n",
              "    .dataframe tbody tr th:only-of-type {\n",
              "        vertical-align: middle;\n",
              "    }\n",
              "\n",
              "    .dataframe tbody tr th {\n",
              "        vertical-align: top;\n",
              "    }\n",
              "\n",
              "    .dataframe thead th {\n",
              "        text-align: right;\n",
              "    }\n",
              "</style>\n",
              "<table border=\"1\" class=\"dataframe\">\n",
              "  <thead>\n",
              "    <tr style=\"text-align: right;\">\n",
              "      <th></th>\n",
              "      <th>ReportingDate</th>\n",
              "      <th>Dateofjoining</th>\n",
              "      <th>LastWorkingDate</th>\n",
              "    </tr>\n",
              "  </thead>\n",
              "  <tbody>\n",
              "    <tr>\n",
              "      <th>count</th>\n",
              "      <td>19104</td>\n",
              "      <td>19104</td>\n",
              "      <td>1616</td>\n",
              "    </tr>\n",
              "    <tr>\n",
              "      <th>unique</th>\n",
              "      <td>24</td>\n",
              "      <td>869</td>\n",
              "      <td>493</td>\n",
              "    </tr>\n",
              "    <tr>\n",
              "      <th>top</th>\n",
              "      <td>2019-01-01 00:00:00</td>\n",
              "      <td>2015-07-23 00:00:00</td>\n",
              "      <td>2020-07-29 00:00:00</td>\n",
              "    </tr>\n",
              "    <tr>\n",
              "      <th>freq</th>\n",
              "      <td>1022</td>\n",
              "      <td>192</td>\n",
              "      <td>70</td>\n",
              "    </tr>\n",
              "    <tr>\n",
              "      <th>first</th>\n",
              "      <td>2019-01-01 00:00:00</td>\n",
              "      <td>2013-04-01 00:00:00</td>\n",
              "      <td>2018-12-31 00:00:00</td>\n",
              "    </tr>\n",
              "    <tr>\n",
              "      <th>last</th>\n",
              "      <td>2020-12-01 00:00:00</td>\n",
              "      <td>2020-12-28 00:00:00</td>\n",
              "      <td>2020-12-28 00:00:00</td>\n",
              "    </tr>\n",
              "  </tbody>\n",
              "</table>\n",
              "</div>\n",
              "      <button class=\"colab-df-convert\" onclick=\"convertToInteractive('df-bfad2eb9-4348-45aa-bed1-2f057cb64fcb')\"\n",
              "              title=\"Convert this dataframe to an interactive table.\"\n",
              "              style=\"display:none;\">\n",
              "        \n",
              "  <svg xmlns=\"http://www.w3.org/2000/svg\" height=\"24px\"viewBox=\"0 0 24 24\"\n",
              "       width=\"24px\">\n",
              "    <path d=\"M0 0h24v24H0V0z\" fill=\"none\"/>\n",
              "    <path d=\"M18.56 5.44l.94 2.06.94-2.06 2.06-.94-2.06-.94-.94-2.06-.94 2.06-2.06.94zm-11 1L8.5 8.5l.94-2.06 2.06-.94-2.06-.94L8.5 2.5l-.94 2.06-2.06.94zm10 10l.94 2.06.94-2.06 2.06-.94-2.06-.94-.94-2.06-.94 2.06-2.06.94z\"/><path d=\"M17.41 7.96l-1.37-1.37c-.4-.4-.92-.59-1.43-.59-.52 0-1.04.2-1.43.59L10.3 9.45l-7.72 7.72c-.78.78-.78 2.05 0 2.83L4 21.41c.39.39.9.59 1.41.59.51 0 1.02-.2 1.41-.59l7.78-7.78 2.81-2.81c.8-.78.8-2.07 0-2.86zM5.41 20L4 18.59l7.72-7.72 1.47 1.35L5.41 20z\"/>\n",
              "  </svg>\n",
              "      </button>\n",
              "      \n",
              "  <style>\n",
              "    .colab-df-container {\n",
              "      display:flex;\n",
              "      flex-wrap:wrap;\n",
              "      gap: 12px;\n",
              "    }\n",
              "\n",
              "    .colab-df-convert {\n",
              "      background-color: #E8F0FE;\n",
              "      border: none;\n",
              "      border-radius: 50%;\n",
              "      cursor: pointer;\n",
              "      display: none;\n",
              "      fill: #1967D2;\n",
              "      height: 32px;\n",
              "      padding: 0 0 0 0;\n",
              "      width: 32px;\n",
              "    }\n",
              "\n",
              "    .colab-df-convert:hover {\n",
              "      background-color: #E2EBFA;\n",
              "      box-shadow: 0px 1px 2px rgba(60, 64, 67, 0.3), 0px 1px 3px 1px rgba(60, 64, 67, 0.15);\n",
              "      fill: #174EA6;\n",
              "    }\n",
              "\n",
              "    [theme=dark] .colab-df-convert {\n",
              "      background-color: #3B4455;\n",
              "      fill: #D2E3FC;\n",
              "    }\n",
              "\n",
              "    [theme=dark] .colab-df-convert:hover {\n",
              "      background-color: #434B5C;\n",
              "      box-shadow: 0px 1px 3px 1px rgba(0, 0, 0, 0.15);\n",
              "      filter: drop-shadow(0px 1px 2px rgba(0, 0, 0, 0.3));\n",
              "      fill: #FFFFFF;\n",
              "    }\n",
              "  </style>\n",
              "\n",
              "      <script>\n",
              "        const buttonEl =\n",
              "          document.querySelector('#df-bfad2eb9-4348-45aa-bed1-2f057cb64fcb button.colab-df-convert');\n",
              "        buttonEl.style.display =\n",
              "          google.colab.kernel.accessAllowed ? 'block' : 'none';\n",
              "\n",
              "        async function convertToInteractive(key) {\n",
              "          const element = document.querySelector('#df-bfad2eb9-4348-45aa-bed1-2f057cb64fcb');\n",
              "          const dataTable =\n",
              "            await google.colab.kernel.invokeFunction('convertToInteractive',\n",
              "                                                     [key], {});\n",
              "          if (!dataTable) return;\n",
              "\n",
              "          const docLinkHtml = 'Like what you see? Visit the ' +\n",
              "            '<a target=\"_blank\" href=https://colab.research.google.com/notebooks/data_table.ipynb>data table notebook</a>'\n",
              "            + ' to learn more about interactive tables.';\n",
              "          element.innerHTML = '';\n",
              "          dataTable['output_type'] = 'display_data';\n",
              "          await google.colab.output.renderOutput(dataTable, element);\n",
              "          const docLink = document.createElement('div');\n",
              "          docLink.innerHTML = docLinkHtml;\n",
              "          element.appendChild(docLink);\n",
              "        }\n",
              "      </script>\n",
              "    </div>\n",
              "  </div>\n",
              "  "
            ]
          },
          "metadata": {},
          "execution_count": 226
        }
      ]
    },
    {
      "cell_type": "code",
      "source": [
        "#Check for missing values and Prepare data for KNN Imputation\n",
        "# You may consider only numerical features for this purpose\n",
        "df_nums = df.select_dtypes(include = np.number)\n",
        "df_col = df_nums.columns\n",
        "df_nums.isnull().sum()"
      ],
      "metadata": {
        "colab": {
          "base_uri": "https://localhost:8080/"
        },
        "id": "daUqoIwsQCWP",
        "outputId": "99d6bb61-193c-434f-ec2e-49c289922be8"
      },
      "execution_count": null,
      "outputs": [
        {
          "output_type": "execute_result",
          "data": {
            "text/plain": [
              "Driver_ID                0\n",
              "Age                     61\n",
              "Gender                  52\n",
              "Education_Level          0\n",
              "Income                   0\n",
              "Joining Designation      0\n",
              "Grade                    0\n",
              "Total Business Value     0\n",
              "Quarterly Rating         0\n",
              "dtype: int64"
            ]
          },
          "metadata": {},
          "execution_count": 227
        }
      ]
    },
    {
      "cell_type": "code",
      "source": [
        "from sklearn.impute import KNNImputer\n",
        "imputer = KNNImputer(n_neighbors= 2, weights = 'uniform')\n",
        "df_nums = imputer.fit_transform(df_nums)\n",
        "df_num = pd.DataFrame(df_nums , columns = df_col)\n",
        "df_num.isnull().sum()"
      ],
      "metadata": {
        "colab": {
          "base_uri": "https://localhost:8080/"
        },
        "id": "yBuHR4ReM2z2",
        "outputId": "b172e43f-09a6-4a1b-fb52-f17304fa2359"
      },
      "execution_count": null,
      "outputs": [
        {
          "output_type": "execute_result",
          "data": {
            "text/plain": [
              "Driver_ID               0\n",
              "Age                     0\n",
              "Gender                  0\n",
              "Education_Level         0\n",
              "Income                  0\n",
              "Joining Designation     0\n",
              "Grade                   0\n",
              "Total Business Value    0\n",
              "Quarterly Rating        0\n",
              "dtype: int64"
            ]
          },
          "metadata": {},
          "execution_count": 228
        }
      ]
    },
    {
      "cell_type": "code",
      "source": [
        "# adding the imputed numerical columns to original data farme\n",
        "df[df_col] = df_num"
      ],
      "metadata": {
        "id": "BbLQRha9TlcL"
      },
      "execution_count": null,
      "outputs": []
    },
    {
      "cell_type": "code",
      "source": [
        "df.isnull().sum()"
      ],
      "metadata": {
        "colab": {
          "base_uri": "https://localhost:8080/"
        },
        "id": "3tNY7HUoTfN2",
        "outputId": "a0b26d4f-8813-4d25-a85c-d48ce54a561a"
      },
      "execution_count": null,
      "outputs": [
        {
          "output_type": "execute_result",
          "data": {
            "text/plain": [
              "ReportingDate               0\n",
              "Driver_ID                   0\n",
              "Age                         0\n",
              "Gender                      0\n",
              "City                        0\n",
              "Education_Level             0\n",
              "Income                      0\n",
              "Dateofjoining               0\n",
              "LastWorkingDate         17488\n",
              "Joining Designation         0\n",
              "Grade                       0\n",
              "Total Business Value        0\n",
              "Quarterly Rating            0\n",
              "dtype: int64"
            ]
          },
          "metadata": {},
          "execution_count": 230
        }
      ]
    },
    {
      "cell_type": "code",
      "source": [
        "# selected one driver id to analyse the behaviour of each column\n",
        "df[df['Driver_ID'] == 2788]"
      ],
      "metadata": {
        "colab": {
          "base_uri": "https://localhost:8080/",
          "height": 269
        },
        "id": "tbCsC0HOEo11",
        "outputId": "0dfb261e-247a-4d03-82f7-3f393e5b6b31"
      },
      "execution_count": null,
      "outputs": [
        {
          "output_type": "execute_result",
          "data": {
            "text/plain": [
              "      ReportingDate  Driver_ID   Age  Gender City  Education_Level   Income  \\\n",
              "19097    2020-06-01     2788.0  29.0     0.0  C27              2.0  70254.0   \n",
              "19098    2020-07-01     2788.0  30.0     0.0  C27              2.0  70254.0   \n",
              "19099    2020-08-01     2788.0  30.0     0.0  C27              2.0  70254.0   \n",
              "19100    2020-09-01     2788.0  30.0     0.0  C27              2.0  70254.0   \n",
              "19101    2020-10-01     2788.0  30.0     0.0  C27              2.0  70254.0   \n",
              "19102    2020-11-01     2788.0  30.0     0.0  C27              2.0  70254.0   \n",
              "19103    2020-12-01     2788.0  30.0     0.0  C27              2.0  70254.0   \n",
              "\n",
              "      Dateofjoining LastWorkingDate  Joining Designation  Grade  \\\n",
              "19097    2020-06-08             NaT                  2.0    2.0   \n",
              "19098    2020-06-08             NaT                  2.0    2.0   \n",
              "19099    2020-06-08             NaT                  2.0    2.0   \n",
              "19100    2020-06-08             NaT                  2.0    2.0   \n",
              "19101    2020-06-08             NaT                  2.0    2.0   \n",
              "19102    2020-06-08             NaT                  2.0    2.0   \n",
              "19103    2020-06-08             NaT                  2.0    2.0   \n",
              "\n",
              "       Total Business Value  Quarterly Rating  \n",
              "19097                   0.0               1.0  \n",
              "19098              497690.0               3.0  \n",
              "19099              740280.0               3.0  \n",
              "19100              448370.0               3.0  \n",
              "19101                   0.0               2.0  \n",
              "19102              200420.0               2.0  \n",
              "19103              411480.0               2.0  "
            ],
            "text/html": [
              "\n",
              "  <div id=\"df-667f0635-00d5-4ccc-9677-4e2fe5e55669\">\n",
              "    <div class=\"colab-df-container\">\n",
              "      <div>\n",
              "<style scoped>\n",
              "    .dataframe tbody tr th:only-of-type {\n",
              "        vertical-align: middle;\n",
              "    }\n",
              "\n",
              "    .dataframe tbody tr th {\n",
              "        vertical-align: top;\n",
              "    }\n",
              "\n",
              "    .dataframe thead th {\n",
              "        text-align: right;\n",
              "    }\n",
              "</style>\n",
              "<table border=\"1\" class=\"dataframe\">\n",
              "  <thead>\n",
              "    <tr style=\"text-align: right;\">\n",
              "      <th></th>\n",
              "      <th>ReportingDate</th>\n",
              "      <th>Driver_ID</th>\n",
              "      <th>Age</th>\n",
              "      <th>Gender</th>\n",
              "      <th>City</th>\n",
              "      <th>Education_Level</th>\n",
              "      <th>Income</th>\n",
              "      <th>Dateofjoining</th>\n",
              "      <th>LastWorkingDate</th>\n",
              "      <th>Joining Designation</th>\n",
              "      <th>Grade</th>\n",
              "      <th>Total Business Value</th>\n",
              "      <th>Quarterly Rating</th>\n",
              "    </tr>\n",
              "  </thead>\n",
              "  <tbody>\n",
              "    <tr>\n",
              "      <th>19097</th>\n",
              "      <td>2020-06-01</td>\n",
              "      <td>2788.0</td>\n",
              "      <td>29.0</td>\n",
              "      <td>0.0</td>\n",
              "      <td>C27</td>\n",
              "      <td>2.0</td>\n",
              "      <td>70254.0</td>\n",
              "      <td>2020-06-08</td>\n",
              "      <td>NaT</td>\n",
              "      <td>2.0</td>\n",
              "      <td>2.0</td>\n",
              "      <td>0.0</td>\n",
              "      <td>1.0</td>\n",
              "    </tr>\n",
              "    <tr>\n",
              "      <th>19098</th>\n",
              "      <td>2020-07-01</td>\n",
              "      <td>2788.0</td>\n",
              "      <td>30.0</td>\n",
              "      <td>0.0</td>\n",
              "      <td>C27</td>\n",
              "      <td>2.0</td>\n",
              "      <td>70254.0</td>\n",
              "      <td>2020-06-08</td>\n",
              "      <td>NaT</td>\n",
              "      <td>2.0</td>\n",
              "      <td>2.0</td>\n",
              "      <td>497690.0</td>\n",
              "      <td>3.0</td>\n",
              "    </tr>\n",
              "    <tr>\n",
              "      <th>19099</th>\n",
              "      <td>2020-08-01</td>\n",
              "      <td>2788.0</td>\n",
              "      <td>30.0</td>\n",
              "      <td>0.0</td>\n",
              "      <td>C27</td>\n",
              "      <td>2.0</td>\n",
              "      <td>70254.0</td>\n",
              "      <td>2020-06-08</td>\n",
              "      <td>NaT</td>\n",
              "      <td>2.0</td>\n",
              "      <td>2.0</td>\n",
              "      <td>740280.0</td>\n",
              "      <td>3.0</td>\n",
              "    </tr>\n",
              "    <tr>\n",
              "      <th>19100</th>\n",
              "      <td>2020-09-01</td>\n",
              "      <td>2788.0</td>\n",
              "      <td>30.0</td>\n",
              "      <td>0.0</td>\n",
              "      <td>C27</td>\n",
              "      <td>2.0</td>\n",
              "      <td>70254.0</td>\n",
              "      <td>2020-06-08</td>\n",
              "      <td>NaT</td>\n",
              "      <td>2.0</td>\n",
              "      <td>2.0</td>\n",
              "      <td>448370.0</td>\n",
              "      <td>3.0</td>\n",
              "    </tr>\n",
              "    <tr>\n",
              "      <th>19101</th>\n",
              "      <td>2020-10-01</td>\n",
              "      <td>2788.0</td>\n",
              "      <td>30.0</td>\n",
              "      <td>0.0</td>\n",
              "      <td>C27</td>\n",
              "      <td>2.0</td>\n",
              "      <td>70254.0</td>\n",
              "      <td>2020-06-08</td>\n",
              "      <td>NaT</td>\n",
              "      <td>2.0</td>\n",
              "      <td>2.0</td>\n",
              "      <td>0.0</td>\n",
              "      <td>2.0</td>\n",
              "    </tr>\n",
              "    <tr>\n",
              "      <th>19102</th>\n",
              "      <td>2020-11-01</td>\n",
              "      <td>2788.0</td>\n",
              "      <td>30.0</td>\n",
              "      <td>0.0</td>\n",
              "      <td>C27</td>\n",
              "      <td>2.0</td>\n",
              "      <td>70254.0</td>\n",
              "      <td>2020-06-08</td>\n",
              "      <td>NaT</td>\n",
              "      <td>2.0</td>\n",
              "      <td>2.0</td>\n",
              "      <td>200420.0</td>\n",
              "      <td>2.0</td>\n",
              "    </tr>\n",
              "    <tr>\n",
              "      <th>19103</th>\n",
              "      <td>2020-12-01</td>\n",
              "      <td>2788.0</td>\n",
              "      <td>30.0</td>\n",
              "      <td>0.0</td>\n",
              "      <td>C27</td>\n",
              "      <td>2.0</td>\n",
              "      <td>70254.0</td>\n",
              "      <td>2020-06-08</td>\n",
              "      <td>NaT</td>\n",
              "      <td>2.0</td>\n",
              "      <td>2.0</td>\n",
              "      <td>411480.0</td>\n",
              "      <td>2.0</td>\n",
              "    </tr>\n",
              "  </tbody>\n",
              "</table>\n",
              "</div>\n",
              "      <button class=\"colab-df-convert\" onclick=\"convertToInteractive('df-667f0635-00d5-4ccc-9677-4e2fe5e55669')\"\n",
              "              title=\"Convert this dataframe to an interactive table.\"\n",
              "              style=\"display:none;\">\n",
              "        \n",
              "  <svg xmlns=\"http://www.w3.org/2000/svg\" height=\"24px\"viewBox=\"0 0 24 24\"\n",
              "       width=\"24px\">\n",
              "    <path d=\"M0 0h24v24H0V0z\" fill=\"none\"/>\n",
              "    <path d=\"M18.56 5.44l.94 2.06.94-2.06 2.06-.94-2.06-.94-.94-2.06-.94 2.06-2.06.94zm-11 1L8.5 8.5l.94-2.06 2.06-.94-2.06-.94L8.5 2.5l-.94 2.06-2.06.94zm10 10l.94 2.06.94-2.06 2.06-.94-2.06-.94-.94-2.06-.94 2.06-2.06.94z\"/><path d=\"M17.41 7.96l-1.37-1.37c-.4-.4-.92-.59-1.43-.59-.52 0-1.04.2-1.43.59L10.3 9.45l-7.72 7.72c-.78.78-.78 2.05 0 2.83L4 21.41c.39.39.9.59 1.41.59.51 0 1.02-.2 1.41-.59l7.78-7.78 2.81-2.81c.8-.78.8-2.07 0-2.86zM5.41 20L4 18.59l7.72-7.72 1.47 1.35L5.41 20z\"/>\n",
              "  </svg>\n",
              "      </button>\n",
              "      \n",
              "  <style>\n",
              "    .colab-df-container {\n",
              "      display:flex;\n",
              "      flex-wrap:wrap;\n",
              "      gap: 12px;\n",
              "    }\n",
              "\n",
              "    .colab-df-convert {\n",
              "      background-color: #E8F0FE;\n",
              "      border: none;\n",
              "      border-radius: 50%;\n",
              "      cursor: pointer;\n",
              "      display: none;\n",
              "      fill: #1967D2;\n",
              "      height: 32px;\n",
              "      padding: 0 0 0 0;\n",
              "      width: 32px;\n",
              "    }\n",
              "\n",
              "    .colab-df-convert:hover {\n",
              "      background-color: #E2EBFA;\n",
              "      box-shadow: 0px 1px 2px rgba(60, 64, 67, 0.3), 0px 1px 3px 1px rgba(60, 64, 67, 0.15);\n",
              "      fill: #174EA6;\n",
              "    }\n",
              "\n",
              "    [theme=dark] .colab-df-convert {\n",
              "      background-color: #3B4455;\n",
              "      fill: #D2E3FC;\n",
              "    }\n",
              "\n",
              "    [theme=dark] .colab-df-convert:hover {\n",
              "      background-color: #434B5C;\n",
              "      box-shadow: 0px 1px 3px 1px rgba(0, 0, 0, 0.15);\n",
              "      filter: drop-shadow(0px 1px 2px rgba(0, 0, 0, 0.3));\n",
              "      fill: #FFFFFF;\n",
              "    }\n",
              "  </style>\n",
              "\n",
              "      <script>\n",
              "        const buttonEl =\n",
              "          document.querySelector('#df-667f0635-00d5-4ccc-9677-4e2fe5e55669 button.colab-df-convert');\n",
              "        buttonEl.style.display =\n",
              "          google.colab.kernel.accessAllowed ? 'block' : 'none';\n",
              "\n",
              "        async function convertToInteractive(key) {\n",
              "          const element = document.querySelector('#df-667f0635-00d5-4ccc-9677-4e2fe5e55669');\n",
              "          const dataTable =\n",
              "            await google.colab.kernel.invokeFunction('convertToInteractive',\n",
              "                                                     [key], {});\n",
              "          if (!dataTable) return;\n",
              "\n",
              "          const docLinkHtml = 'Like what you see? Visit the ' +\n",
              "            '<a target=\"_blank\" href=https://colab.research.google.com/notebooks/data_table.ipynb>data table notebook</a>'\n",
              "            + ' to learn more about interactive tables.';\n",
              "          element.innerHTML = '';\n",
              "          dataTable['output_type'] = 'display_data';\n",
              "          await google.colab.output.renderOutput(dataTable, element);\n",
              "          const docLink = document.createElement('div');\n",
              "          docLink.innerHTML = docLinkHtml;\n",
              "          element.appendChild(docLink);\n",
              "        }\n",
              "      </script>\n",
              "    </div>\n",
              "  </div>\n",
              "  "
            ]
          },
          "metadata": {},
          "execution_count": 231
        }
      ]
    },
    {
      "cell_type": "code",
      "source": [
        "# ReportingDate - can take first value\n",
        "# Age - can take max value\n",
        "# Gender - can take first value\n",
        "# City - can take first value\n",
        "# Education_Level - can take last value\n",
        "# Income - can take last value\n",
        "# Dateofjoining - can take last value\n",
        "# LastWorkingDate - can take last value\n",
        "# Joining Designation - can take last value\n",
        "# Grade - can take last value\n",
        "# Total Business Value - sum\n",
        "# Quarterly Rating - can take last value"
      ],
      "metadata": {
        "id": "DrBKJZ4S_A70"
      },
      "execution_count": null,
      "outputs": []
    },
    {
      "cell_type": "code",
      "source": [
        "# Aggregate data in order to remove multiple occurrences of same driver data \n",
        "# You can start from storing unique Driver IDs in an empty dataframe and then bring all the features at same level (Groupby Driver ID)\n",
        "df1 = df.groupby('Driver_ID')[['ReportingDate', 'Age', 'Gender', 'City', 'Education_Level', 'Income', 'Dateofjoining', 'LastWorkingDate', 'Joining Designation', 'Grade', \\\n",
        "                         'Total Business Value','Quarterly Rating']].aggregate({'ReportingDate':'first', 'Age' :'max', 'Gender':'first', 'City':'first', 'Education_Level':'last', 'Income':'last', \\\n",
        "                                                                                'Dateofjoining':'last', 'LastWorkingDate':'last', 'Joining Designation':'last', 'Grade':'last', 'Total Business Value':'sum', \\\n",
        "                                                                                'Quarterly Rating':'last'}).reset_index()\n",
        "df1.head(5)"
      ],
      "metadata": {
        "colab": {
          "base_uri": "https://localhost:8080/",
          "height": 206
        },
        "id": "caeJBCOi-Yml",
        "outputId": "38d03720-9bbd-4956-9daf-d59d7cdbab2c"
      },
      "execution_count": null,
      "outputs": [
        {
          "output_type": "execute_result",
          "data": {
            "text/plain": [
              "   Driver_ID ReportingDate   Age  Gender City  Education_Level   Income  \\\n",
              "0        1.0    2019-01-01  28.0     0.0  C23              2.0  57387.0   \n",
              "1        2.0    2020-11-01  31.0     0.0   C7              2.0  67016.0   \n",
              "2        4.0    2019-12-01  43.0     0.0  C13              2.0  65603.0   \n",
              "3        5.0    2019-01-01  29.0     0.0   C9              0.0  46368.0   \n",
              "4        6.0    2020-08-01  31.0     1.0  C11              1.0  78728.0   \n",
              "\n",
              "  Dateofjoining LastWorkingDate  Joining Designation  Grade  \\\n",
              "0    2018-12-24      2019-03-11                  1.0    1.0   \n",
              "1    2020-11-06             NaT                  2.0    2.0   \n",
              "2    2019-12-07      2020-04-27                  2.0    2.0   \n",
              "3    2019-01-09      2019-03-07                  1.0    1.0   \n",
              "4    2020-07-31             NaT                  3.0    3.0   \n",
              "\n",
              "   Total Business Value  Quarterly Rating  \n",
              "0             1715580.0               2.0  \n",
              "1                   0.0               1.0  \n",
              "2              350000.0               1.0  \n",
              "3              120360.0               1.0  \n",
              "4             1265000.0               2.0  "
            ],
            "text/html": [
              "\n",
              "  <div id=\"df-2965a413-b82d-4023-8a61-f66c8116b3db\">\n",
              "    <div class=\"colab-df-container\">\n",
              "      <div>\n",
              "<style scoped>\n",
              "    .dataframe tbody tr th:only-of-type {\n",
              "        vertical-align: middle;\n",
              "    }\n",
              "\n",
              "    .dataframe tbody tr th {\n",
              "        vertical-align: top;\n",
              "    }\n",
              "\n",
              "    .dataframe thead th {\n",
              "        text-align: right;\n",
              "    }\n",
              "</style>\n",
              "<table border=\"1\" class=\"dataframe\">\n",
              "  <thead>\n",
              "    <tr style=\"text-align: right;\">\n",
              "      <th></th>\n",
              "      <th>Driver_ID</th>\n",
              "      <th>ReportingDate</th>\n",
              "      <th>Age</th>\n",
              "      <th>Gender</th>\n",
              "      <th>City</th>\n",
              "      <th>Education_Level</th>\n",
              "      <th>Income</th>\n",
              "      <th>Dateofjoining</th>\n",
              "      <th>LastWorkingDate</th>\n",
              "      <th>Joining Designation</th>\n",
              "      <th>Grade</th>\n",
              "      <th>Total Business Value</th>\n",
              "      <th>Quarterly Rating</th>\n",
              "    </tr>\n",
              "  </thead>\n",
              "  <tbody>\n",
              "    <tr>\n",
              "      <th>0</th>\n",
              "      <td>1.0</td>\n",
              "      <td>2019-01-01</td>\n",
              "      <td>28.0</td>\n",
              "      <td>0.0</td>\n",
              "      <td>C23</td>\n",
              "      <td>2.0</td>\n",
              "      <td>57387.0</td>\n",
              "      <td>2018-12-24</td>\n",
              "      <td>2019-03-11</td>\n",
              "      <td>1.0</td>\n",
              "      <td>1.0</td>\n",
              "      <td>1715580.0</td>\n",
              "      <td>2.0</td>\n",
              "    </tr>\n",
              "    <tr>\n",
              "      <th>1</th>\n",
              "      <td>2.0</td>\n",
              "      <td>2020-11-01</td>\n",
              "      <td>31.0</td>\n",
              "      <td>0.0</td>\n",
              "      <td>C7</td>\n",
              "      <td>2.0</td>\n",
              "      <td>67016.0</td>\n",
              "      <td>2020-11-06</td>\n",
              "      <td>NaT</td>\n",
              "      <td>2.0</td>\n",
              "      <td>2.0</td>\n",
              "      <td>0.0</td>\n",
              "      <td>1.0</td>\n",
              "    </tr>\n",
              "    <tr>\n",
              "      <th>2</th>\n",
              "      <td>4.0</td>\n",
              "      <td>2019-12-01</td>\n",
              "      <td>43.0</td>\n",
              "      <td>0.0</td>\n",
              "      <td>C13</td>\n",
              "      <td>2.0</td>\n",
              "      <td>65603.0</td>\n",
              "      <td>2019-12-07</td>\n",
              "      <td>2020-04-27</td>\n",
              "      <td>2.0</td>\n",
              "      <td>2.0</td>\n",
              "      <td>350000.0</td>\n",
              "      <td>1.0</td>\n",
              "    </tr>\n",
              "    <tr>\n",
              "      <th>3</th>\n",
              "      <td>5.0</td>\n",
              "      <td>2019-01-01</td>\n",
              "      <td>29.0</td>\n",
              "      <td>0.0</td>\n",
              "      <td>C9</td>\n",
              "      <td>0.0</td>\n",
              "      <td>46368.0</td>\n",
              "      <td>2019-01-09</td>\n",
              "      <td>2019-03-07</td>\n",
              "      <td>1.0</td>\n",
              "      <td>1.0</td>\n",
              "      <td>120360.0</td>\n",
              "      <td>1.0</td>\n",
              "    </tr>\n",
              "    <tr>\n",
              "      <th>4</th>\n",
              "      <td>6.0</td>\n",
              "      <td>2020-08-01</td>\n",
              "      <td>31.0</td>\n",
              "      <td>1.0</td>\n",
              "      <td>C11</td>\n",
              "      <td>1.0</td>\n",
              "      <td>78728.0</td>\n",
              "      <td>2020-07-31</td>\n",
              "      <td>NaT</td>\n",
              "      <td>3.0</td>\n",
              "      <td>3.0</td>\n",
              "      <td>1265000.0</td>\n",
              "      <td>2.0</td>\n",
              "    </tr>\n",
              "  </tbody>\n",
              "</table>\n",
              "</div>\n",
              "      <button class=\"colab-df-convert\" onclick=\"convertToInteractive('df-2965a413-b82d-4023-8a61-f66c8116b3db')\"\n",
              "              title=\"Convert this dataframe to an interactive table.\"\n",
              "              style=\"display:none;\">\n",
              "        \n",
              "  <svg xmlns=\"http://www.w3.org/2000/svg\" height=\"24px\"viewBox=\"0 0 24 24\"\n",
              "       width=\"24px\">\n",
              "    <path d=\"M0 0h24v24H0V0z\" fill=\"none\"/>\n",
              "    <path d=\"M18.56 5.44l.94 2.06.94-2.06 2.06-.94-2.06-.94-.94-2.06-.94 2.06-2.06.94zm-11 1L8.5 8.5l.94-2.06 2.06-.94-2.06-.94L8.5 2.5l-.94 2.06-2.06.94zm10 10l.94 2.06.94-2.06 2.06-.94-2.06-.94-.94-2.06-.94 2.06-2.06.94z\"/><path d=\"M17.41 7.96l-1.37-1.37c-.4-.4-.92-.59-1.43-.59-.52 0-1.04.2-1.43.59L10.3 9.45l-7.72 7.72c-.78.78-.78 2.05 0 2.83L4 21.41c.39.39.9.59 1.41.59.51 0 1.02-.2 1.41-.59l7.78-7.78 2.81-2.81c.8-.78.8-2.07 0-2.86zM5.41 20L4 18.59l7.72-7.72 1.47 1.35L5.41 20z\"/>\n",
              "  </svg>\n",
              "      </button>\n",
              "      \n",
              "  <style>\n",
              "    .colab-df-container {\n",
              "      display:flex;\n",
              "      flex-wrap:wrap;\n",
              "      gap: 12px;\n",
              "    }\n",
              "\n",
              "    .colab-df-convert {\n",
              "      background-color: #E8F0FE;\n",
              "      border: none;\n",
              "      border-radius: 50%;\n",
              "      cursor: pointer;\n",
              "      display: none;\n",
              "      fill: #1967D2;\n",
              "      height: 32px;\n",
              "      padding: 0 0 0 0;\n",
              "      width: 32px;\n",
              "    }\n",
              "\n",
              "    .colab-df-convert:hover {\n",
              "      background-color: #E2EBFA;\n",
              "      box-shadow: 0px 1px 2px rgba(60, 64, 67, 0.3), 0px 1px 3px 1px rgba(60, 64, 67, 0.15);\n",
              "      fill: #174EA6;\n",
              "    }\n",
              "\n",
              "    [theme=dark] .colab-df-convert {\n",
              "      background-color: #3B4455;\n",
              "      fill: #D2E3FC;\n",
              "    }\n",
              "\n",
              "    [theme=dark] .colab-df-convert:hover {\n",
              "      background-color: #434B5C;\n",
              "      box-shadow: 0px 1px 3px 1px rgba(0, 0, 0, 0.15);\n",
              "      filter: drop-shadow(0px 1px 2px rgba(0, 0, 0, 0.3));\n",
              "      fill: #FFFFFF;\n",
              "    }\n",
              "  </style>\n",
              "\n",
              "      <script>\n",
              "        const buttonEl =\n",
              "          document.querySelector('#df-2965a413-b82d-4023-8a61-f66c8116b3db button.colab-df-convert');\n",
              "        buttonEl.style.display =\n",
              "          google.colab.kernel.accessAllowed ? 'block' : 'none';\n",
              "\n",
              "        async function convertToInteractive(key) {\n",
              "          const element = document.querySelector('#df-2965a413-b82d-4023-8a61-f66c8116b3db');\n",
              "          const dataTable =\n",
              "            await google.colab.kernel.invokeFunction('convertToInteractive',\n",
              "                                                     [key], {});\n",
              "          if (!dataTable) return;\n",
              "\n",
              "          const docLinkHtml = 'Like what you see? Visit the ' +\n",
              "            '<a target=\"_blank\" href=https://colab.research.google.com/notebooks/data_table.ipynb>data table notebook</a>'\n",
              "            + ' to learn more about interactive tables.';\n",
              "          element.innerHTML = '';\n",
              "          dataTable['output_type'] = 'display_data';\n",
              "          await google.colab.output.renderOutput(dataTable, element);\n",
              "          const docLink = document.createElement('div');\n",
              "          docLink.innerHTML = docLinkHtml;\n",
              "          element.appendChild(docLink);\n",
              "        }\n",
              "      </script>\n",
              "    </div>\n",
              "  </div>\n",
              "  "
            ]
          },
          "metadata": {},
          "execution_count": 233
        }
      ]
    },
    {
      "cell_type": "code",
      "source": [
        "df1.isnull().sum()"
      ],
      "metadata": {
        "colab": {
          "base_uri": "https://localhost:8080/"
        },
        "id": "oaKTSUIFCikf",
        "outputId": "f9c6aab3-c82b-47b6-afbe-119ca76b8119"
      },
      "execution_count": null,
      "outputs": [
        {
          "output_type": "execute_result",
          "data": {
            "text/plain": [
              "Driver_ID                 0\n",
              "ReportingDate             0\n",
              "Age                       0\n",
              "Gender                    0\n",
              "City                      0\n",
              "Education_Level           0\n",
              "Income                    0\n",
              "Dateofjoining             0\n",
              "LastWorkingDate         765\n",
              "Joining Designation       0\n",
              "Grade                     0\n",
              "Total Business Value      0\n",
              "Quarterly Rating          0\n",
              "dtype: int64"
            ]
          },
          "metadata": {},
          "execution_count": 234
        }
      ]
    },
    {
      "cell_type": "code",
      "source": [
        "# Feature Engineering Steps:\n",
        "# Create a column which tells whether the quarterly rating has increased for that driver - for those whose quarterly rating has increased we assign the value 1\n",
        "qr_first = df.groupby('Driver_ID')[['Quarterly Rating']].aggregate({'Quarterly Rating': 'first'})\n",
        "qr_last = df.groupby('Driver_ID')[['Quarterly Rating']].aggregate({'Quarterly Rating': 'last'})\n",
        "qr = (qr_last['Quarterly Rating'] > qr_first['Quarterly Rating']).reset_index()\n",
        "qr['Q_Rating_Inc_Flag'] = qr['Quarterly Rating'].map({False: 0 , True: 1})\n",
        "# Assigning to original data frame\n",
        "df1['Q_Rating_Inc_Flag'] = qr['Q_Rating_Inc_Flag']"
      ],
      "metadata": {
        "id": "_3-Gd4APEZwu"
      },
      "execution_count": null,
      "outputs": []
    },
    {
      "cell_type": "code",
      "source": [
        "# Target variable creation: Create a column called target which tells whether the driver has left the company- driver whose last working day is present will have the value 1\n",
        "\n",
        "lwd = df1[['LastWorkingDate', 'Driver_ID']]"
      ],
      "metadata": {
        "id": "-fR0tkr6Ur98"
      },
      "execution_count": null,
      "outputs": []
    },
    {
      "cell_type": "code",
      "source": [
        "lwd.loc[:, 'LastWorkingDate'] = lwd.loc[:, 'LastWorkingDate'].isna()\n",
        "lwd.loc[:, 'LastWorkingDate'] = lwd.loc[:, 'LastWorkingDate'].map({False : 1 , True: 0})\n",
        "# Assigning to original data frame\n",
        "df1['target'] = lwd['LastWorkingDate']"
      ],
      "metadata": {
        "colab": {
          "base_uri": "https://localhost:8080/"
        },
        "id": "LmvJ0hhRWyOM",
        "outputId": "1ba5003a-f4bf-4505-e5d5-e3b508583faa"
      },
      "execution_count": null,
      "outputs": [
        {
          "output_type": "stream",
          "name": "stderr",
          "text": [
            "/usr/local/lib/python3.8/dist-packages/pandas/core/indexing.py:1773: SettingWithCopyWarning: \n",
            "A value is trying to be set on a copy of a slice from a DataFrame.\n",
            "Try using .loc[row_indexer,col_indexer] = value instead\n",
            "\n",
            "See the caveats in the documentation: https://pandas.pydata.org/pandas-docs/stable/user_guide/indexing.html#returning-a-view-versus-a-copy\n",
            "  self._setitem_single_column(ilocs[0], value, pi)\n"
          ]
        }
      ]
    },
    {
      "cell_type": "code",
      "source": [
        "# Create a column which tells whether the monthly income has increased for that driver - for those whose monthly income has increased we assign the value 1\n",
        "inc_first = df.groupby('Driver_ID')[['Income']].aggregate({'Income': 'first'})\n",
        "inc_last = df.groupby('Driver_ID')[['Income']].aggregate({'Income': 'last'})\n",
        "inc = (inc_last['Income'] > inc_first['Income']).reset_index()\n",
        "inc['Income'] = inc['Income'].map({True: 1, False:0})\n",
        "# Assigning to Original Data Frame\n",
        "df1['inc_flag'] = inc['Income']"
      ],
      "metadata": {
        "id": "WKU9Z1WhZdxt"
      },
      "execution_count": null,
      "outputs": []
    },
    {
      "cell_type": "code",
      "source": [
        "df1.head(5)"
      ],
      "metadata": {
        "colab": {
          "base_uri": "https://localhost:8080/",
          "height": 206
        },
        "id": "peKXYG7Fe-vV",
        "outputId": "c8440fa9-cbbe-4ac5-afaf-a023be0af7c1"
      },
      "execution_count": null,
      "outputs": [
        {
          "output_type": "execute_result",
          "data": {
            "text/plain": [
              "   Driver_ID ReportingDate   Age  Gender City  Education_Level   Income  \\\n",
              "0        1.0    2019-01-01  28.0     0.0  C23              2.0  57387.0   \n",
              "1        2.0    2020-11-01  31.0     0.0   C7              2.0  67016.0   \n",
              "2        4.0    2019-12-01  43.0     0.0  C13              2.0  65603.0   \n",
              "3        5.0    2019-01-01  29.0     0.0   C9              0.0  46368.0   \n",
              "4        6.0    2020-08-01  31.0     1.0  C11              1.0  78728.0   \n",
              "\n",
              "  Dateofjoining LastWorkingDate  Joining Designation  Grade  \\\n",
              "0    2018-12-24      2019-03-11                  1.0    1.0   \n",
              "1    2020-11-06             NaT                  2.0    2.0   \n",
              "2    2019-12-07      2020-04-27                  2.0    2.0   \n",
              "3    2019-01-09      2019-03-07                  1.0    1.0   \n",
              "4    2020-07-31             NaT                  3.0    3.0   \n",
              "\n",
              "   Total Business Value  Quarterly Rating  Q_Rating_Inc_Flag  target  inc_flag  \n",
              "0             1715580.0               2.0                  0       1         0  \n",
              "1                   0.0               1.0                  0       0         0  \n",
              "2              350000.0               1.0                  0       1         0  \n",
              "3              120360.0               1.0                  0       1         0  \n",
              "4             1265000.0               2.0                  1       0         0  "
            ],
            "text/html": [
              "\n",
              "  <div id=\"df-41b28b63-b57c-405a-ba01-8f9ec754b52a\">\n",
              "    <div class=\"colab-df-container\">\n",
              "      <div>\n",
              "<style scoped>\n",
              "    .dataframe tbody tr th:only-of-type {\n",
              "        vertical-align: middle;\n",
              "    }\n",
              "\n",
              "    .dataframe tbody tr th {\n",
              "        vertical-align: top;\n",
              "    }\n",
              "\n",
              "    .dataframe thead th {\n",
              "        text-align: right;\n",
              "    }\n",
              "</style>\n",
              "<table border=\"1\" class=\"dataframe\">\n",
              "  <thead>\n",
              "    <tr style=\"text-align: right;\">\n",
              "      <th></th>\n",
              "      <th>Driver_ID</th>\n",
              "      <th>ReportingDate</th>\n",
              "      <th>Age</th>\n",
              "      <th>Gender</th>\n",
              "      <th>City</th>\n",
              "      <th>Education_Level</th>\n",
              "      <th>Income</th>\n",
              "      <th>Dateofjoining</th>\n",
              "      <th>LastWorkingDate</th>\n",
              "      <th>Joining Designation</th>\n",
              "      <th>Grade</th>\n",
              "      <th>Total Business Value</th>\n",
              "      <th>Quarterly Rating</th>\n",
              "      <th>Q_Rating_Inc_Flag</th>\n",
              "      <th>target</th>\n",
              "      <th>inc_flag</th>\n",
              "    </tr>\n",
              "  </thead>\n",
              "  <tbody>\n",
              "    <tr>\n",
              "      <th>0</th>\n",
              "      <td>1.0</td>\n",
              "      <td>2019-01-01</td>\n",
              "      <td>28.0</td>\n",
              "      <td>0.0</td>\n",
              "      <td>C23</td>\n",
              "      <td>2.0</td>\n",
              "      <td>57387.0</td>\n",
              "      <td>2018-12-24</td>\n",
              "      <td>2019-03-11</td>\n",
              "      <td>1.0</td>\n",
              "      <td>1.0</td>\n",
              "      <td>1715580.0</td>\n",
              "      <td>2.0</td>\n",
              "      <td>0</td>\n",
              "      <td>1</td>\n",
              "      <td>0</td>\n",
              "    </tr>\n",
              "    <tr>\n",
              "      <th>1</th>\n",
              "      <td>2.0</td>\n",
              "      <td>2020-11-01</td>\n",
              "      <td>31.0</td>\n",
              "      <td>0.0</td>\n",
              "      <td>C7</td>\n",
              "      <td>2.0</td>\n",
              "      <td>67016.0</td>\n",
              "      <td>2020-11-06</td>\n",
              "      <td>NaT</td>\n",
              "      <td>2.0</td>\n",
              "      <td>2.0</td>\n",
              "      <td>0.0</td>\n",
              "      <td>1.0</td>\n",
              "      <td>0</td>\n",
              "      <td>0</td>\n",
              "      <td>0</td>\n",
              "    </tr>\n",
              "    <tr>\n",
              "      <th>2</th>\n",
              "      <td>4.0</td>\n",
              "      <td>2019-12-01</td>\n",
              "      <td>43.0</td>\n",
              "      <td>0.0</td>\n",
              "      <td>C13</td>\n",
              "      <td>2.0</td>\n",
              "      <td>65603.0</td>\n",
              "      <td>2019-12-07</td>\n",
              "      <td>2020-04-27</td>\n",
              "      <td>2.0</td>\n",
              "      <td>2.0</td>\n",
              "      <td>350000.0</td>\n",
              "      <td>1.0</td>\n",
              "      <td>0</td>\n",
              "      <td>1</td>\n",
              "      <td>0</td>\n",
              "    </tr>\n",
              "    <tr>\n",
              "      <th>3</th>\n",
              "      <td>5.0</td>\n",
              "      <td>2019-01-01</td>\n",
              "      <td>29.0</td>\n",
              "      <td>0.0</td>\n",
              "      <td>C9</td>\n",
              "      <td>0.0</td>\n",
              "      <td>46368.0</td>\n",
              "      <td>2019-01-09</td>\n",
              "      <td>2019-03-07</td>\n",
              "      <td>1.0</td>\n",
              "      <td>1.0</td>\n",
              "      <td>120360.0</td>\n",
              "      <td>1.0</td>\n",
              "      <td>0</td>\n",
              "      <td>1</td>\n",
              "      <td>0</td>\n",
              "    </tr>\n",
              "    <tr>\n",
              "      <th>4</th>\n",
              "      <td>6.0</td>\n",
              "      <td>2020-08-01</td>\n",
              "      <td>31.0</td>\n",
              "      <td>1.0</td>\n",
              "      <td>C11</td>\n",
              "      <td>1.0</td>\n",
              "      <td>78728.0</td>\n",
              "      <td>2020-07-31</td>\n",
              "      <td>NaT</td>\n",
              "      <td>3.0</td>\n",
              "      <td>3.0</td>\n",
              "      <td>1265000.0</td>\n",
              "      <td>2.0</td>\n",
              "      <td>1</td>\n",
              "      <td>0</td>\n",
              "      <td>0</td>\n",
              "    </tr>\n",
              "  </tbody>\n",
              "</table>\n",
              "</div>\n",
              "      <button class=\"colab-df-convert\" onclick=\"convertToInteractive('df-41b28b63-b57c-405a-ba01-8f9ec754b52a')\"\n",
              "              title=\"Convert this dataframe to an interactive table.\"\n",
              "              style=\"display:none;\">\n",
              "        \n",
              "  <svg xmlns=\"http://www.w3.org/2000/svg\" height=\"24px\"viewBox=\"0 0 24 24\"\n",
              "       width=\"24px\">\n",
              "    <path d=\"M0 0h24v24H0V0z\" fill=\"none\"/>\n",
              "    <path d=\"M18.56 5.44l.94 2.06.94-2.06 2.06-.94-2.06-.94-.94-2.06-.94 2.06-2.06.94zm-11 1L8.5 8.5l.94-2.06 2.06-.94-2.06-.94L8.5 2.5l-.94 2.06-2.06.94zm10 10l.94 2.06.94-2.06 2.06-.94-2.06-.94-.94-2.06-.94 2.06-2.06.94z\"/><path d=\"M17.41 7.96l-1.37-1.37c-.4-.4-.92-.59-1.43-.59-.52 0-1.04.2-1.43.59L10.3 9.45l-7.72 7.72c-.78.78-.78 2.05 0 2.83L4 21.41c.39.39.9.59 1.41.59.51 0 1.02-.2 1.41-.59l7.78-7.78 2.81-2.81c.8-.78.8-2.07 0-2.86zM5.41 20L4 18.59l7.72-7.72 1.47 1.35L5.41 20z\"/>\n",
              "  </svg>\n",
              "      </button>\n",
              "      \n",
              "  <style>\n",
              "    .colab-df-container {\n",
              "      display:flex;\n",
              "      flex-wrap:wrap;\n",
              "      gap: 12px;\n",
              "    }\n",
              "\n",
              "    .colab-df-convert {\n",
              "      background-color: #E8F0FE;\n",
              "      border: none;\n",
              "      border-radius: 50%;\n",
              "      cursor: pointer;\n",
              "      display: none;\n",
              "      fill: #1967D2;\n",
              "      height: 32px;\n",
              "      padding: 0 0 0 0;\n",
              "      width: 32px;\n",
              "    }\n",
              "\n",
              "    .colab-df-convert:hover {\n",
              "      background-color: #E2EBFA;\n",
              "      box-shadow: 0px 1px 2px rgba(60, 64, 67, 0.3), 0px 1px 3px 1px rgba(60, 64, 67, 0.15);\n",
              "      fill: #174EA6;\n",
              "    }\n",
              "\n",
              "    [theme=dark] .colab-df-convert {\n",
              "      background-color: #3B4455;\n",
              "      fill: #D2E3FC;\n",
              "    }\n",
              "\n",
              "    [theme=dark] .colab-df-convert:hover {\n",
              "      background-color: #434B5C;\n",
              "      box-shadow: 0px 1px 3px 1px rgba(0, 0, 0, 0.15);\n",
              "      filter: drop-shadow(0px 1px 2px rgba(0, 0, 0, 0.3));\n",
              "      fill: #FFFFFF;\n",
              "    }\n",
              "  </style>\n",
              "\n",
              "      <script>\n",
              "        const buttonEl =\n",
              "          document.querySelector('#df-41b28b63-b57c-405a-ba01-8f9ec754b52a button.colab-df-convert');\n",
              "        buttonEl.style.display =\n",
              "          google.colab.kernel.accessAllowed ? 'block' : 'none';\n",
              "\n",
              "        async function convertToInteractive(key) {\n",
              "          const element = document.querySelector('#df-41b28b63-b57c-405a-ba01-8f9ec754b52a');\n",
              "          const dataTable =\n",
              "            await google.colab.kernel.invokeFunction('convertToInteractive',\n",
              "                                                     [key], {});\n",
              "          if (!dataTable) return;\n",
              "\n",
              "          const docLinkHtml = 'Like what you see? Visit the ' +\n",
              "            '<a target=\"_blank\" href=https://colab.research.google.com/notebooks/data_table.ipynb>data table notebook</a>'\n",
              "            + ' to learn more about interactive tables.';\n",
              "          element.innerHTML = '';\n",
              "          dataTable['output_type'] = 'display_data';\n",
              "          await google.colab.output.renderOutput(dataTable, element);\n",
              "          const docLink = document.createElement('div');\n",
              "          docLink.innerHTML = docLinkHtml;\n",
              "          element.appendChild(docLink);\n",
              "        }\n",
              "      </script>\n",
              "    </div>\n",
              "  </div>\n",
              "  "
            ]
          },
          "metadata": {},
          "execution_count": 239
        }
      ]
    },
    {
      "cell_type": "code",
      "source": [
        "df1.isna().sum()"
      ],
      "metadata": {
        "colab": {
          "base_uri": "https://localhost:8080/"
        },
        "id": "SuBv1ulAfwCt",
        "outputId": "135593b4-76a9-400e-81ee-020bef0f22ba"
      },
      "execution_count": null,
      "outputs": [
        {
          "output_type": "execute_result",
          "data": {
            "text/plain": [
              "Driver_ID                 0\n",
              "ReportingDate             0\n",
              "Age                       0\n",
              "Gender                    0\n",
              "City                      0\n",
              "Education_Level           0\n",
              "Income                    0\n",
              "Dateofjoining             0\n",
              "LastWorkingDate         765\n",
              "Joining Designation       0\n",
              "Grade                     0\n",
              "Total Business Value      0\n",
              "Quarterly Rating          0\n",
              "Q_Rating_Inc_Flag         0\n",
              "target                    0\n",
              "inc_flag                  0\n",
              "dtype: int64"
            ]
          },
          "metadata": {},
          "execution_count": 240
        }
      ]
    },
    {
      "cell_type": "markdown",
      "source": [
        "# Statistical summary of the derived dataset"
      ],
      "metadata": {
        "id": "HcrzSQEiZ1j_"
      }
    },
    {
      "cell_type": "code",
      "source": [
        "def remove_outliers(data, features, method='iqr'):\n",
        "    intial_shape = data.shape\n",
        "    outliers = pd.DataFrame()\n",
        "    if method == 'iqr':\n",
        "            for f in features:\n",
        "                q1 = data[f].quantile(0.25)\n",
        "                q3 = data[f].quantile(0.75)\n",
        "                iqr = q3-q1\n",
        "                median=data[f].median()\n",
        "                data[f] = np.where((data[f]<q1-1.5*iqr) | (data[f]>q3+1.5*iqr),median,data[f])\n",
        "    elif method == 'z-score':\n",
        "        for f in features:\n",
        "            mean = data[f].mean()\n",
        "            std = data[f].std()\n",
        "            f_outliers = data.loc[((data[f]-mean)/std<-3) | ((data[f]-mean)/std>3)]\n",
        "            outliers = outliers.append(f_outliers)\n",
        "            data.drop(f_outliers.index, inplace=True)\n",
        "    print(f'{outliers.shape[0]*100/intial_shape[0]}% data detected as outlier.')\n",
        "    return data, outliers"
      ],
      "metadata": {
        "id": "gnEf2tlgcPPV"
      },
      "execution_count": null,
      "outputs": []
    },
    {
      "cell_type": "code",
      "source": [
        "def univariate_analysis(data, features, type_of_feature, width = 16, height =9):\n",
        "    n_features = len(features)\n",
        "    figsize = (width, height*n_features)\n",
        "    fig, ax = plt.subplots(nrows=n_features, ncols=2, figsize=figsize,constrained_layout=True)\n",
        "    if n_features == 1:\n",
        "        ax = [ax]\n",
        "    if type_of_feature == 'continuous':\n",
        "        for i in range(n_features):\n",
        "            f = features[i]\n",
        "            ax[i][0].set_title(f\"Boxplot for {f}\")\n",
        "            sns.boxplot(y = data[f], ax=ax[i][0])\n",
        "            ax[i][0].set_ylabel(f)\n",
        "            sns.histplot(data[f], ax=ax[i][1], kde=True)\n",
        "            ax[i][1].axvline(data[f].mean(), color='r', linestyle='--', label=\"Mean\")\n",
        "            ax[i][1].axvline(data[f].median(), color='g', linestyle='-',label=\"Median\")\n",
        "            ax[i][1].axvline(data[f].mode()[0], linestyle='--',label=\"Mode\")\n",
        "            ax[i][1].set_title(f\"Histplot for {f}\")\n",
        "            ax[i][1].legend()\n",
        "    elif type_of_feature == 'categorical':\n",
        "        for i in range(n_features):\n",
        "            f = features[i]\n",
        "            counts = df[f].value_counts()\n",
        "            ax[i][0].set_title(f\"Count Plot for {f}\")\n",
        "            counts.plot.bar(ax=ax[i][0],color=sns.color_palette(\"flare\"))\n",
        "            ax[i][0].set_ylabel(\"Counts\")\n",
        "            ax[i][0].set_xlabel(f)\n",
        "            ax[i][1].set_title(f\"Pie chart for {f}\")\n",
        "            counts.plot.pie(autopct='%0.0f%%', ax=ax[i][1],colors=sns.color_palette(\"flare\"))\n",
        "    fig.suptitle(f\"Univariate analysis of {type_of_feature} features\",fontweight=\"bold\")\n",
        "    plt.show()"
      ],
      "metadata": {
        "id": "GI-RLcEbcULO"
      },
      "execution_count": null,
      "outputs": []
    },
    {
      "cell_type": "code",
      "source": [
        "def bivariate_analysis(data, features, type_of_feature, group_by, width = 16,height = 9):\n",
        "    n_features = len(features)\n",
        "    figsize = (width, height*n_features)\n",
        "    if type_of_feature == 'continuous':\n",
        "        fig, ax = plt.subplots(nrows=n_features, ncols=2, figsize=figsize,constrained_layout=True)\n",
        "        if n_features == 1:\n",
        "            ax = [ax]\n",
        "        for i in range(n_features):\n",
        "            f = features[i]\n",
        "            ax[i][0].set_title(f\"Boxplot for {f} by {group_by}\")\n",
        "            sns.violinplot(data=data, y=f, x=group_by, ax=ax[i][0])\n",
        "            ax[i][0].set_ylabel(f)\n",
        "            sns.kdeplot(data=data, x=f, hue=group_by, ax=ax[i][1],color=sns.color_palette(\"flare\"))\n",
        "            ax[i][1].set_title(f\"Kdeplot for {f} by {group_by}\")\n",
        "    elif type_of_feature == 'categorical':\n",
        "        fig, ax = plt.subplots(nrows=n_features, ncols=2, figsize=figsize)\n",
        "        if n_features == 1:\n",
        "            ax = [ax]\n",
        "        for i in range(n_features):\n",
        "            f = features[i]\n",
        "            ax[i][0].set_title(f\"Count Plot for {f} by {group_by}\")\n",
        "            sns.countplot(data=data, x=f, hue=group_by, ax=ax[i][0])\n",
        "            ax[i][0].set_ylabel(\"Counts\")\n",
        "            ax[i][0].set_xlabel(f)\n",
        "            ax[i][1].set_title(f\"Count Plot for {group_by} by {f}\")\n",
        "            sns.countplot(data=data, x=group_by, hue=f, ax=ax[i][1],color=sns.color_palette(\"flare\"))\n",
        "            ax[i][1].set_ylabel(\"Counts\")\n",
        "            ax[i][1].set_xlabel(group_by)\n",
        "    fig.suptitle(f\"Bivariate analysis of {type_of_feature} features\",fontweight=\"bold\")\n",
        "    plt.show()"
      ],
      "metadata": {
        "id": "SyiFDk-TcZ5U"
      },
      "execution_count": null,
      "outputs": []
    },
    {
      "cell_type": "markdown",
      "source": [
        "# univariate Analysis"
      ],
      "metadata": {
        "id": "TsTkBjaHbEAK"
      }
    },
    {
      "cell_type": "code",
      "source": [
        "# Categorical features\n",
        "cat_cols = ['Education_Level', 'Gender', 'Grade', 'City' , 'Joining Designation', 'Quarterly Rating']\n",
        "univariate_analysis(data=df, features=cat_cols,type_of_feature='categorical', width = 12, height = 5)"
      ],
      "metadata": {
        "colab": {
          "base_uri": "https://localhost:8080/",
          "height": 1674
        },
        "id": "9US-FtOvbCc9",
        "outputId": "70f50071-6102-48af-896e-f19feec3cb9c"
      },
      "execution_count": null,
      "outputs": [
        {
          "output_type": "display_data",
          "data": {
            "text/plain": [
              "<Figure size 864x2160 with 12 Axes>"
            ],
            "image/png": "[encoded data removed]"
          },
          "metadata": {
            "needs_background": "light"
          }
        }
      ]
    },
    {
      "cell_type": "markdown",
      "source": [
        "<font color='#0dab7f'> Observation: \n",
        "\n",
        "<font color='#0dab7f'>1. 33 % of drivers are graduate. other 66 % of drivers are only upto 12th so companies can give subdsidy for education to complete their eductaion.\n",
        "\n",
        "<font color='#0dab7f'> 2. 58 % are male drivers\n",
        "\n",
        "<font color='#0dab7f'> 3. 35 % of Drivers are grade 2 and only 2% of drivers are grade 5 which shows high attrition and most of the drivers are newly joined\n",
        "\n",
        "<font color='#0dab7f'> 4. C26, C29, C20 cities has 5% of drivers\n",
        "\n",
        "<font color='#0dab7f'> 5. Joining designation - 5 is 51% and only 5 is 1 % \n",
        "\n",
        "<font color='#0dab7f'> 6. Most drivers is having quaterly rating as 1 "
      ],
      "metadata": {
        "id": "y7U_cUOreA4z"
      }
    },
    {
      "cell_type": "code",
      "source": [
        "cont_cols = ['Income','Total Business Value', \"Age\"]\n",
        "univariate_analysis(data=df, features=cont_cols,type_of_feature='continuous', width = 12, height = 5)"
      ],
      "metadata": {
        "colab": {
          "base_uri": "https://localhost:8080/",
          "height": 1025
        },
        "id": "12M9MRq_dr2v",
        "outputId": "d6c687e0-c432-425b-c1a5-61664cec0327"
      },
      "execution_count": null,
      "outputs": [
        {
          "output_type": "display_data",
          "data": {
            "text/plain": [
              "<Figure size 864x1080 with 6 Axes>"
            ],
            "image/png": "[encoded data removed]"
          },
          "metadata": {
            "needs_background": "light"
          }
        }
      ]
    },
    {
      "cell_type": "markdown",
      "source": [
        "<font color='#0dab7f'> Observation:\n",
        "\n",
        "<font color='#0dab7f'> 1.Income column is right skewed and has outliers\n",
        "\n",
        "<font color='#0dab7f'> 2. Age is slightly right skewed and has outliers\n",
        "\n",
        "<font color='#0dab7f'> 3. Total business value also has slight outliers."
      ],
      "metadata": {
        "id": "8mQ3tkRCgYeV"
      }
    },
    {
      "cell_type": "code",
      "source": [
        "df1['target'].value_counts()"
      ],
      "metadata": {
        "colab": {
          "base_uri": "https://localhost:8080/"
        },
        "id": "tBtnBWj_gJt8",
        "outputId": "f6a8c136-2e6d-480b-9c2b-26d417d07501"
      },
      "execution_count": null,
      "outputs": [
        {
          "output_type": "execute_result",
          "data": {
            "text/plain": [
              "1    1616\n",
              "0     765\n",
              "Name: target, dtype: int64"
            ]
          },
          "metadata": {},
          "execution_count": 246
        }
      ]
    },
    {
      "cell_type": "code",
      "source": [
        "df1['target'].value_counts(normalize = True)*100"
      ],
      "metadata": {
        "colab": {
          "base_uri": "https://localhost:8080/"
        },
        "id": "qfKcyN24gUas",
        "outputId": "8b0b0849-3c68-404c-ecdf-8620d9353dc6"
      },
      "execution_count": null,
      "outputs": [
        {
          "output_type": "execute_result",
          "data": {
            "text/plain": [
              "1    67.870643\n",
              "0    32.129357\n",
              "Name: target, dtype: float64"
            ]
          },
          "metadata": {},
          "execution_count": 247
        }
      ]
    },
    {
      "cell_type": "markdown",
      "source": [
        "<font color='#0dab7f'> Observation: \n",
        "\n",
        "<font color='#0dab7f'>Approximately 68% of drivers left the company"
      ],
      "metadata": {
        "id": "_1NNtpsLgogO"
      }
    },
    {
      "cell_type": "code",
      "source": [
        "df1['target'].value_counts(normalize = True).plot.bar(title = 'Driver Attrition')\n",
        "plt.show()"
      ],
      "metadata": {
        "colab": {
          "base_uri": "https://localhost:8080/",
          "height": 278
        },
        "id": "ZfQHkcgCg92g",
        "outputId": "8b06e1aa-f28c-4c4b-b1cc-86530356cd2c"
      },
      "execution_count": null,
      "outputs": [
        {
          "output_type": "display_data",
          "data": {
            "text/plain": [
              "<Figure size 432x288 with 1 Axes>"
            ],
            "image/png": "[encoded data removed]"
          },
          "metadata": {
            "needs_background": "light"
          }
        }
      ]
    },
    {
      "cell_type": "markdown",
      "source": [
        "# Bivariate Analysis"
      ],
      "metadata": {
        "id": "tBuNRJqbaBw0"
      }
    },
    {
      "cell_type": "code",
      "source": [
        "# Age - Driver Attrition relationship\n",
        "\n",
        "df1['Age_bin'] = pd.cut(df1['Age'], bins=[20, 30, 40, 50, 60])\n",
        "\n",
        "# Age with Target\n",
        "agebin = pd.crosstab(df1['Age_bin'], df1['target'])\n",
        "print(agebin)\n",
        "agebin.div(agebin.sum(1).astype(float), axis = 0).plot(kind = 'bar', stacked = True, title = 'Age vs Target') #.div(agebin.sum(1).astype(float), axis = 0)\n",
        "plt.show()"
      ],
      "metadata": {
        "colab": {
          "base_uri": "https://localhost:8080/",
          "height": 429
        },
        "id": "fDCw35Vwg3LR",
        "outputId": "0b78cec7-4ea8-4809-aeb3-e4728c2da9d9"
      },
      "execution_count": null,
      "outputs": [
        {
          "output_type": "stream",
          "name": "stdout",
          "text": [
            "target      0    1\n",
            "Age_bin           \n",
            "(20, 30]  214  534\n",
            "(30, 40]  440  861\n",
            "(40, 50]  105  207\n",
            "(50, 60]    6   14\n"
          ]
        },
        {
          "output_type": "display_data",
          "data": {
            "text/plain": [
              "<Figure size 432x288 with 1 Axes>"
            ],
            "image/png": "[encoded data removed]"
          },
          "metadata": {
            "needs_background": "light"
          }
        }
      ]
    },
    {
      "cell_type": "markdown",
      "source": [
        "<font color='#0dab7f'> Observation: Driver with age group of 20-30 , 50-60 years has more attrition"
      ],
      "metadata": {
        "id": "vz1_qgEGjjUL"
      }
    },
    {
      "cell_type": "code",
      "source": [
        "# City - Driver Attrition relationship\n",
        "\n",
        "cityCrossTab = pd.crosstab(df1['City'], df1['target'])\n",
        "print(cityCrossTab.head(10))\n",
        "cityCrossTab.div(cityCrossTab.sum(1).astype(float), axis = 0).plot(kind = 'bar', stacked = True, title = 'city vs Target')\n",
        "plt.show()"
      ],
      "metadata": {
        "colab": {
          "base_uri": "https://localhost:8080/",
          "height": 513
        },
        "id": "0f-IXdtthJIG",
        "outputId": "83224835-30ec-432c-ec36-d5c8a65d7624"
      },
      "execution_count": null,
      "outputs": [
        {
          "output_type": "stream",
          "name": "stdout",
          "text": [
            "target   0   1\n",
            "City          \n",
            "C1      24  56\n",
            "C10     25  61\n",
            "C11     19  45\n",
            "C12     28  53\n",
            "C13     13  58\n",
            "C14     21  58\n",
            "C15     32  69\n",
            "C16     34  50\n",
            "C17     16  55\n",
            "C18     25  44\n"
          ]
        },
        {
          "output_type": "display_data",
          "data": {
            "text/plain": [
              "<Figure size 432x288 with 1 Axes>"
            ],
            "image/png": "[encoded data removed]"
          },
          "metadata": {
            "needs_background": "light"
          }
        }
      ]
    },
    {
      "cell_type": "markdown",
      "source": [
        "<font color='#0dab7f'>Observation: City C13 has more driver attrition "
      ],
      "metadata": {
        "id": "rvr7l1NUjrn2"
      }
    },
    {
      "cell_type": "code",
      "source": [
        "# income vs Driver attrition relationship\n",
        "\n",
        "sns.kdeplot(df1['Income'])\n",
        "plt.show()"
      ],
      "metadata": {
        "colab": {
          "base_uri": "https://localhost:8080/",
          "height": 290
        },
        "id": "FURU-CSzit5k",
        "outputId": "5201100b-b65f-4a14-d65c-26f117f7fe64"
      },
      "execution_count": null,
      "outputs": [
        {
          "output_type": "display_data",
          "data": {
            "text/plain": [
              "<Figure size 432x288 with 1 Axes>"
            ],
            "image/png": "[encoded data removed]"
          },
          "metadata": {
            "needs_background": "light"
          }
        }
      ]
    },
    {
      "cell_type": "code",
      "source": [
        "df1['income_bin'] = pd.cut(df1['Income'], bins = [10000, 40000, 70000, 100000, 130000, 160000, 190000])\n",
        "salarybin = pd.crosstab(df1['income_bin'], df1['target'])\n",
        "print(salarybin)\n",
        "salarybin.div(salarybin.sum(1).astype(float), axis = 0).plot(kind = 'bar', stacked = True , title = 'Income vs Target')\n",
        "plt.show()"
      ],
      "metadata": {
        "colab": {
          "base_uri": "https://localhost:8080/",
          "height": 515
        },
        "id": "i5GgAZh1kiyt",
        "outputId": "13ec6758-afc6-4673-88b6-95e2e9b49f4f"
      },
      "execution_count": null,
      "outputs": [
        {
          "output_type": "stream",
          "name": "stdout",
          "text": [
            "target              0    1\n",
            "income_bin                \n",
            "(10000, 40000]    134  497\n",
            "(40000, 70000]    311  717\n",
            "(70000, 100000]   213  278\n",
            "(100000, 130000]   76  100\n",
            "(130000, 160000]   29   23\n",
            "(160000, 190000]    2    1\n"
          ]
        },
        {
          "output_type": "display_data",
          "data": {
            "text/plain": [
              "<Figure size 432x288 with 1 Axes>"
            ],
            "image/png": "[encoded data removed]"
          },
          "metadata": {
            "needs_background": "light"
          }
        }
      ]
    },
    {
      "cell_type": "markdown",
      "source": [
        "<font color='#0dab7f'> Observation:\n",
        "\n",
        "<font color='#0dab7f'> 1. Driver with lower Income range 10000 - 40000 has more  attrition\n",
        "\n",
        "<font color='#0dab7f'> 2. Driver with high Income range has less  attrition"
      ],
      "metadata": {
        "id": "z_Bhh1FvGDx3"
      }
    },
    {
      "cell_type": "code",
      "source": [
        "# Total Business value vs Driver attrition relationship\n",
        "\n",
        "sns.kdeplot(df1['Total Business Value'])\n",
        "plt.show()"
      ],
      "metadata": {
        "colab": {
          "base_uri": "https://localhost:8080/",
          "height": 290
        },
        "id": "_8b9KL75HOiF",
        "outputId": "32d8d53b-5a3d-4dd4-cf65-773fcb026e75"
      },
      "execution_count": null,
      "outputs": [
        {
          "output_type": "display_data",
          "data": {
            "text/plain": [
              "<Figure size 432x288 with 1 Axes>"
            ],
            "image/png": "[encoded data removed]"
          },
          "metadata": {
            "needs_background": "light"
          }
        }
      ]
    },
    {
      "cell_type": "code",
      "source": [
        "min = df1['Total Business Value'].min()\n",
        "max = df1['Total Business Value'].max()\n",
        "print(min, max)\n",
        "df1['TBV_bin'] = pd.cut(df1['Total Business Value'], bins = [min, 80000, 200000, 3200000, 4000000, 5600000, 6800000, max])\n",
        "TBV_cross_tab = pd.crosstab(df1['TBV_bin'], df1['target'])\n",
        "TBV_cross_tab.div(TBV_cross_tab.sum(1).astype(float), axis = 0).plot(kind = 'bar', stacked = True, title = 'Total Business value vs Driver Attrition')\n",
        "plt.show()"
      ],
      "metadata": {
        "colab": {
          "base_uri": "https://localhost:8080/",
          "height": 431
        },
        "id": "2RmmfDLnH24F",
        "outputId": "0a9fd4e3-cb7e-4ad0-e0f5-f9b9dc139eaa"
      },
      "execution_count": null,
      "outputs": [
        {
          "output_type": "stream",
          "name": "stdout",
          "text": [
            "-1385530.0 95331060.0\n"
          ]
        },
        {
          "output_type": "display_data",
          "data": {
            "text/plain": [
              "<Figure size 432x288 with 1 Axes>"
            ],
            "image/png": "[encoded data removed]"
          },
          "metadata": {
            "needs_background": "light"
          }
        }
      ]
    },
    {
      "cell_type": "markdown",
      "source": [
        "<font color='#0dab7f'> Observation:\n",
        "\n",
        "<font color='#0dab7f'> 1. Driver with low and negative Total Business value range has more  attrition\n",
        "\n",
        "<font color='#0dab7f'> 2. Driver with high total business value has less  attrition"
      ],
      "metadata": {
        "id": "8PJivi9UKD82"
      }
    },
    {
      "cell_type": "code",
      "source": [
        "# Gender vs Driver attrition\n",
        "print(df1['Gender'].value_counts())\n",
        "gender_cross = pd.crosstab(df1['Gender'], df1['target'])\n",
        "gender_cross.div(gender_cross.sum(1).astype(float), axis=0).plot(kind = 'bar', stacked = True, title = 'gender vs Driver attrition')\n",
        "plt.show()"
      ],
      "metadata": {
        "colab": {
          "base_uri": "https://localhost:8080/",
          "height": 370
        },
        "id": "9ExyhlPUKhXH",
        "outputId": "8f8f5698-3377-49c3-85de-c9da454cd6a7"
      },
      "execution_count": null,
      "outputs": [
        {
          "output_type": "stream",
          "name": "stdout",
          "text": [
            "0.0    1401\n",
            "1.0     977\n",
            "0.5       3\n",
            "Name: Gender, dtype: int64\n"
          ]
        },
        {
          "output_type": "display_data",
          "data": {
            "text/plain": [
              "<Figure size 432x288 with 1 Axes>"
            ],
            "image/png": "[encoded data removed]"
          },
          "metadata": {
            "needs_background": "light"
          }
        }
      ]
    },
    {
      "cell_type": "markdown",
      "source": [
        "<font color='#0dab7f'> Observation:\n",
        "\n",
        "<font color='#0dab7f'> 1. Attrition rate is same for both the genders\n"
      ],
      "metadata": {
        "id": "IMV0_RMnMoOm"
      }
    },
    {
      "cell_type": "code",
      "source": [
        "# Education level vs Driver attrition\n",
        "print(df1['Education_Level'].value_counts())\n",
        "Education_Level_cross = pd.crosstab(df1['Education_Level'], df1['target'])\n",
        "Education_Level_cross.div(Education_Level_cross.sum(1).astype(float), axis=0).plot(kind = 'bar', stacked = True, title = 'Education_Level vs Driver attrition')\n",
        "plt.show()"
      ],
      "metadata": {
        "colab": {
          "base_uri": "https://localhost:8080/",
          "height": 371
        },
        "id": "T68gfDJeLjxG",
        "outputId": "b9fa57c4-a850-4987-c3b0-ad8e8148ea54"
      },
      "execution_count": null,
      "outputs": [
        {
          "output_type": "stream",
          "name": "stdout",
          "text": [
            "2.0    802\n",
            "1.0    795\n",
            "0.0    784\n",
            "Name: Education_Level, dtype: int64\n"
          ]
        },
        {
          "output_type": "display_data",
          "data": {
            "text/plain": [
              "<Figure size 432x288 with 1 Axes>"
            ],
            "image/png": "[encoded data removed]"
          },
          "metadata": {
            "needs_background": "light"
          }
        }
      ]
    },
    {
      "cell_type": "markdown",
      "source": [
        "<font color='#0dab7f'> Observation:\n",
        "\n",
        "<font color='#0dab7f'> 1. Attrition rate is more for drivers with less education"
      ],
      "metadata": {
        "id": "ThbNd4QCNceF"
      }
    },
    {
      "cell_type": "code",
      "source": [
        "df1.head(5)"
      ],
      "metadata": {
        "colab": {
          "base_uri": "https://localhost:8080/",
          "height": 354
        },
        "id": "cxSFFIDTN3pN",
        "outputId": "119b2391-963b-4ded-b567-567013ed6c0d"
      },
      "execution_count": null,
      "outputs": [
        {
          "output_type": "execute_result",
          "data": {
            "text/plain": [
              "   Driver_ID ReportingDate   Age  Gender City  Education_Level   Income  \\\n",
              "0        1.0    2019-01-01  28.0     0.0  C23              2.0  57387.0   \n",
              "1        2.0    2020-11-01  31.0     0.0   C7              2.0  67016.0   \n",
              "2        4.0    2019-12-01  43.0     0.0  C13              2.0  65603.0   \n",
              "3        5.0    2019-01-01  29.0     0.0   C9              0.0  46368.0   \n",
              "4        6.0    2020-08-01  31.0     1.0  C11              1.0  78728.0   \n",
              "\n",
              "  Dateofjoining LastWorkingDate  Joining Designation  Grade  \\\n",
              "0    2018-12-24      2019-03-11                  1.0    1.0   \n",
              "1    2020-11-06             NaT                  2.0    2.0   \n",
              "2    2019-12-07      2020-04-27                  2.0    2.0   \n",
              "3    2019-01-09      2019-03-07                  1.0    1.0   \n",
              "4    2020-07-31             NaT                  3.0    3.0   \n",
              "\n",
              "   Total Business Value  Quarterly Rating  Q_Rating_Inc_Flag  target  \\\n",
              "0             1715580.0               2.0                  0       1   \n",
              "1                   0.0               1.0                  0       0   \n",
              "2              350000.0               1.0                  0       1   \n",
              "3              120360.0               1.0                  0       1   \n",
              "4             1265000.0               2.0                  1       0   \n",
              "\n",
              "   inc_flag   Age_bin       income_bin                TBV_bin  \n",
              "0         0  (20, 30]   (40000, 70000]  (200000.0, 3200000.0]  \n",
              "1         0  (30, 40]   (40000, 70000]  (-1385530.0, 80000.0]  \n",
              "2         0  (40, 50]   (40000, 70000]  (200000.0, 3200000.0]  \n",
              "3         0  (20, 30]   (40000, 70000]    (80000.0, 200000.0]  \n",
              "4         0  (30, 40]  (70000, 100000]  (200000.0, 3200000.0]  "
            ],
            "text/html": [
              "\n",
              "  <div id=\"df-dcdfdcf1-b28c-4a00-8cfb-8668085e3249\">\n",
              "    <div class=\"colab-df-container\">\n",
              "      <div>\n",
              "<style scoped>\n",
              "    .dataframe tbody tr th:only-of-type {\n",
              "        vertical-align: middle;\n",
              "    }\n",
              "\n",
              "    .dataframe tbody tr th {\n",
              "        vertical-align: top;\n",
              "    }\n",
              "\n",
              "    .dataframe thead th {\n",
              "        text-align: right;\n",
              "    }\n",
              "</style>\n",
              "<table border=\"1\" class=\"dataframe\">\n",
              "  <thead>\n",
              "    <tr style=\"text-align: right;\">\n",
              "      <th></th>\n",
              "      <th>Driver_ID</th>\n",
              "      <th>ReportingDate</th>\n",
              "      <th>Age</th>\n",
              "      <th>Gender</th>\n",
              "      <th>City</th>\n",
              "      <th>Education_Level</th>\n",
              "      <th>Income</th>\n",
              "      <th>Dateofjoining</th>\n",
              "      <th>LastWorkingDate</th>\n",
              "      <th>Joining Designation</th>\n",
              "      <th>Grade</th>\n",
              "      <th>Total Business Value</th>\n",
              "      <th>Quarterly Rating</th>\n",
              "      <th>Q_Rating_Inc_Flag</th>\n",
              "      <th>target</th>\n",
              "      <th>inc_flag</th>\n",
              "      <th>Age_bin</th>\n",
              "      <th>income_bin</th>\n",
              "      <th>TBV_bin</th>\n",
              "    </tr>\n",
              "  </thead>\n",
              "  <tbody>\n",
              "    <tr>\n",
              "      <th>0</th>\n",
              "      <td>1.0</td>\n",
              "      <td>2019-01-01</td>\n",
              "      <td>28.0</td>\n",
              "      <td>0.0</td>\n",
              "      <td>C23</td>\n",
              "      <td>2.0</td>\n",
              "      <td>57387.0</td>\n",
              "      <td>2018-12-24</td>\n",
              "      <td>2019-03-11</td>\n",
              "      <td>1.0</td>\n",
              "      <td>1.0</td>\n",
              "      <td>1715580.0</td>\n",
              "      <td>2.0</td>\n",
              "      <td>0</td>\n",
              "      <td>1</td>\n",
              "      <td>0</td>\n",
              "      <td>(20, 30]</td>\n",
              "      <td>(40000, 70000]</td>\n",
              "      <td>(200000.0, 3200000.0]</td>\n",
              "    </tr>\n",
              "    <tr>\n",
              "      <th>1</th>\n",
              "      <td>2.0</td>\n",
              "      <td>2020-11-01</td>\n",
              "      <td>31.0</td>\n",
              "      <td>0.0</td>\n",
              "      <td>C7</td>\n",
              "      <td>2.0</td>\n",
              "      <td>67016.0</td>\n",
              "      <td>2020-11-06</td>\n",
              "      <td>NaT</td>\n",
              "      <td>2.0</td>\n",
              "      <td>2.0</td>\n",
              "      <td>0.0</td>\n",
              "      <td>1.0</td>\n",
              "      <td>0</td>\n",
              "      <td>0</td>\n",
              "      <td>0</td>\n",
              "      <td>(30, 40]</td>\n",
              "      <td>(40000, 70000]</td>\n",
              "      <td>(-1385530.0, 80000.0]</td>\n",
              "    </tr>\n",
              "    <tr>\n",
              "      <th>2</th>\n",
              "      <td>4.0</td>\n",
              "      <td>2019-12-01</td>\n",
              "      <td>43.0</td>\n",
              "      <td>0.0</td>\n",
              "      <td>C13</td>\n",
              "      <td>2.0</td>\n",
              "      <td>65603.0</td>\n",
              "      <td>2019-12-07</td>\n",
              "      <td>2020-04-27</td>\n",
              "      <td>2.0</td>\n",
              "      <td>2.0</td>\n",
              "      <td>350000.0</td>\n",
              "      <td>1.0</td>\n",
              "      <td>0</td>\n",
              "      <td>1</td>\n",
              "      <td>0</td>\n",
              "      <td>(40, 50]</td>\n",
              "      <td>(40000, 70000]</td>\n",
              "      <td>(200000.0, 3200000.0]</td>\n",
              "    </tr>\n",
              "    <tr>\n",
              "      <th>3</th>\n",
              "      <td>5.0</td>\n",
              "      <td>2019-01-01</td>\n",
              "      <td>29.0</td>\n",
              "      <td>0.0</td>\n",
              "      <td>C9</td>\n",
              "      <td>0.0</td>\n",
              "      <td>46368.0</td>\n",
              "      <td>2019-01-09</td>\n",
              "      <td>2019-03-07</td>\n",
              "      <td>1.0</td>\n",
              "      <td>1.0</td>\n",
              "      <td>120360.0</td>\n",
              "      <td>1.0</td>\n",
              "      <td>0</td>\n",
              "      <td>1</td>\n",
              "      <td>0</td>\n",
              "      <td>(20, 30]</td>\n",
              "      <td>(40000, 70000]</td>\n",
              "      <td>(80000.0, 200000.0]</td>\n",
              "    </tr>\n",
              "    <tr>\n",
              "      <th>4</th>\n",
              "      <td>6.0</td>\n",
              "      <td>2020-08-01</td>\n",
              "      <td>31.0</td>\n",
              "      <td>1.0</td>\n",
              "      <td>C11</td>\n",
              "      <td>1.0</td>\n",
              "      <td>78728.0</td>\n",
              "      <td>2020-07-31</td>\n",
              "      <td>NaT</td>\n",
              "      <td>3.0</td>\n",
              "      <td>3.0</td>\n",
              "      <td>1265000.0</td>\n",
              "      <td>2.0</td>\n",
              "      <td>1</td>\n",
              "      <td>0</td>\n",
              "      <td>0</td>\n",
              "      <td>(30, 40]</td>\n",
              "      <td>(70000, 100000]</td>\n",
              "      <td>(200000.0, 3200000.0]</td>\n",
              "    </tr>\n",
              "  </tbody>\n",
              "</table>\n",
              "</div>\n",
              "      <button class=\"colab-df-convert\" onclick=\"convertToInteractive('df-dcdfdcf1-b28c-4a00-8cfb-8668085e3249')\"\n",
              "              title=\"Convert this dataframe to an interactive table.\"\n",
              "              style=\"display:none;\">\n",
              "        \n",
              "  <svg xmlns=\"http://www.w3.org/2000/svg\" height=\"24px\"viewBox=\"0 0 24 24\"\n",
              "       width=\"24px\">\n",
              "    <path d=\"M0 0h24v24H0V0z\" fill=\"none\"/>\n",
              "    <path d=\"M18.56 5.44l.94 2.06.94-2.06 2.06-.94-2.06-.94-.94-2.06-.94 2.06-2.06.94zm-11 1L8.5 8.5l.94-2.06 2.06-.94-2.06-.94L8.5 2.5l-.94 2.06-2.06.94zm10 10l.94 2.06.94-2.06 2.06-.94-2.06-.94-.94-2.06-.94 2.06-2.06.94z\"/><path d=\"M17.41 7.96l-1.37-1.37c-.4-.4-.92-.59-1.43-.59-.52 0-1.04.2-1.43.59L10.3 9.45l-7.72 7.72c-.78.78-.78 2.05 0 2.83L4 21.41c.39.39.9.59 1.41.59.51 0 1.02-.2 1.41-.59l7.78-7.78 2.81-2.81c.8-.78.8-2.07 0-2.86zM5.41 20L4 18.59l7.72-7.72 1.47 1.35L5.41 20z\"/>\n",
              "  </svg>\n",
              "      </button>\n",
              "      \n",
              "  <style>\n",
              "    .colab-df-container {\n",
              "      display:flex;\n",
              "      flex-wrap:wrap;\n",
              "      gap: 12px;\n",
              "    }\n",
              "\n",
              "    .colab-df-convert {\n",
              "      background-color: #E8F0FE;\n",
              "      border: none;\n",
              "      border-radius: 50%;\n",
              "      cursor: pointer;\n",
              "      display: none;\n",
              "      fill: #1967D2;\n",
              "      height: 32px;\n",
              "      padding: 0 0 0 0;\n",
              "      width: 32px;\n",
              "    }\n",
              "\n",
              "    .colab-df-convert:hover {\n",
              "      background-color: #E2EBFA;\n",
              "      box-shadow: 0px 1px 2px rgba(60, 64, 67, 0.3), 0px 1px 3px 1px rgba(60, 64, 67, 0.15);\n",
              "      fill: #174EA6;\n",
              "    }\n",
              "\n",
              "    [theme=dark] .colab-df-convert {\n",
              "      background-color: #3B4455;\n",
              "      fill: #D2E3FC;\n",
              "    }\n",
              "\n",
              "    [theme=dark] .colab-df-convert:hover {\n",
              "      background-color: #434B5C;\n",
              "      box-shadow: 0px 1px 3px 1px rgba(0, 0, 0, 0.15);\n",
              "      filter: drop-shadow(0px 1px 2px rgba(0, 0, 0, 0.3));\n",
              "      fill: #FFFFFF;\n",
              "    }\n",
              "  </style>\n",
              "\n",
              "      <script>\n",
              "        const buttonEl =\n",
              "          document.querySelector('#df-dcdfdcf1-b28c-4a00-8cfb-8668085e3249 button.colab-df-convert');\n",
              "        buttonEl.style.display =\n",
              "          google.colab.kernel.accessAllowed ? 'block' : 'none';\n",
              "\n",
              "        async function convertToInteractive(key) {\n",
              "          const element = document.querySelector('#df-dcdfdcf1-b28c-4a00-8cfb-8668085e3249');\n",
              "          const dataTable =\n",
              "            await google.colab.kernel.invokeFunction('convertToInteractive',\n",
              "                                                     [key], {});\n",
              "          if (!dataTable) return;\n",
              "\n",
              "          const docLinkHtml = 'Like what you see? Visit the ' +\n",
              "            '<a target=\"_blank\" href=https://colab.research.google.com/notebooks/data_table.ipynb>data table notebook</a>'\n",
              "            + ' to learn more about interactive tables.';\n",
              "          element.innerHTML = '';\n",
              "          dataTable['output_type'] = 'display_data';\n",
              "          await google.colab.output.renderOutput(dataTable, element);\n",
              "          const docLink = document.createElement('div');\n",
              "          docLink.innerHTML = docLinkHtml;\n",
              "          element.appendChild(docLink);\n",
              "        }\n",
              "      </script>\n",
              "    </div>\n",
              "  </div>\n",
              "  "
            ]
          },
          "metadata": {},
          "execution_count": 257
        }
      ]
    },
    {
      "cell_type": "code",
      "source": [
        "# dropping Age_bin , income_bin , TBV_bin from Dataframe as we created only for checking relationship \n",
        "# dropping Driver_ID because it is unique \n",
        "# Quarterly Rating - Droping it because we have created increment flag\n",
        "# LastWorkingDate - Droping it because we have created target column based on it.\n",
        "\n",
        "df1.drop(['Age_bin', 'income_bin', 'TBV_bin', 'Driver_ID', 'Quarterly Rating', 'LastWorkingDate'], axis = 1, inplace = True)\n",
        "df1.head(5)"
      ],
      "metadata": {
        "colab": {
          "base_uri": "https://localhost:8080/",
          "height": 206
        },
        "id": "QT1CiKOcOJ1E",
        "outputId": "4282072b-50e1-4491-99ff-2d1adfb4aeef"
      },
      "execution_count": null,
      "outputs": [
        {
          "output_type": "execute_result",
          "data": {
            "text/plain": [
              "  ReportingDate   Age  Gender City  Education_Level   Income Dateofjoining  \\\n",
              "0    2019-01-01  28.0     0.0  C23              2.0  57387.0    2018-12-24   \n",
              "1    2020-11-01  31.0     0.0   C7              2.0  67016.0    2020-11-06   \n",
              "2    2019-12-01  43.0     0.0  C13              2.0  65603.0    2019-12-07   \n",
              "3    2019-01-01  29.0     0.0   C9              0.0  46368.0    2019-01-09   \n",
              "4    2020-08-01  31.0     1.0  C11              1.0  78728.0    2020-07-31   \n",
              "\n",
              "   Joining Designation  Grade  Total Business Value  Q_Rating_Inc_Flag  \\\n",
              "0                  1.0    1.0             1715580.0                  0   \n",
              "1                  2.0    2.0                   0.0                  0   \n",
              "2                  2.0    2.0              350000.0                  0   \n",
              "3                  1.0    1.0              120360.0                  0   \n",
              "4                  3.0    3.0             1265000.0                  1   \n",
              "\n",
              "   target  inc_flag  \n",
              "0       1         0  \n",
              "1       0         0  \n",
              "2       1         0  \n",
              "3       1         0  \n",
              "4       0         0  "
            ],
            "text/html": [
              "\n",
              "  <div id=\"df-e9900578-3e95-41fb-b985-a53593ed7478\">\n",
              "    <div class=\"colab-df-container\">\n",
              "      <div>\n",
              "<style scoped>\n",
              "    .dataframe tbody tr th:only-of-type {\n",
              "        vertical-align: middle;\n",
              "    }\n",
              "\n",
              "    .dataframe tbody tr th {\n",
              "        vertical-align: top;\n",
              "    }\n",
              "\n",
              "    .dataframe thead th {\n",
              "        text-align: right;\n",
              "    }\n",
              "</style>\n",
              "<table border=\"1\" class=\"dataframe\">\n",
              "  <thead>\n",
              "    <tr style=\"text-align: right;\">\n",
              "      <th></th>\n",
              "      <th>ReportingDate</th>\n",
              "      <th>Age</th>\n",
              "      <th>Gender</th>\n",
              "      <th>City</th>\n",
              "      <th>Education_Level</th>\n",
              "      <th>Income</th>\n",
              "      <th>Dateofjoining</th>\n",
              "      <th>Joining Designation</th>\n",
              "      <th>Grade</th>\n",
              "      <th>Total Business Value</th>\n",
              "      <th>Q_Rating_Inc_Flag</th>\n",
              "      <th>target</th>\n",
              "      <th>inc_flag</th>\n",
              "    </tr>\n",
              "  </thead>\n",
              "  <tbody>\n",
              "    <tr>\n",
              "      <th>0</th>\n",
              "      <td>2019-01-01</td>\n",
              "      <td>28.0</td>\n",
              "      <td>0.0</td>\n",
              "      <td>C23</td>\n",
              "      <td>2.0</td>\n",
              "      <td>57387.0</td>\n",
              "      <td>2018-12-24</td>\n",
              "      <td>1.0</td>\n",
              "      <td>1.0</td>\n",
              "      <td>1715580.0</td>\n",
              "      <td>0</td>\n",
              "      <td>1</td>\n",
              "      <td>0</td>\n",
              "    </tr>\n",
              "    <tr>\n",
              "      <th>1</th>\n",
              "      <td>2020-11-01</td>\n",
              "      <td>31.0</td>\n",
              "      <td>0.0</td>\n",
              "      <td>C7</td>\n",
              "      <td>2.0</td>\n",
              "      <td>67016.0</td>\n",
              "      <td>2020-11-06</td>\n",
              "      <td>2.0</td>\n",
              "      <td>2.0</td>\n",
              "      <td>0.0</td>\n",
              "      <td>0</td>\n",
              "      <td>0</td>\n",
              "      <td>0</td>\n",
              "    </tr>\n",
              "    <tr>\n",
              "      <th>2</th>\n",
              "      <td>2019-12-01</td>\n",
              "      <td>43.0</td>\n",
              "      <td>0.0</td>\n",
              "      <td>C13</td>\n",
              "      <td>2.0</td>\n",
              "      <td>65603.0</td>\n",
              "      <td>2019-12-07</td>\n",
              "      <td>2.0</td>\n",
              "      <td>2.0</td>\n",
              "      <td>350000.0</td>\n",
              "      <td>0</td>\n",
              "      <td>1</td>\n",
              "      <td>0</td>\n",
              "    </tr>\n",
              "    <tr>\n",
              "      <th>3</th>\n",
              "      <td>2019-01-01</td>\n",
              "      <td>29.0</td>\n",
              "      <td>0.0</td>\n",
              "      <td>C9</td>\n",
              "      <td>0.0</td>\n",
              "      <td>46368.0</td>\n",
              "      <td>2019-01-09</td>\n",
              "      <td>1.0</td>\n",
              "      <td>1.0</td>\n",
              "      <td>120360.0</td>\n",
              "      <td>0</td>\n",
              "      <td>1</td>\n",
              "      <td>0</td>\n",
              "    </tr>\n",
              "    <tr>\n",
              "      <th>4</th>\n",
              "      <td>2020-08-01</td>\n",
              "      <td>31.0</td>\n",
              "      <td>1.0</td>\n",
              "      <td>C11</td>\n",
              "      <td>1.0</td>\n",
              "      <td>78728.0</td>\n",
              "      <td>2020-07-31</td>\n",
              "      <td>3.0</td>\n",
              "      <td>3.0</td>\n",
              "      <td>1265000.0</td>\n",
              "      <td>1</td>\n",
              "      <td>0</td>\n",
              "      <td>0</td>\n",
              "    </tr>\n",
              "  </tbody>\n",
              "</table>\n",
              "</div>\n",
              "      <button class=\"colab-df-convert\" onclick=\"convertToInteractive('df-e9900578-3e95-41fb-b985-a53593ed7478')\"\n",
              "              title=\"Convert this dataframe to an interactive table.\"\n",
              "              style=\"display:none;\">\n",
              "        \n",
              "  <svg xmlns=\"http://www.w3.org/2000/svg\" height=\"24px\"viewBox=\"0 0 24 24\"\n",
              "       width=\"24px\">\n",
              "    <path d=\"M0 0h24v24H0V0z\" fill=\"none\"/>\n",
              "    <path d=\"M18.56 5.44l.94 2.06.94-2.06 2.06-.94-2.06-.94-.94-2.06-.94 2.06-2.06.94zm-11 1L8.5 8.5l.94-2.06 2.06-.94-2.06-.94L8.5 2.5l-.94 2.06-2.06.94zm10 10l.94 2.06.94-2.06 2.06-.94-2.06-.94-.94-2.06-.94 2.06-2.06.94z\"/><path d=\"M17.41 7.96l-1.37-1.37c-.4-.4-.92-.59-1.43-.59-.52 0-1.04.2-1.43.59L10.3 9.45l-7.72 7.72c-.78.78-.78 2.05 0 2.83L4 21.41c.39.39.9.59 1.41.59.51 0 1.02-.2 1.41-.59l7.78-7.78 2.81-2.81c.8-.78.8-2.07 0-2.86zM5.41 20L4 18.59l7.72-7.72 1.47 1.35L5.41 20z\"/>\n",
              "  </svg>\n",
              "      </button>\n",
              "      \n",
              "  <style>\n",
              "    .colab-df-container {\n",
              "      display:flex;\n",
              "      flex-wrap:wrap;\n",
              "      gap: 12px;\n",
              "    }\n",
              "\n",
              "    .colab-df-convert {\n",
              "      background-color: #E8F0FE;\n",
              "      border: none;\n",
              "      border-radius: 50%;\n",
              "      cursor: pointer;\n",
              "      display: none;\n",
              "      fill: #1967D2;\n",
              "      height: 32px;\n",
              "      padding: 0 0 0 0;\n",
              "      width: 32px;\n",
              "    }\n",
              "\n",
              "    .colab-df-convert:hover {\n",
              "      background-color: #E2EBFA;\n",
              "      box-shadow: 0px 1px 2px rgba(60, 64, 67, 0.3), 0px 1px 3px 1px rgba(60, 64, 67, 0.15);\n",
              "      fill: #174EA6;\n",
              "    }\n",
              "\n",
              "    [theme=dark] .colab-df-convert {\n",
              "      background-color: #3B4455;\n",
              "      fill: #D2E3FC;\n",
              "    }\n",
              "\n",
              "    [theme=dark] .colab-df-convert:hover {\n",
              "      background-color: #434B5C;\n",
              "      box-shadow: 0px 1px 3px 1px rgba(0, 0, 0, 0.15);\n",
              "      filter: drop-shadow(0px 1px 2px rgba(0, 0, 0, 0.3));\n",
              "      fill: #FFFFFF;\n",
              "    }\n",
              "  </style>\n",
              "\n",
              "      <script>\n",
              "        const buttonEl =\n",
              "          document.querySelector('#df-e9900578-3e95-41fb-b985-a53593ed7478 button.colab-df-convert');\n",
              "        buttonEl.style.display =\n",
              "          google.colab.kernel.accessAllowed ? 'block' : 'none';\n",
              "\n",
              "        async function convertToInteractive(key) {\n",
              "          const element = document.querySelector('#df-e9900578-3e95-41fb-b985-a53593ed7478');\n",
              "          const dataTable =\n",
              "            await google.colab.kernel.invokeFunction('convertToInteractive',\n",
              "                                                     [key], {});\n",
              "          if (!dataTable) return;\n",
              "\n",
              "          const docLinkHtml = 'Like what you see? Visit the ' +\n",
              "            '<a target=\"_blank\" href=https://colab.research.google.com/notebooks/data_table.ipynb>data table notebook</a>'\n",
              "            + ' to learn more about interactive tables.';\n",
              "          element.innerHTML = '';\n",
              "          dataTable['output_type'] = 'display_data';\n",
              "          await google.colab.output.renderOutput(dataTable, element);\n",
              "          const docLink = document.createElement('div');\n",
              "          docLink.innerHTML = docLinkHtml;\n",
              "          element.appendChild(docLink);\n",
              "        }\n",
              "      </script>\n",
              "    </div>\n",
              "  </div>\n",
              "  "
            ]
          },
          "metadata": {},
          "execution_count": 258
        }
      ]
    },
    {
      "cell_type": "code",
      "source": [
        "# Extracting year and month from ReportingDate and Dateofjoining\n",
        "\n",
        "df1['Reporting_year'] = df1['ReportingDate'].dt.year\n",
        "df1['Reporting_month'] = df1['ReportingDate'].dt.month\n",
        "df1['Joining_year'] = df1['Dateofjoining'].dt.year\n",
        "df1['Joining_month'] = df1['Dateofjoining'].dt.month"
      ],
      "metadata": {
        "id": "Er6SYtp-RtQl"
      },
      "execution_count": null,
      "outputs": []
    },
    {
      "cell_type": "code",
      "source": [
        "# Dropping ReportingDate, Dateofjoining\n",
        "df1.drop(['ReportingDate', 'Dateofjoining'], axis = 1, inplace = True)"
      ],
      "metadata": {
        "id": "JMzodVk4TJeb"
      },
      "execution_count": null,
      "outputs": []
    },
    {
      "cell_type": "code",
      "source": [
        "df1.head(5)"
      ],
      "metadata": {
        "colab": {
          "base_uri": "https://localhost:8080/",
          "height": 206
        },
        "id": "emV-Tou7Tjp3",
        "outputId": "73835e7d-efb7-461b-f494-7ebef103c4a4"
      },
      "execution_count": null,
      "outputs": [
        {
          "output_type": "execute_result",
          "data": {
            "text/plain": [
              "    Age  Gender City  Education_Level   Income  Joining Designation  Grade  \\\n",
              "0  28.0     0.0  C23              2.0  57387.0                  1.0    1.0   \n",
              "1  31.0     0.0   C7              2.0  67016.0                  2.0    2.0   \n",
              "2  43.0     0.0  C13              2.0  65603.0                  2.0    2.0   \n",
              "3  29.0     0.0   C9              0.0  46368.0                  1.0    1.0   \n",
              "4  31.0     1.0  C11              1.0  78728.0                  3.0    3.0   \n",
              "\n",
              "   Total Business Value  Q_Rating_Inc_Flag  target  inc_flag  Reporting_year  \\\n",
              "0             1715580.0                  0       1         0            2019   \n",
              "1                   0.0                  0       0         0            2020   \n",
              "2              350000.0                  0       1         0            2019   \n",
              "3              120360.0                  0       1         0            2019   \n",
              "4             1265000.0                  1       0         0            2020   \n",
              "\n",
              "   Reporting_month  Joining_year  Joining_month  \n",
              "0                1          2018             12  \n",
              "1               11          2020             11  \n",
              "2               12          2019             12  \n",
              "3                1          2019              1  \n",
              "4                8          2020              7  "
            ],
            "text/html": [
              "\n",
              "  <div id=\"df-f577d50b-4afd-452b-8e6a-67ebc819987f\">\n",
              "    <div class=\"colab-df-container\">\n",
              "      <div>\n",
              "<style scoped>\n",
              "    .dataframe tbody tr th:only-of-type {\n",
              "        vertical-align: middle;\n",
              "    }\n",
              "\n",
              "    .dataframe tbody tr th {\n",
              "        vertical-align: top;\n",
              "    }\n",
              "\n",
              "    .dataframe thead th {\n",
              "        text-align: right;\n",
              "    }\n",
              "</style>\n",
              "<table border=\"1\" class=\"dataframe\">\n",
              "  <thead>\n",
              "    <tr style=\"text-align: right;\">\n",
              "      <th></th>\n",
              "      <th>Age</th>\n",
              "      <th>Gender</th>\n",
              "      <th>City</th>\n",
              "      <th>Education_Level</th>\n",
              "      <th>Income</th>\n",
              "      <th>Joining Designation</th>\n",
              "      <th>Grade</th>\n",
              "      <th>Total Business Value</th>\n",
              "      <th>Q_Rating_Inc_Flag</th>\n",
              "      <th>target</th>\n",
              "      <th>inc_flag</th>\n",
              "      <th>Reporting_year</th>\n",
              "      <th>Reporting_month</th>\n",
              "      <th>Joining_year</th>\n",
              "      <th>Joining_month</th>\n",
              "    </tr>\n",
              "  </thead>\n",
              "  <tbody>\n",
              "    <tr>\n",
              "      <th>0</th>\n",
              "      <td>28.0</td>\n",
              "      <td>0.0</td>\n",
              "      <td>C23</td>\n",
              "      <td>2.0</td>\n",
              "      <td>57387.0</td>\n",
              "      <td>1.0</td>\n",
              "      <td>1.0</td>\n",
              "      <td>1715580.0</td>\n",
              "      <td>0</td>\n",
              "      <td>1</td>\n",
              "      <td>0</td>\n",
              "      <td>2019</td>\n",
              "      <td>1</td>\n",
              "      <td>2018</td>\n",
              "      <td>12</td>\n",
              "    </tr>\n",
              "    <tr>\n",
              "      <th>1</th>\n",
              "      <td>31.0</td>\n",
              "      <td>0.0</td>\n",
              "      <td>C7</td>\n",
              "      <td>2.0</td>\n",
              "      <td>67016.0</td>\n",
              "      <td>2.0</td>\n",
              "      <td>2.0</td>\n",
              "      <td>0.0</td>\n",
              "      <td>0</td>\n",
              "      <td>0</td>\n",
              "      <td>0</td>\n",
              "      <td>2020</td>\n",
              "      <td>11</td>\n",
              "      <td>2020</td>\n",
              "      <td>11</td>\n",
              "    </tr>\n",
              "    <tr>\n",
              "      <th>2</th>\n",
              "      <td>43.0</td>\n",
              "      <td>0.0</td>\n",
              "      <td>C13</td>\n",
              "      <td>2.0</td>\n",
              "      <td>65603.0</td>\n",
              "      <td>2.0</td>\n",
              "      <td>2.0</td>\n",
              "      <td>350000.0</td>\n",
              "      <td>0</td>\n",
              "      <td>1</td>\n",
              "      <td>0</td>\n",
              "      <td>2019</td>\n",
              "      <td>12</td>\n",
              "      <td>2019</td>\n",
              "      <td>12</td>\n",
              "    </tr>\n",
              "    <tr>\n",
              "      <th>3</th>\n",
              "      <td>29.0</td>\n",
              "      <td>0.0</td>\n",
              "      <td>C9</td>\n",
              "      <td>0.0</td>\n",
              "      <td>46368.0</td>\n",
              "      <td>1.0</td>\n",
              "      <td>1.0</td>\n",
              "      <td>120360.0</td>\n",
              "      <td>0</td>\n",
              "      <td>1</td>\n",
              "      <td>0</td>\n",
              "      <td>2019</td>\n",
              "      <td>1</td>\n",
              "      <td>2019</td>\n",
              "      <td>1</td>\n",
              "    </tr>\n",
              "    <tr>\n",
              "      <th>4</th>\n",
              "      <td>31.0</td>\n",
              "      <td>1.0</td>\n",
              "      <td>C11</td>\n",
              "      <td>1.0</td>\n",
              "      <td>78728.0</td>\n",
              "      <td>3.0</td>\n",
              "      <td>3.0</td>\n",
              "      <td>1265000.0</td>\n",
              "      <td>1</td>\n",
              "      <td>0</td>\n",
              "      <td>0</td>\n",
              "      <td>2020</td>\n",
              "      <td>8</td>\n",
              "      <td>2020</td>\n",
              "      <td>7</td>\n",
              "    </tr>\n",
              "  </tbody>\n",
              "</table>\n",
              "</div>\n",
              "      <button class=\"colab-df-convert\" onclick=\"convertToInteractive('df-f577d50b-4afd-452b-8e6a-67ebc819987f')\"\n",
              "              title=\"Convert this dataframe to an interactive table.\"\n",
              "              style=\"display:none;\">\n",
              "        \n",
              "  <svg xmlns=\"http://www.w3.org/2000/svg\" height=\"24px\"viewBox=\"0 0 24 24\"\n",
              "       width=\"24px\">\n",
              "    <path d=\"M0 0h24v24H0V0z\" fill=\"none\"/>\n",
              "    <path d=\"M18.56 5.44l.94 2.06.94-2.06 2.06-.94-2.06-.94-.94-2.06-.94 2.06-2.06.94zm-11 1L8.5 8.5l.94-2.06 2.06-.94-2.06-.94L8.5 2.5l-.94 2.06-2.06.94zm10 10l.94 2.06.94-2.06 2.06-.94-2.06-.94-.94-2.06-.94 2.06-2.06.94z\"/><path d=\"M17.41 7.96l-1.37-1.37c-.4-.4-.92-.59-1.43-.59-.52 0-1.04.2-1.43.59L10.3 9.45l-7.72 7.72c-.78.78-.78 2.05 0 2.83L4 21.41c.39.39.9.59 1.41.59.51 0 1.02-.2 1.41-.59l7.78-7.78 2.81-2.81c.8-.78.8-2.07 0-2.86zM5.41 20L4 18.59l7.72-7.72 1.47 1.35L5.41 20z\"/>\n",
              "  </svg>\n",
              "      </button>\n",
              "      \n",
              "  <style>\n",
              "    .colab-df-container {\n",
              "      display:flex;\n",
              "      flex-wrap:wrap;\n",
              "      gap: 12px;\n",
              "    }\n",
              "\n",
              "    .colab-df-convert {\n",
              "      background-color: #E8F0FE;\n",
              "      border: none;\n",
              "      border-radius: 50%;\n",
              "      cursor: pointer;\n",
              "      display: none;\n",
              "      fill: #1967D2;\n",
              "      height: 32px;\n",
              "      padding: 0 0 0 0;\n",
              "      width: 32px;\n",
              "    }\n",
              "\n",
              "    .colab-df-convert:hover {\n",
              "      background-color: #E2EBFA;\n",
              "      box-shadow: 0px 1px 2px rgba(60, 64, 67, 0.3), 0px 1px 3px 1px rgba(60, 64, 67, 0.15);\n",
              "      fill: #174EA6;\n",
              "    }\n",
              "\n",
              "    [theme=dark] .colab-df-convert {\n",
              "      background-color: #3B4455;\n",
              "      fill: #D2E3FC;\n",
              "    }\n",
              "\n",
              "    [theme=dark] .colab-df-convert:hover {\n",
              "      background-color: #434B5C;\n",
              "      box-shadow: 0px 1px 3px 1px rgba(0, 0, 0, 0.15);\n",
              "      filter: drop-shadow(0px 1px 2px rgba(0, 0, 0, 0.3));\n",
              "      fill: #FFFFFF;\n",
              "    }\n",
              "  </style>\n",
              "\n",
              "      <script>\n",
              "        const buttonEl =\n",
              "          document.querySelector('#df-f577d50b-4afd-452b-8e6a-67ebc819987f button.colab-df-convert');\n",
              "        buttonEl.style.display =\n",
              "          google.colab.kernel.accessAllowed ? 'block' : 'none';\n",
              "\n",
              "        async function convertToInteractive(key) {\n",
              "          const element = document.querySelector('#df-f577d50b-4afd-452b-8e6a-67ebc819987f');\n",
              "          const dataTable =\n",
              "            await google.colab.kernel.invokeFunction('convertToInteractive',\n",
              "                                                     [key], {});\n",
              "          if (!dataTable) return;\n",
              "\n",
              "          const docLinkHtml = 'Like what you see? Visit the ' +\n",
              "            '<a target=\"_blank\" href=https://colab.research.google.com/notebooks/data_table.ipynb>data table notebook</a>'\n",
              "            + ' to learn more about interactive tables.';\n",
              "          element.innerHTML = '';\n",
              "          dataTable['output_type'] = 'display_data';\n",
              "          await google.colab.output.renderOutput(dataTable, element);\n",
              "          const docLink = document.createElement('div');\n",
              "          docLink.innerHTML = docLinkHtml;\n",
              "          element.appendChild(docLink);\n",
              "        }\n",
              "      </script>\n",
              "    </div>\n",
              "  </div>\n",
              "  "
            ]
          },
          "metadata": {},
          "execution_count": 261
        }
      ]
    },
    {
      "cell_type": "code",
      "source": [
        "# outlier check for Age , Income , total Business value \n",
        "\n",
        "outlier_treat = ['Age', 'Income', 'Total Business Value']\n",
        "df1[outlier_treat]"
      ],
      "metadata": {
        "colab": {
          "base_uri": "https://localhost:8080/",
          "height": 424
        },
        "id": "_n-GqiM2T4E2",
        "outputId": "b94c3ae1-0c65-4be3-b24c-3e6dc328487f"
      },
      "execution_count": null,
      "outputs": [
        {
          "output_type": "execute_result",
          "data": {
            "text/plain": [
              "       Age   Income  Total Business Value\n",
              "0     28.0  57387.0             1715580.0\n",
              "1     31.0  67016.0                   0.0\n",
              "2     43.0  65603.0              350000.0\n",
              "3     29.0  46368.0              120360.0\n",
              "4     31.0  78728.0             1265000.0\n",
              "...    ...      ...                   ...\n",
              "2376  34.0  82815.0            21748820.0\n",
              "2377  34.0  12105.0                   0.0\n",
              "2378  45.0  35370.0             2815090.0\n",
              "2379  28.0  69498.0              977830.0\n",
              "2380  30.0  70254.0             2298240.0\n",
              "\n",
              "[2381 rows x 3 columns]"
            ],
            "text/html": [
              "\n",
              "  <div id=\"df-7ac6c6b4-c2a3-495d-b8d9-fb13e8aaae0d\">\n",
              "    <div class=\"colab-df-container\">\n",
              "      <div>\n",
              "<style scoped>\n",
              "    .dataframe tbody tr th:only-of-type {\n",
              "        vertical-align: middle;\n",
              "    }\n",
              "\n",
              "    .dataframe tbody tr th {\n",
              "        vertical-align: top;\n",
              "    }\n",
              "\n",
              "    .dataframe thead th {\n",
              "        text-align: right;\n",
              "    }\n",
              "</style>\n",
              "<table border=\"1\" class=\"dataframe\">\n",
              "  <thead>\n",
              "    <tr style=\"text-align: right;\">\n",
              "      <th></th>\n",
              "      <th>Age</th>\n",
              "      <th>Income</th>\n",
              "      <th>Total Business Value</th>\n",
              "    </tr>\n",
              "  </thead>\n",
              "  <tbody>\n",
              "    <tr>\n",
              "      <th>0</th>\n",
              "      <td>28.0</td>\n",
              "      <td>57387.0</td>\n",
              "      <td>1715580.0</td>\n",
              "    </tr>\n",
              "    <tr>\n",
              "      <th>1</th>\n",
              "      <td>31.0</td>\n",
              "      <td>67016.0</td>\n",
              "      <td>0.0</td>\n",
              "    </tr>\n",
              "    <tr>\n",
              "      <th>2</th>\n",
              "      <td>43.0</td>\n",
              "      <td>65603.0</td>\n",
              "      <td>350000.0</td>\n",
              "    </tr>\n",
              "    <tr>\n",
              "      <th>3</th>\n",
              "      <td>29.0</td>\n",
              "      <td>46368.0</td>\n",
              "      <td>120360.0</td>\n",
              "    </tr>\n",
              "    <tr>\n",
              "      <th>4</th>\n",
              "      <td>31.0</td>\n",
              "      <td>78728.0</td>\n",
              "      <td>1265000.0</td>\n",
              "    </tr>\n",
              "    <tr>\n",
              "      <th>...</th>\n",
              "      <td>...</td>\n",
              "      <td>...</td>\n",
              "      <td>...</td>\n",
              "    </tr>\n",
              "    <tr>\n",
              "      <th>2376</th>\n",
              "      <td>34.0</td>\n",
              "      <td>82815.0</td>\n",
              "      <td>21748820.0</td>\n",
              "    </tr>\n",
              "    <tr>\n",
              "      <th>2377</th>\n",
              "      <td>34.0</td>\n",
              "      <td>12105.0</td>\n",
              "      <td>0.0</td>\n",
              "    </tr>\n",
              "    <tr>\n",
              "      <th>2378</th>\n",
              "      <td>45.0</td>\n",
              "      <td>35370.0</td>\n",
              "      <td>2815090.0</td>\n",
              "    </tr>\n",
              "    <tr>\n",
              "      <th>2379</th>\n",
              "      <td>28.0</td>\n",
              "      <td>69498.0</td>\n",
              "      <td>977830.0</td>\n",
              "    </tr>\n",
              "    <tr>\n",
              "      <th>2380</th>\n",
              "      <td>30.0</td>\n",
              "      <td>70254.0</td>\n",
              "      <td>2298240.0</td>\n",
              "    </tr>\n",
              "  </tbody>\n",
              "</table>\n",
              "<p>2381 rows × 3 columns</p>\n",
              "</div>\n",
              "      <button class=\"colab-df-convert\" onclick=\"convertToInteractive('df-7ac6c6b4-c2a3-495d-b8d9-fb13e8aaae0d')\"\n",
              "              title=\"Convert this dataframe to an interactive table.\"\n",
              "              style=\"display:none;\">\n",
              "        \n",
              "  <svg xmlns=\"http://www.w3.org/2000/svg\" height=\"24px\"viewBox=\"0 0 24 24\"\n",
              "       width=\"24px\">\n",
              "    <path d=\"M0 0h24v24H0V0z\" fill=\"none\"/>\n",
              "    <path d=\"M18.56 5.44l.94 2.06.94-2.06 2.06-.94-2.06-.94-.94-2.06-.94 2.06-2.06.94zm-11 1L8.5 8.5l.94-2.06 2.06-.94-2.06-.94L8.5 2.5l-.94 2.06-2.06.94zm10 10l.94 2.06.94-2.06 2.06-.94-2.06-.94-.94-2.06-.94 2.06-2.06.94z\"/><path d=\"M17.41 7.96l-1.37-1.37c-.4-.4-.92-.59-1.43-.59-.52 0-1.04.2-1.43.59L10.3 9.45l-7.72 7.72c-.78.78-.78 2.05 0 2.83L4 21.41c.39.39.9.59 1.41.59.51 0 1.02-.2 1.41-.59l7.78-7.78 2.81-2.81c.8-.78.8-2.07 0-2.86zM5.41 20L4 18.59l7.72-7.72 1.47 1.35L5.41 20z\"/>\n",
              "  </svg>\n",
              "      </button>\n",
              "      \n",
              "  <style>\n",
              "    .colab-df-container {\n",
              "      display:flex;\n",
              "      flex-wrap:wrap;\n",
              "      gap: 12px;\n",
              "    }\n",
              "\n",
              "    .colab-df-convert {\n",
              "      background-color: #E8F0FE;\n",
              "      border: none;\n",
              "      border-radius: 50%;\n",
              "      cursor: pointer;\n",
              "      display: none;\n",
              "      fill: #1967D2;\n",
              "      height: 32px;\n",
              "      padding: 0 0 0 0;\n",
              "      width: 32px;\n",
              "    }\n",
              "\n",
              "    .colab-df-convert:hover {\n",
              "      background-color: #E2EBFA;\n",
              "      box-shadow: 0px 1px 2px rgba(60, 64, 67, 0.3), 0px 1px 3px 1px rgba(60, 64, 67, 0.15);\n",
              "      fill: #174EA6;\n",
              "    }\n",
              "\n",
              "    [theme=dark] .colab-df-convert {\n",
              "      background-color: #3B4455;\n",
              "      fill: #D2E3FC;\n",
              "    }\n",
              "\n",
              "    [theme=dark] .colab-df-convert:hover {\n",
              "      background-color: #434B5C;\n",
              "      box-shadow: 0px 1px 3px 1px rgba(0, 0, 0, 0.15);\n",
              "      filter: drop-shadow(0px 1px 2px rgba(0, 0, 0, 0.3));\n",
              "      fill: #FFFFFF;\n",
              "    }\n",
              "  </style>\n",
              "\n",
              "      <script>\n",
              "        const buttonEl =\n",
              "          document.querySelector('#df-7ac6c6b4-c2a3-495d-b8d9-fb13e8aaae0d button.colab-df-convert');\n",
              "        buttonEl.style.display =\n",
              "          google.colab.kernel.accessAllowed ? 'block' : 'none';\n",
              "\n",
              "        async function convertToInteractive(key) {\n",
              "          const element = document.querySelector('#df-7ac6c6b4-c2a3-495d-b8d9-fb13e8aaae0d');\n",
              "          const dataTable =\n",
              "            await google.colab.kernel.invokeFunction('convertToInteractive',\n",
              "                                                     [key], {});\n",
              "          if (!dataTable) return;\n",
              "\n",
              "          const docLinkHtml = 'Like what you see? Visit the ' +\n",
              "            '<a target=\"_blank\" href=https://colab.research.google.com/notebooks/data_table.ipynb>data table notebook</a>'\n",
              "            + ' to learn more about interactive tables.';\n",
              "          element.innerHTML = '';\n",
              "          dataTable['output_type'] = 'display_data';\n",
              "          await google.colab.output.renderOutput(dataTable, element);\n",
              "          const docLink = document.createElement('div');\n",
              "          docLink.innerHTML = docLinkHtml;\n",
              "          element.appendChild(docLink);\n",
              "        }\n",
              "      </script>\n",
              "    </div>\n",
              "  </div>\n",
              "  "
            ]
          },
          "metadata": {},
          "execution_count": 263
        }
      ]
    },
    {
      "cell_type": "code",
      "source": [
        "df1, outliers = remove_outliers(df1, outlier_treat, method='iqr')\n",
        "df1.head(5)"
      ],
      "metadata": {
        "colab": {
          "base_uri": "https://localhost:8080/",
          "height": 224
        },
        "id": "UM82MbqbhXts",
        "outputId": "5107bb2a-3d29-43db-f30a-637ec8c973a7"
      },
      "execution_count": null,
      "outputs": [
        {
          "output_type": "stream",
          "name": "stdout",
          "text": [
            "0.0% data detected as outlier.\n"
          ]
        },
        {
          "output_type": "execute_result",
          "data": {
            "text/plain": [
              "    Age  Gender City  Education_Level   Income  Joining Designation  Grade  \\\n",
              "0  28.0     0.0  C23              2.0  57387.0                  1.0    1.0   \n",
              "1  31.0     0.0   C7              2.0  67016.0                  2.0    2.0   \n",
              "2  43.0     0.0  C13              2.0  65603.0                  2.0    2.0   \n",
              "3  29.0     0.0   C9              0.0  46368.0                  1.0    1.0   \n",
              "4  31.0     1.0  C11              1.0  78728.0                  3.0    3.0   \n",
              "\n",
              "   Total Business Value  Q_Rating_Inc_Flag  target  inc_flag  Reporting_year  \\\n",
              "0             1715580.0                  0       1         0            2019   \n",
              "1                   0.0                  0       0         0            2020   \n",
              "2              350000.0                  0       1         0            2019   \n",
              "3              120360.0                  0       1         0            2019   \n",
              "4             1265000.0                  1       0         0            2020   \n",
              "\n",
              "   Reporting_month  Joining_year  Joining_month  \n",
              "0                1          2018             12  \n",
              "1               11          2020             11  \n",
              "2               12          2019             12  \n",
              "3                1          2019              1  \n",
              "4                8          2020              7  "
            ],
            "text/html": [
              "\n",
              "  <div id=\"df-597345c1-34ab-484b-b9f1-006a8951f522\">\n",
              "    <div class=\"colab-df-container\">\n",
              "      <div>\n",
              "<style scoped>\n",
              "    .dataframe tbody tr th:only-of-type {\n",
              "        vertical-align: middle;\n",
              "    }\n",
              "\n",
              "    .dataframe tbody tr th {\n",
              "        vertical-align: top;\n",
              "    }\n",
              "\n",
              "    .dataframe thead th {\n",
              "        text-align: right;\n",
              "    }\n",
              "</style>\n",
              "<table border=\"1\" class=\"dataframe\">\n",
              "  <thead>\n",
              "    <tr style=\"text-align: right;\">\n",
              "      <th></th>\n",
              "      <th>Age</th>\n",
              "      <th>Gender</th>\n",
              "      <th>City</th>\n",
              "      <th>Education_Level</th>\n",
              "      <th>Income</th>\n",
              "      <th>Joining Designation</th>\n",
              "      <th>Grade</th>\n",
              "      <th>Total Business Value</th>\n",
              "      <th>Q_Rating_Inc_Flag</th>\n",
              "      <th>target</th>\n",
              "      <th>inc_flag</th>\n",
              "      <th>Reporting_year</th>\n",
              "      <th>Reporting_month</th>\n",
              "      <th>Joining_year</th>\n",
              "      <th>Joining_month</th>\n",
              "    </tr>\n",
              "  </thead>\n",
              "  <tbody>\n",
              "    <tr>\n",
              "      <th>0</th>\n",
              "      <td>28.0</td>\n",
              "      <td>0.0</td>\n",
              "      <td>C23</td>\n",
              "      <td>2.0</td>\n",
              "      <td>57387.0</td>\n",
              "      <td>1.0</td>\n",
              "      <td>1.0</td>\n",
              "      <td>1715580.0</td>\n",
              "      <td>0</td>\n",
              "      <td>1</td>\n",
              "      <td>0</td>\n",
              "      <td>2019</td>\n",
              "      <td>1</td>\n",
              "      <td>2018</td>\n",
              "      <td>12</td>\n",
              "    </tr>\n",
              "    <tr>\n",
              "      <th>1</th>\n",
              "      <td>31.0</td>\n",
              "      <td>0.0</td>\n",
              "      <td>C7</td>\n",
              "      <td>2.0</td>\n",
              "      <td>67016.0</td>\n",
              "      <td>2.0</td>\n",
              "      <td>2.0</td>\n",
              "      <td>0.0</td>\n",
              "      <td>0</td>\n",
              "      <td>0</td>\n",
              "      <td>0</td>\n",
              "      <td>2020</td>\n",
              "      <td>11</td>\n",
              "      <td>2020</td>\n",
              "      <td>11</td>\n",
              "    </tr>\n",
              "    <tr>\n",
              "      <th>2</th>\n",
              "      <td>43.0</td>\n",
              "      <td>0.0</td>\n",
              "      <td>C13</td>\n",
              "      <td>2.0</td>\n",
              "      <td>65603.0</td>\n",
              "      <td>2.0</td>\n",
              "      <td>2.0</td>\n",
              "      <td>350000.0</td>\n",
              "      <td>0</td>\n",
              "      <td>1</td>\n",
              "      <td>0</td>\n",
              "      <td>2019</td>\n",
              "      <td>12</td>\n",
              "      <td>2019</td>\n",
              "      <td>12</td>\n",
              "    </tr>\n",
              "    <tr>\n",
              "      <th>3</th>\n",
              "      <td>29.0</td>\n",
              "      <td>0.0</td>\n",
              "      <td>C9</td>\n",
              "      <td>0.0</td>\n",
              "      <td>46368.0</td>\n",
              "      <td>1.0</td>\n",
              "      <td>1.0</td>\n",
              "      <td>120360.0</td>\n",
              "      <td>0</td>\n",
              "      <td>1</td>\n",
              "      <td>0</td>\n",
              "      <td>2019</td>\n",
              "      <td>1</td>\n",
              "      <td>2019</td>\n",
              "      <td>1</td>\n",
              "    </tr>\n",
              "    <tr>\n",
              "      <th>4</th>\n",
              "      <td>31.0</td>\n",
              "      <td>1.0</td>\n",
              "      <td>C11</td>\n",
              "      <td>1.0</td>\n",
              "      <td>78728.0</td>\n",
              "      <td>3.0</td>\n",
              "      <td>3.0</td>\n",
              "      <td>1265000.0</td>\n",
              "      <td>1</td>\n",
              "      <td>0</td>\n",
              "      <td>0</td>\n",
              "      <td>2020</td>\n",
              "      <td>8</td>\n",
              "      <td>2020</td>\n",
              "      <td>7</td>\n",
              "    </tr>\n",
              "  </tbody>\n",
              "</table>\n",
              "</div>\n",
              "      <button class=\"colab-df-convert\" onclick=\"convertToInteractive('df-597345c1-34ab-484b-b9f1-006a8951f522')\"\n",
              "              title=\"Convert this dataframe to an interactive table.\"\n",
              "              style=\"display:none;\">\n",
              "        \n",
              "  <svg xmlns=\"http://www.w3.org/2000/svg\" height=\"24px\"viewBox=\"0 0 24 24\"\n",
              "       width=\"24px\">\n",
              "    <path d=\"M0 0h24v24H0V0z\" fill=\"none\"/>\n",
              "    <path d=\"M18.56 5.44l.94 2.06.94-2.06 2.06-.94-2.06-.94-.94-2.06-.94 2.06-2.06.94zm-11 1L8.5 8.5l.94-2.06 2.06-.94-2.06-.94L8.5 2.5l-.94 2.06-2.06.94zm10 10l.94 2.06.94-2.06 2.06-.94-2.06-.94-.94-2.06-.94 2.06-2.06.94z\"/><path d=\"M17.41 7.96l-1.37-1.37c-.4-.4-.92-.59-1.43-.59-.52 0-1.04.2-1.43.59L10.3 9.45l-7.72 7.72c-.78.78-.78 2.05 0 2.83L4 21.41c.39.39.9.59 1.41.59.51 0 1.02-.2 1.41-.59l7.78-7.78 2.81-2.81c.8-.78.8-2.07 0-2.86zM5.41 20L4 18.59l7.72-7.72 1.47 1.35L5.41 20z\"/>\n",
              "  </svg>\n",
              "      </button>\n",
              "      \n",
              "  <style>\n",
              "    .colab-df-container {\n",
              "      display:flex;\n",
              "      flex-wrap:wrap;\n",
              "      gap: 12px;\n",
              "    }\n",
              "\n",
              "    .colab-df-convert {\n",
              "      background-color: #E8F0FE;\n",
              "      border: none;\n",
              "      border-radius: 50%;\n",
              "      cursor: pointer;\n",
              "      display: none;\n",
              "      fill: #1967D2;\n",
              "      height: 32px;\n",
              "      padding: 0 0 0 0;\n",
              "      width: 32px;\n",
              "    }\n",
              "\n",
              "    .colab-df-convert:hover {\n",
              "      background-color: #E2EBFA;\n",
              "      box-shadow: 0px 1px 2px rgba(60, 64, 67, 0.3), 0px 1px 3px 1px rgba(60, 64, 67, 0.15);\n",
              "      fill: #174EA6;\n",
              "    }\n",
              "\n",
              "    [theme=dark] .colab-df-convert {\n",
              "      background-color: #3B4455;\n",
              "      fill: #D2E3FC;\n",
              "    }\n",
              "\n",
              "    [theme=dark] .colab-df-convert:hover {\n",
              "      background-color: #434B5C;\n",
              "      box-shadow: 0px 1px 3px 1px rgba(0, 0, 0, 0.15);\n",
              "      filter: drop-shadow(0px 1px 2px rgba(0, 0, 0, 0.3));\n",
              "      fill: #FFFFFF;\n",
              "    }\n",
              "  </style>\n",
              "\n",
              "      <script>\n",
              "        const buttonEl =\n",
              "          document.querySelector('#df-597345c1-34ab-484b-b9f1-006a8951f522 button.colab-df-convert');\n",
              "        buttonEl.style.display =\n",
              "          google.colab.kernel.accessAllowed ? 'block' : 'none';\n",
              "\n",
              "        async function convertToInteractive(key) {\n",
              "          const element = document.querySelector('#df-597345c1-34ab-484b-b9f1-006a8951f522');\n",
              "          const dataTable =\n",
              "            await google.colab.kernel.invokeFunction('convertToInteractive',\n",
              "                                                     [key], {});\n",
              "          if (!dataTable) return;\n",
              "\n",
              "          const docLinkHtml = 'Like what you see? Visit the ' +\n",
              "            '<a target=\"_blank\" href=https://colab.research.google.com/notebooks/data_table.ipynb>data table notebook</a>'\n",
              "            + ' to learn more about interactive tables.';\n",
              "          element.innerHTML = '';\n",
              "          dataTable['output_type'] = 'display_data';\n",
              "          await google.colab.output.renderOutput(dataTable, element);\n",
              "          const docLink = document.createElement('div');\n",
              "          docLink.innerHTML = docLinkHtml;\n",
              "          element.appendChild(docLink);\n",
              "        }\n",
              "      </script>\n",
              "    </div>\n",
              "  </div>\n",
              "  "
            ]
          },
          "metadata": {},
          "execution_count": 270
        }
      ]
    },
    {
      "cell_type": "code",
      "source": [
        "print(outliers)"
      ],
      "metadata": {
        "colab": {
          "base_uri": "https://localhost:8080/"
        },
        "id": "A1J9OoufiKf5",
        "outputId": "8905b16a-c1f0-4464-e051-1fa91434f298"
      },
      "execution_count": null,
      "outputs": [
        {
          "output_type": "stream",
          "name": "stdout",
          "text": [
            "Empty DataFrame\n",
            "Columns: []\n",
            "Index: []\n"
          ]
        }
      ]
    },
    {
      "cell_type": "markdown",
      "source": [
        "<font color='#0dab7f'> Observation: No outliers detected. hence no outlier treatment required"
      ],
      "metadata": {
        "id": "Gwrn_Rx1iMgw"
      }
    },
    {
      "cell_type": "markdown",
      "source": [
        "# Correlation check"
      ],
      "metadata": {
        "id": "FDf_Af7plLX8"
      }
    },
    {
      "cell_type": "code",
      "source": [
        "plt.figure(figsize = (15, 5))\n",
        "corr = df1.corr()\n",
        "sns.heatmap(corr, annot=True)\n",
        "plt.show()"
      ],
      "metadata": {
        "colab": {
          "base_uri": "https://localhost:8080/",
          "height": 415
        },
        "id": "qCan7MUblPb7",
        "outputId": "9d29fe05-f15f-4ad4-f8dd-7a4911368054"
      },
      "execution_count": null,
      "outputs": [
        {
          "output_type": "display_data",
          "data": {
            "text/plain": [
              "<Figure size 1080x360 with 2 Axes>"
            ],
            "image/png": "[encoded data removed]"
          },
          "metadata": {
            "needs_background": "light"
          }
        }
      ]
    },
    {
      "cell_type": "markdown",
      "source": [
        "<font color='#0dab7f'> Observation:\n",
        "\n",
        "<font color='#0dab7f'> 1) Age, Gender, Income, Joining designation are positively correlated\n",
        "\n",
        "<font color='#0dab7f'> 2) Joining year and Total Business value are negatively correlated. \n",
        "\n",
        "<font color='#0dab7f'> 3) Target and Reporting month are negatively correlated.\n",
        "This shows if driver does not report monthly then higher chances of attrition\n"
      ],
      "metadata": {
        "id": "MqZG-wqfmz8j"
      }
    },
    {
      "cell_type": "code",
      "source": [
        "df1.head(5)"
      ],
      "metadata": {
        "colab": {
          "base_uri": "https://localhost:8080/",
          "height": 206
        },
        "id": "6LmNRURvpcbD",
        "outputId": "5b609f95-fb87-4f2c-ab0c-e59c013bcae6"
      },
      "execution_count": null,
      "outputs": [
        {
          "output_type": "execute_result",
          "data": {
            "text/plain": [
              "    Age  Gender City  Education_Level   Income  Joining Designation  Grade  \\\n",
              "0  28.0     0.0  C23              2.0  57387.0                  1.0    1.0   \n",
              "1  31.0     0.0   C7              2.0  67016.0                  2.0    2.0   \n",
              "2  43.0     0.0  C13              2.0  65603.0                  2.0    2.0   \n",
              "3  29.0     0.0   C9              0.0  46368.0                  1.0    1.0   \n",
              "4  31.0     1.0  C11              1.0  78728.0                  3.0    3.0   \n",
              "\n",
              "   Total Business Value  Q_Rating_Inc_Flag  target  inc_flag  Reporting_year  \\\n",
              "0             1715580.0                  0       1         0            2019   \n",
              "1                   0.0                  0       0         0            2020   \n",
              "2              350000.0                  0       1         0            2019   \n",
              "3              120360.0                  0       1         0            2019   \n",
              "4             1265000.0                  1       0         0            2020   \n",
              "\n",
              "   Reporting_month  Joining_year  Joining_month  \n",
              "0                1          2018             12  \n",
              "1               11          2020             11  \n",
              "2               12          2019             12  \n",
              "3                1          2019              1  \n",
              "4                8          2020              7  "
            ],
            "text/html": [
              "\n",
              "  <div id=\"df-a6c8610c-b731-437a-aec6-1db2f83274a0\">\n",
              "    <div class=\"colab-df-container\">\n",
              "      <div>\n",
              "<style scoped>\n",
              "    .dataframe tbody tr th:only-of-type {\n",
              "        vertical-align: middle;\n",
              "    }\n",
              "\n",
              "    .dataframe tbody tr th {\n",
              "        vertical-align: top;\n",
              "    }\n",
              "\n",
              "    .dataframe thead th {\n",
              "        text-align: right;\n",
              "    }\n",
              "</style>\n",
              "<table border=\"1\" class=\"dataframe\">\n",
              "  <thead>\n",
              "    <tr style=\"text-align: right;\">\n",
              "      <th></th>\n",
              "      <th>Age</th>\n",
              "      <th>Gender</th>\n",
              "      <th>City</th>\n",
              "      <th>Education_Level</th>\n",
              "      <th>Income</th>\n",
              "      <th>Joining Designation</th>\n",
              "      <th>Grade</th>\n",
              "      <th>Total Business Value</th>\n",
              "      <th>Q_Rating_Inc_Flag</th>\n",
              "      <th>target</th>\n",
              "      <th>inc_flag</th>\n",
              "      <th>Reporting_year</th>\n",
              "      <th>Reporting_month</th>\n",
              "      <th>Joining_year</th>\n",
              "      <th>Joining_month</th>\n",
              "    </tr>\n",
              "  </thead>\n",
              "  <tbody>\n",
              "    <tr>\n",
              "      <th>0</th>\n",
              "      <td>28.0</td>\n",
              "      <td>0.0</td>\n",
              "      <td>C23</td>\n",
              "      <td>2.0</td>\n",
              "      <td>57387.0</td>\n",
              "      <td>1.0</td>\n",
              "      <td>1.0</td>\n",
              "      <td>1715580.0</td>\n",
              "      <td>0</td>\n",
              "      <td>1</td>\n",
              "      <td>0</td>\n",
              "      <td>2019</td>\n",
              "      <td>1</td>\n",
              "      <td>2018</td>\n",
              "      <td>12</td>\n",
              "    </tr>\n",
              "    <tr>\n",
              "      <th>1</th>\n",
              "      <td>31.0</td>\n",
              "      <td>0.0</td>\n",
              "      <td>C7</td>\n",
              "      <td>2.0</td>\n",
              "      <td>67016.0</td>\n",
              "      <td>2.0</td>\n",
              "      <td>2.0</td>\n",
              "      <td>0.0</td>\n",
              "      <td>0</td>\n",
              "      <td>0</td>\n",
              "      <td>0</td>\n",
              "      <td>2020</td>\n",
              "      <td>11</td>\n",
              "      <td>2020</td>\n",
              "      <td>11</td>\n",
              "    </tr>\n",
              "    <tr>\n",
              "      <th>2</th>\n",
              "      <td>43.0</td>\n",
              "      <td>0.0</td>\n",
              "      <td>C13</td>\n",
              "      <td>2.0</td>\n",
              "      <td>65603.0</td>\n",
              "      <td>2.0</td>\n",
              "      <td>2.0</td>\n",
              "      <td>350000.0</td>\n",
              "      <td>0</td>\n",
              "      <td>1</td>\n",
              "      <td>0</td>\n",
              "      <td>2019</td>\n",
              "      <td>12</td>\n",
              "      <td>2019</td>\n",
              "      <td>12</td>\n",
              "    </tr>\n",
              "    <tr>\n",
              "      <th>3</th>\n",
              "      <td>29.0</td>\n",
              "      <td>0.0</td>\n",
              "      <td>C9</td>\n",
              "      <td>0.0</td>\n",
              "      <td>46368.0</td>\n",
              "      <td>1.0</td>\n",
              "      <td>1.0</td>\n",
              "      <td>120360.0</td>\n",
              "      <td>0</td>\n",
              "      <td>1</td>\n",
              "      <td>0</td>\n",
              "      <td>2019</td>\n",
              "      <td>1</td>\n",
              "      <td>2019</td>\n",
              "      <td>1</td>\n",
              "    </tr>\n",
              "    <tr>\n",
              "      <th>4</th>\n",
              "      <td>31.0</td>\n",
              "      <td>1.0</td>\n",
              "      <td>C11</td>\n",
              "      <td>1.0</td>\n",
              "      <td>78728.0</td>\n",
              "      <td>3.0</td>\n",
              "      <td>3.0</td>\n",
              "      <td>1265000.0</td>\n",
              "      <td>1</td>\n",
              "      <td>0</td>\n",
              "      <td>0</td>\n",
              "      <td>2020</td>\n",
              "      <td>8</td>\n",
              "      <td>2020</td>\n",
              "      <td>7</td>\n",
              "    </tr>\n",
              "  </tbody>\n",
              "</table>\n",
              "</div>\n",
              "      <button class=\"colab-df-convert\" onclick=\"convertToInteractive('df-a6c8610c-b731-437a-aec6-1db2f83274a0')\"\n",
              "              title=\"Convert this dataframe to an interactive table.\"\n",
              "              style=\"display:none;\">\n",
              "        \n",
              "  <svg xmlns=\"http://www.w3.org/2000/svg\" height=\"24px\"viewBox=\"0 0 24 24\"\n",
              "       width=\"24px\">\n",
              "    <path d=\"M0 0h24v24H0V0z\" fill=\"none\"/>\n",
              "    <path d=\"M18.56 5.44l.94 2.06.94-2.06 2.06-.94-2.06-.94-.94-2.06-.94 2.06-2.06.94zm-11 1L8.5 8.5l.94-2.06 2.06-.94-2.06-.94L8.5 2.5l-.94 2.06-2.06.94zm10 10l.94 2.06.94-2.06 2.06-.94-2.06-.94-.94-2.06-.94 2.06-2.06.94z\"/><path d=\"M17.41 7.96l-1.37-1.37c-.4-.4-.92-.59-1.43-.59-.52 0-1.04.2-1.43.59L10.3 9.45l-7.72 7.72c-.78.78-.78 2.05 0 2.83L4 21.41c.39.39.9.59 1.41.59.51 0 1.02-.2 1.41-.59l7.78-7.78 2.81-2.81c.8-.78.8-2.07 0-2.86zM5.41 20L4 18.59l7.72-7.72 1.47 1.35L5.41 20z\"/>\n",
              "  </svg>\n",
              "      </button>\n",
              "      \n",
              "  <style>\n",
              "    .colab-df-container {\n",
              "      display:flex;\n",
              "      flex-wrap:wrap;\n",
              "      gap: 12px;\n",
              "    }\n",
              "\n",
              "    .colab-df-convert {\n",
              "      background-color: #E8F0FE;\n",
              "      border: none;\n",
              "      border-radius: 50%;\n",
              "      cursor: pointer;\n",
              "      display: none;\n",
              "      fill: #1967D2;\n",
              "      height: 32px;\n",
              "      padding: 0 0 0 0;\n",
              "      width: 32px;\n",
              "    }\n",
              "\n",
              "    .colab-df-convert:hover {\n",
              "      background-color: #E2EBFA;\n",
              "      box-shadow: 0px 1px 2px rgba(60, 64, 67, 0.3), 0px 1px 3px 1px rgba(60, 64, 67, 0.15);\n",
              "      fill: #174EA6;\n",
              "    }\n",
              "\n",
              "    [theme=dark] .colab-df-convert {\n",
              "      background-color: #3B4455;\n",
              "      fill: #D2E3FC;\n",
              "    }\n",
              "\n",
              "    [theme=dark] .colab-df-convert:hover {\n",
              "      background-color: #434B5C;\n",
              "      box-shadow: 0px 1px 3px 1px rgba(0, 0, 0, 0.15);\n",
              "      filter: drop-shadow(0px 1px 2px rgba(0, 0, 0, 0.3));\n",
              "      fill: #FFFFFF;\n",
              "    }\n",
              "  </style>\n",
              "\n",
              "      <script>\n",
              "        const buttonEl =\n",
              "          document.querySelector('#df-a6c8610c-b731-437a-aec6-1db2f83274a0 button.colab-df-convert');\n",
              "        buttonEl.style.display =\n",
              "          google.colab.kernel.accessAllowed ? 'block' : 'none';\n",
              "\n",
              "        async function convertToInteractive(key) {\n",
              "          const element = document.querySelector('#df-a6c8610c-b731-437a-aec6-1db2f83274a0');\n",
              "          const dataTable =\n",
              "            await google.colab.kernel.invokeFunction('convertToInteractive',\n",
              "                                                     [key], {});\n",
              "          if (!dataTable) return;\n",
              "\n",
              "          const docLinkHtml = 'Like what you see? Visit the ' +\n",
              "            '<a target=\"_blank\" href=https://colab.research.google.com/notebooks/data_table.ipynb>data table notebook</a>'\n",
              "            + ' to learn more about interactive tables.';\n",
              "          element.innerHTML = '';\n",
              "          dataTable['output_type'] = 'display_data';\n",
              "          await google.colab.output.renderOutput(dataTable, element);\n",
              "          const docLink = document.createElement('div');\n",
              "          docLink.innerHTML = docLinkHtml;\n",
              "          element.appendChild(docLink);\n",
              "        }\n",
              "      </script>\n",
              "    </div>\n",
              "  </div>\n",
              "  "
            ]
          },
          "metadata": {},
          "execution_count": 279
        }
      ]
    },
    {
      "cell_type": "code",
      "source": [
        "# Train test split\n",
        "y = df1['target']\n",
        "X = df1.drop('target', axis = 1)\n",
        "print(X.shape, y.shape)"
      ],
      "metadata": {
        "colab": {
          "base_uri": "https://localhost:8080/"
        },
        "id": "LjUSDSGFrEBF",
        "outputId": "39fa7436-7736-4426-e826-f8bfacb4656d"
      },
      "execution_count": null,
      "outputs": [
        {
          "output_type": "stream",
          "name": "stdout",
          "text": [
            "(2381, 14) (2381,)\n"
          ]
        }
      ]
    },
    {
      "cell_type": "code",
      "source": [
        "from sklearn.model_selection import train_test_split\n",
        "\n",
        "X_tr_cv, X_test, y_tr_cv, y_test = train_test_split(X, y, test_size=0.2, random_state=4)\n",
        "X_train, X_val, y_train, y_val = train_test_split(X_tr_cv, y_tr_cv, test_size=0.25,random_state=4)\n",
        "print(X_train.shape, y_train.shape)\n",
        "print(X_val.shape, y_val.shape)\n",
        "print(X_test.shape, y_test.shape)"
      ],
      "metadata": {
        "colab": {
          "base_uri": "https://localhost:8080/"
        },
        "id": "kRD4oq3prEYh",
        "outputId": "9301c61a-6ee4-4349-f23b-2213b9becedc"
      },
      "execution_count": null,
      "outputs": [
        {
          "output_type": "stream",
          "name": "stdout",
          "text": [
            "(1428, 14) (1428,)\n",
            "(476, 14) (476,)\n",
            "(477, 14) (477,)\n"
          ]
        }
      ]
    },
    {
      "cell_type": "markdown",
      "source": [
        "<font color='#0dab7f'> Target Encoding for city column"
      ],
      "metadata": {
        "id": "Fcy9stXwpTbS"
      }
    },
    {
      "cell_type": "code",
      "source": [
        "! pip install category_encoders"
      ],
      "metadata": {
        "colab": {
          "base_uri": "https://localhost:8080/"
        },
        "id": "V2OGUUGsqg87",
        "outputId": "876a47d6-52b2-4c84-8ade-58ff432eea32"
      },
      "execution_count": null,
      "outputs": [
        {
          "output_type": "stream",
          "name": "stdout",
          "text": [
            "Looking in indexes: https://pypi.org/simple, https://us-python.pkg.dev/colab-wheels/public/simple/\n",
            "Collecting category_encoders\n",
            "  Downloading category_encoders-2.5.1.post0-py2.py3-none-any.whl (72 kB)\n",
            "\u001b[K     |████████████████████████████████| 72 kB 971 kB/s \n",
            "\u001b[?25hRequirement already satisfied: scikit-learn>=0.20.0 in /usr/local/lib/python3.8/dist-packages (from category_encoders) (1.0.2)\n",
            "Requirement already satisfied: patsy>=0.5.1 in /usr/local/lib/python3.8/dist-packages (from category_encoders) (0.5.3)\n",
            "Requirement already satisfied: pandas>=1.0.5 in /usr/local/lib/python3.8/dist-packages (from category_encoders) (1.3.5)\n",
            "Requirement already satisfied: numpy>=1.14.0 in /usr/local/lib/python3.8/dist-packages (from category_encoders) (1.21.6)\n",
            "Requirement already satisfied: scipy>=1.0.0 in /usr/local/lib/python3.8/dist-packages (from category_encoders) (1.7.3)\n",
            "Requirement already satisfied: statsmodels>=0.9.0 in /usr/local/lib/python3.8/dist-packages (from category_encoders) (0.12.2)\n",
            "Requirement already satisfied: python-dateutil>=2.7.3 in /usr/local/lib/python3.8/dist-packages (from pandas>=1.0.5->category_encoders) (2.8.2)\n",
            "Requirement already satisfied: pytz>=2017.3 in /usr/local/lib/python3.8/dist-packages (from pandas>=1.0.5->category_encoders) (2022.6)\n",
            "Requirement already satisfied: six in /usr/local/lib/python3.8/dist-packages (from patsy>=0.5.1->category_encoders) (1.15.0)\n",
            "Requirement already satisfied: joblib>=0.11 in /usr/local/lib/python3.8/dist-packages (from scikit-learn>=0.20.0->category_encoders) (1.2.0)\n",
            "Requirement already satisfied: threadpoolctl>=2.0.0 in /usr/local/lib/python3.8/dist-packages (from scikit-learn>=0.20.0->category_encoders) (3.1.0)\n",
            "Installing collected packages: category-encoders\n",
            "Successfully installed category-encoders-2.5.1.post0\n"
          ]
        }
      ]
    },
    {
      "cell_type": "code",
      "source": [
        "cat_cols = ['City']\n",
        "from category_encoders import TargetEncoder\n",
        "te = TargetEncoder(cols=cat_cols).fit(X_train, y_train)\n",
        "cols = df1.columns\n",
        "X_train = te.transform(X_train)\n",
        "X_train.head()"
      ],
      "metadata": {
        "colab": {
          "base_uri": "https://localhost:8080/",
          "height": 276
        },
        "id": "VhC1Sdy4pjMT",
        "outputId": "292a89dc-42ec-4418-ffaa-cffd8fdbcb0c"
      },
      "execution_count": null,
      "outputs": [
        {
          "output_type": "stream",
          "name": "stderr",
          "text": [
            "/usr/local/lib/python3.8/dist-packages/category_encoders/target_encoder.py:122: FutureWarning: Default parameter min_samples_leaf will change in version 2.6.See https://github.com/scikit-learn-contrib/category_encoders/issues/327\n",
            "  warnings.warn(\"Default parameter min_samples_leaf will change in version 2.6.\"\n",
            "/usr/local/lib/python3.8/dist-packages/category_encoders/target_encoder.py:127: FutureWarning: Default parameter smoothing will change in version 2.6.See https://github.com/scikit-learn-contrib/category_encoders/issues/327\n",
            "  warnings.warn(\"Default parameter smoothing will change in version 2.6.\"\n"
          ]
        },
        {
          "output_type": "execute_result",
          "data": {
            "text/plain": [
              "       Age  Gender      City  Education_Level   Income  Joining Designation  \\\n",
              "1355  27.0     0.0  0.705882              0.0  49886.0                  2.0   \n",
              "1413  43.0     1.0  0.660000              0.0  55315.0                  1.0   \n",
              "1005  30.0     1.0  0.711538              1.0  64699.0                  2.0   \n",
              "260   34.0     0.0  0.565217              0.0  26047.0                  2.0   \n",
              "2164  37.0     0.0  0.711538              0.0  96562.0                  3.0   \n",
              "\n",
              "      Grade  Total Business Value  Q_Rating_Inc_Flag  inc_flag  \\\n",
              "1355    2.0                   0.0                  0         0   \n",
              "1413    3.0              817680.0                  1         0   \n",
              "1005    3.0                   0.0                  0         0   \n",
              "260     2.0                   0.0                  0         0   \n",
              "2164    3.0                   0.0                  0         0   \n",
              "\n",
              "      Reporting_year  Reporting_month  Joining_year  Joining_month  \n",
              "1355            2020               11          2020             11  \n",
              "1413            2019                1          2015              9  \n",
              "1005            2019                1          2018              2  \n",
              "260             2020                3          2020              3  \n",
              "2164            2020               11          2020             10  "
            ],
            "text/html": [
              "\n",
              "  <div id=\"df-a9359232-3fc2-4f88-bbd6-0b1a1954b202\">\n",
              "    <div class=\"colab-df-container\">\n",
              "      <div>\n",
              "<style scoped>\n",
              "    .dataframe tbody tr th:only-of-type {\n",
              "        vertical-align: middle;\n",
              "    }\n",
              "\n",
              "    .dataframe tbody tr th {\n",
              "        vertical-align: top;\n",
              "    }\n",
              "\n",
              "    .dataframe thead th {\n",
              "        text-align: right;\n",
              "    }\n",
              "</style>\n",
              "<table border=\"1\" class=\"dataframe\">\n",
              "  <thead>\n",
              "    <tr style=\"text-align: right;\">\n",
              "      <th></th>\n",
              "      <th>Age</th>\n",
              "      <th>Gender</th>\n",
              "      <th>City</th>\n",
              "      <th>Education_Level</th>\n",
              "      <th>Income</th>\n",
              "      <th>Joining Designation</th>\n",
              "      <th>Grade</th>\n",
              "      <th>Total Business Value</th>\n",
              "      <th>Q_Rating_Inc_Flag</th>\n",
              "      <th>inc_flag</th>\n",
              "      <th>Reporting_year</th>\n",
              "      <th>Reporting_month</th>\n",
              "      <th>Joining_year</th>\n",
              "      <th>Joining_month</th>\n",
              "    </tr>\n",
              "  </thead>\n",
              "  <tbody>\n",
              "    <tr>\n",
              "      <th>1355</th>\n",
              "      <td>27.0</td>\n",
              "      <td>0.0</td>\n",
              "      <td>0.705882</td>\n",
              "      <td>0.0</td>\n",
              "      <td>49886.0</td>\n",
              "      <td>2.0</td>\n",
              "      <td>2.0</td>\n",
              "      <td>0.0</td>\n",
              "      <td>0</td>\n",
              "      <td>0</td>\n",
              "      <td>2020</td>\n",
              "      <td>11</td>\n",
              "      <td>2020</td>\n",
              "      <td>11</td>\n",
              "    </tr>\n",
              "    <tr>\n",
              "      <th>1413</th>\n",
              "      <td>43.0</td>\n",
              "      <td>1.0</td>\n",
              "      <td>0.660000</td>\n",
              "      <td>0.0</td>\n",
              "      <td>55315.0</td>\n",
              "      <td>1.0</td>\n",
              "      <td>3.0</td>\n",
              "      <td>817680.0</td>\n",
              "      <td>1</td>\n",
              "      <td>0</td>\n",
              "      <td>2019</td>\n",
              "      <td>1</td>\n",
              "      <td>2015</td>\n",
              "      <td>9</td>\n",
              "    </tr>\n",
              "    <tr>\n",
              "      <th>1005</th>\n",
              "      <td>30.0</td>\n",
              "      <td>1.0</td>\n",
              "      <td>0.711538</td>\n",
              "      <td>1.0</td>\n",
              "      <td>64699.0</td>\n",
              "      <td>2.0</td>\n",
              "      <td>3.0</td>\n",
              "      <td>0.0</td>\n",
              "      <td>0</td>\n",
              "      <td>0</td>\n",
              "      <td>2019</td>\n",
              "      <td>1</td>\n",
              "      <td>2018</td>\n",
              "      <td>2</td>\n",
              "    </tr>\n",
              "    <tr>\n",
              "      <th>260</th>\n",
              "      <td>34.0</td>\n",
              "      <td>0.0</td>\n",
              "      <td>0.565217</td>\n",
              "      <td>0.0</td>\n",
              "      <td>26047.0</td>\n",
              "      <td>2.0</td>\n",
              "      <td>2.0</td>\n",
              "      <td>0.0</td>\n",
              "      <td>0</td>\n",
              "      <td>0</td>\n",
              "      <td>2020</td>\n",
              "      <td>3</td>\n",
              "      <td>2020</td>\n",
              "      <td>3</td>\n",
              "    </tr>\n",
              "    <tr>\n",
              "      <th>2164</th>\n",
              "      <td>37.0</td>\n",
              "      <td>0.0</td>\n",
              "      <td>0.711538</td>\n",
              "      <td>0.0</td>\n",
              "      <td>96562.0</td>\n",
              "      <td>3.0</td>\n",
              "      <td>3.0</td>\n",
              "      <td>0.0</td>\n",
              "      <td>0</td>\n",
              "      <td>0</td>\n",
              "      <td>2020</td>\n",
              "      <td>11</td>\n",
              "      <td>2020</td>\n",
              "      <td>10</td>\n",
              "    </tr>\n",
              "  </tbody>\n",
              "</table>\n",
              "</div>\n",
              "      <button class=\"colab-df-convert\" onclick=\"convertToInteractive('df-a9359232-3fc2-4f88-bbd6-0b1a1954b202')\"\n",
              "              title=\"Convert this dataframe to an interactive table.\"\n",
              "              style=\"display:none;\">\n",
              "        \n",
              "  <svg xmlns=\"http://www.w3.org/2000/svg\" height=\"24px\"viewBox=\"0 0 24 24\"\n",
              "       width=\"24px\">\n",
              "    <path d=\"M0 0h24v24H0V0z\" fill=\"none\"/>\n",
              "    <path d=\"M18.56 5.44l.94 2.06.94-2.06 2.06-.94-2.06-.94-.94-2.06-.94 2.06-2.06.94zm-11 1L8.5 8.5l.94-2.06 2.06-.94-2.06-.94L8.5 2.5l-.94 2.06-2.06.94zm10 10l.94 2.06.94-2.06 2.06-.94-2.06-.94-.94-2.06-.94 2.06-2.06.94z\"/><path d=\"M17.41 7.96l-1.37-1.37c-.4-.4-.92-.59-1.43-.59-.52 0-1.04.2-1.43.59L10.3 9.45l-7.72 7.72c-.78.78-.78 2.05 0 2.83L4 21.41c.39.39.9.59 1.41.59.51 0 1.02-.2 1.41-.59l7.78-7.78 2.81-2.81c.8-.78.8-2.07 0-2.86zM5.41 20L4 18.59l7.72-7.72 1.47 1.35L5.41 20z\"/>\n",
              "  </svg>\n",
              "      </button>\n",
              "      \n",
              "  <style>\n",
              "    .colab-df-container {\n",
              "      display:flex;\n",
              "      flex-wrap:wrap;\n",
              "      gap: 12px;\n",
              "    }\n",
              "\n",
              "    .colab-df-convert {\n",
              "      background-color: #E8F0FE;\n",
              "      border: none;\n",
              "      border-radius: 50%;\n",
              "      cursor: pointer;\n",
              "      display: none;\n",
              "      fill: #1967D2;\n",
              "      height: 32px;\n",
              "      padding: 0 0 0 0;\n",
              "      width: 32px;\n",
              "    }\n",
              "\n",
              "    .colab-df-convert:hover {\n",
              "      background-color: #E2EBFA;\n",
              "      box-shadow: 0px 1px 2px rgba(60, 64, 67, 0.3), 0px 1px 3px 1px rgba(60, 64, 67, 0.15);\n",
              "      fill: #174EA6;\n",
              "    }\n",
              "\n",
              "    [theme=dark] .colab-df-convert {\n",
              "      background-color: #3B4455;\n",
              "      fill: #D2E3FC;\n",
              "    }\n",
              "\n",
              "    [theme=dark] .colab-df-convert:hover {\n",
              "      background-color: #434B5C;\n",
              "      box-shadow: 0px 1px 3px 1px rgba(0, 0, 0, 0.15);\n",
              "      filter: drop-shadow(0px 1px 2px rgba(0, 0, 0, 0.3));\n",
              "      fill: #FFFFFF;\n",
              "    }\n",
              "  </style>\n",
              "\n",
              "      <script>\n",
              "        const buttonEl =\n",
              "          document.querySelector('#df-a9359232-3fc2-4f88-bbd6-0b1a1954b202 button.colab-df-convert');\n",
              "        buttonEl.style.display =\n",
              "          google.colab.kernel.accessAllowed ? 'block' : 'none';\n",
              "\n",
              "        async function convertToInteractive(key) {\n",
              "          const element = document.querySelector('#df-a9359232-3fc2-4f88-bbd6-0b1a1954b202');\n",
              "          const dataTable =\n",
              "            await google.colab.kernel.invokeFunction('convertToInteractive',\n",
              "                                                     [key], {});\n",
              "          if (!dataTable) return;\n",
              "\n",
              "          const docLinkHtml = 'Like what you see? Visit the ' +\n",
              "            '<a target=\"_blank\" href=https://colab.research.google.com/notebooks/data_table.ipynb>data table notebook</a>'\n",
              "            + ' to learn more about interactive tables.';\n",
              "          element.innerHTML = '';\n",
              "          dataTable['output_type'] = 'display_data';\n",
              "          await google.colab.output.renderOutput(dataTable, element);\n",
              "          const docLink = document.createElement('div');\n",
              "          docLink.innerHTML = docLinkHtml;\n",
              "          element.appendChild(docLink);\n",
              "        }\n",
              "      </script>\n",
              "    </div>\n",
              "  </div>\n",
              "  "
            ]
          },
          "metadata": {},
          "execution_count": 302
        }
      ]
    },
    {
      "cell_type": "code",
      "source": [
        "X_val= te.transform(X_val,y_val)\n",
        "X_test= te.transform(X_test,y_test)"
      ],
      "metadata": {
        "id": "IDC4hJtutAkX"
      },
      "execution_count": null,
      "outputs": []
    },
    {
      "cell_type": "code",
      "source": [
        "X_val.head(5)"
      ],
      "metadata": {
        "colab": {
          "base_uri": "https://localhost:8080/",
          "height": 206
        },
        "id": "nm4wtBQQsFVi",
        "outputId": "be72ba82-3b3c-463d-ec26-67c2e71c2292"
      },
      "execution_count": null,
      "outputs": [
        {
          "output_type": "execute_result",
          "data": {
            "text/plain": [
              "       Age  Gender      City  Education_Level   Income  Joining Designation  \\\n",
              "1280  27.0     1.0  0.581818              1.0  69831.0                  3.0   \n",
              "2023  34.0     1.0  0.750000              2.0  21346.0                  1.0   \n",
              "2050  37.0     1.0  0.607843              2.0  74945.0                  1.0   \n",
              "625   35.0     1.0  0.738095              0.0  19290.0                  1.0   \n",
              "2299  37.0     1.0  0.756098              1.0  99907.0                  2.0   \n",
              "\n",
              "      Grade  Total Business Value  Q_Rating_Inc_Flag  inc_flag  \\\n",
              "1280    3.0             1052990.0                  1         0   \n",
              "2023    1.0              328190.0                  0         0   \n",
              "2050    2.0              817680.0                  0         1   \n",
              "625     1.0              228920.0                  0         0   \n",
              "2299    4.0              817680.0                  0         0   \n",
              "\n",
              "      Reporting_year  Reporting_month  Joining_year  Joining_month  \n",
              "1280            2020                7          2020              7  \n",
              "2023            2019                1          2016              4  \n",
              "2050            2019                1          2018             10  \n",
              "625             2019                1          2018              9  \n",
              "2299            2019                1          2016              8  "
            ],
            "text/html": [
              "\n",
              "  <div id=\"df-bb1324f5-4f90-477d-ae87-67a20720580b\">\n",
              "    <div class=\"colab-df-container\">\n",
              "      <div>\n",
              "<style scoped>\n",
              "    .dataframe tbody tr th:only-of-type {\n",
              "        vertical-align: middle;\n",
              "    }\n",
              "\n",
              "    .dataframe tbody tr th {\n",
              "        vertical-align: top;\n",
              "    }\n",
              "\n",
              "    .dataframe thead th {\n",
              "        text-align: right;\n",
              "    }\n",
              "</style>\n",
              "<table border=\"1\" class=\"dataframe\">\n",
              "  <thead>\n",
              "    <tr style=\"text-align: right;\">\n",
              "      <th></th>\n",
              "      <th>Age</th>\n",
              "      <th>Gender</th>\n",
              "      <th>City</th>\n",
              "      <th>Education_Level</th>\n",
              "      <th>Income</th>\n",
              "      <th>Joining Designation</th>\n",
              "      <th>Grade</th>\n",
              "      <th>Total Business Value</th>\n",
              "      <th>Q_Rating_Inc_Flag</th>\n",
              "      <th>inc_flag</th>\n",
              "      <th>Reporting_year</th>\n",
              "      <th>Reporting_month</th>\n",
              "      <th>Joining_year</th>\n",
              "      <th>Joining_month</th>\n",
              "    </tr>\n",
              "  </thead>\n",
              "  <tbody>\n",
              "    <tr>\n",
              "      <th>1280</th>\n",
              "      <td>27.0</td>\n",
              "      <td>1.0</td>\n",
              "      <td>0.581818</td>\n",
              "      <td>1.0</td>\n",
              "      <td>69831.0</td>\n",
              "      <td>3.0</td>\n",
              "      <td>3.0</td>\n",
              "      <td>1052990.0</td>\n",
              "      <td>1</td>\n",
              "      <td>0</td>\n",
              "      <td>2020</td>\n",
              "      <td>7</td>\n",
              "      <td>2020</td>\n",
              "      <td>7</td>\n",
              "    </tr>\n",
              "    <tr>\n",
              "      <th>2023</th>\n",
              "      <td>34.0</td>\n",
              "      <td>1.0</td>\n",
              "      <td>0.750000</td>\n",
              "      <td>2.0</td>\n",
              "      <td>21346.0</td>\n",
              "      <td>1.0</td>\n",
              "      <td>1.0</td>\n",
              "      <td>328190.0</td>\n",
              "      <td>0</td>\n",
              "      <td>0</td>\n",
              "      <td>2019</td>\n",
              "      <td>1</td>\n",
              "      <td>2016</td>\n",
              "      <td>4</td>\n",
              "    </tr>\n",
              "    <tr>\n",
              "      <th>2050</th>\n",
              "      <td>37.0</td>\n",
              "      <td>1.0</td>\n",
              "      <td>0.607843</td>\n",
              "      <td>2.0</td>\n",
              "      <td>74945.0</td>\n",
              "      <td>1.0</td>\n",
              "      <td>2.0</td>\n",
              "      <td>817680.0</td>\n",
              "      <td>0</td>\n",
              "      <td>1</td>\n",
              "      <td>2019</td>\n",
              "      <td>1</td>\n",
              "      <td>2018</td>\n",
              "      <td>10</td>\n",
              "    </tr>\n",
              "    <tr>\n",
              "      <th>625</th>\n",
              "      <td>35.0</td>\n",
              "      <td>1.0</td>\n",
              "      <td>0.738095</td>\n",
              "      <td>0.0</td>\n",
              "      <td>19290.0</td>\n",
              "      <td>1.0</td>\n",
              "      <td>1.0</td>\n",
              "      <td>228920.0</td>\n",
              "      <td>0</td>\n",
              "      <td>0</td>\n",
              "      <td>2019</td>\n",
              "      <td>1</td>\n",
              "      <td>2018</td>\n",
              "      <td>9</td>\n",
              "    </tr>\n",
              "    <tr>\n",
              "      <th>2299</th>\n",
              "      <td>37.0</td>\n",
              "      <td>1.0</td>\n",
              "      <td>0.756098</td>\n",
              "      <td>1.0</td>\n",
              "      <td>99907.0</td>\n",
              "      <td>2.0</td>\n",
              "      <td>4.0</td>\n",
              "      <td>817680.0</td>\n",
              "      <td>0</td>\n",
              "      <td>0</td>\n",
              "      <td>2019</td>\n",
              "      <td>1</td>\n",
              "      <td>2016</td>\n",
              "      <td>8</td>\n",
              "    </tr>\n",
              "  </tbody>\n",
              "</table>\n",
              "</div>\n",
              "      <button class=\"colab-df-convert\" onclick=\"convertToInteractive('df-bb1324f5-4f90-477d-ae87-67a20720580b')\"\n",
              "              title=\"Convert this dataframe to an interactive table.\"\n",
              "              style=\"display:none;\">\n",
              "        \n",
              "  <svg xmlns=\"http://www.w3.org/2000/svg\" height=\"24px\"viewBox=\"0 0 24 24\"\n",
              "       width=\"24px\">\n",
              "    <path d=\"M0 0h24v24H0V0z\" fill=\"none\"/>\n",
              "    <path d=\"M18.56 5.44l.94 2.06.94-2.06 2.06-.94-2.06-.94-.94-2.06-.94 2.06-2.06.94zm-11 1L8.5 8.5l.94-2.06 2.06-.94-2.06-.94L8.5 2.5l-.94 2.06-2.06.94zm10 10l.94 2.06.94-2.06 2.06-.94-2.06-.94-.94-2.06-.94 2.06-2.06.94z\"/><path d=\"M17.41 7.96l-1.37-1.37c-.4-.4-.92-.59-1.43-.59-.52 0-1.04.2-1.43.59L10.3 9.45l-7.72 7.72c-.78.78-.78 2.05 0 2.83L4 21.41c.39.39.9.59 1.41.59.51 0 1.02-.2 1.41-.59l7.78-7.78 2.81-2.81c.8-.78.8-2.07 0-2.86zM5.41 20L4 18.59l7.72-7.72 1.47 1.35L5.41 20z\"/>\n",
              "  </svg>\n",
              "      </button>\n",
              "      \n",
              "  <style>\n",
              "    .colab-df-container {\n",
              "      display:flex;\n",
              "      flex-wrap:wrap;\n",
              "      gap: 12px;\n",
              "    }\n",
              "\n",
              "    .colab-df-convert {\n",
              "      background-color: #E8F0FE;\n",
              "      border: none;\n",
              "      border-radius: 50%;\n",
              "      cursor: pointer;\n",
              "      display: none;\n",
              "      fill: #1967D2;\n",
              "      height: 32px;\n",
              "      padding: 0 0 0 0;\n",
              "      width: 32px;\n",
              "    }\n",
              "\n",
              "    .colab-df-convert:hover {\n",
              "      background-color: #E2EBFA;\n",
              "      box-shadow: 0px 1px 2px rgba(60, 64, 67, 0.3), 0px 1px 3px 1px rgba(60, 64, 67, 0.15);\n",
              "      fill: #174EA6;\n",
              "    }\n",
              "\n",
              "    [theme=dark] .colab-df-convert {\n",
              "      background-color: #3B4455;\n",
              "      fill: #D2E3FC;\n",
              "    }\n",
              "\n",
              "    [theme=dark] .colab-df-convert:hover {\n",
              "      background-color: #434B5C;\n",
              "      box-shadow: 0px 1px 3px 1px rgba(0, 0, 0, 0.15);\n",
              "      filter: drop-shadow(0px 1px 2px rgba(0, 0, 0, 0.3));\n",
              "      fill: #FFFFFF;\n",
              "    }\n",
              "  </style>\n",
              "\n",
              "      <script>\n",
              "        const buttonEl =\n",
              "          document.querySelector('#df-bb1324f5-4f90-477d-ae87-67a20720580b button.colab-df-convert');\n",
              "        buttonEl.style.display =\n",
              "          google.colab.kernel.accessAllowed ? 'block' : 'none';\n",
              "\n",
              "        async function convertToInteractive(key) {\n",
              "          const element = document.querySelector('#df-bb1324f5-4f90-477d-ae87-67a20720580b');\n",
              "          const dataTable =\n",
              "            await google.colab.kernel.invokeFunction('convertToInteractive',\n",
              "                                                     [key], {});\n",
              "          if (!dataTable) return;\n",
              "\n",
              "          const docLinkHtml = 'Like what you see? Visit the ' +\n",
              "            '<a target=\"_blank\" href=https://colab.research.google.com/notebooks/data_table.ipynb>data table notebook</a>'\n",
              "            + ' to learn more about interactive tables.';\n",
              "          element.innerHTML = '';\n",
              "          dataTable['output_type'] = 'display_data';\n",
              "          await google.colab.output.renderOutput(dataTable, element);\n",
              "          const docLink = document.createElement('div');\n",
              "          docLink.innerHTML = docLinkHtml;\n",
              "          element.appendChild(docLink);\n",
              "        }\n",
              "      </script>\n",
              "    </div>\n",
              "  </div>\n",
              "  "
            ]
          },
          "metadata": {},
          "execution_count": 304
        }
      ]
    },
    {
      "cell_type": "code",
      "source": [
        "X_test.head(5)"
      ],
      "metadata": {
        "colab": {
          "base_uri": "https://localhost:8080/",
          "height": 206
        },
        "id": "RGg_qOYguNia",
        "outputId": "d9147056-05ae-406d-e010-39aa9dd08cf2"
      },
      "execution_count": null,
      "outputs": [
        {
          "output_type": "execute_result",
          "data": {
            "text/plain": [
              "       Age  Gender      City  Education_Level    Income  Joining Designation  \\\n",
              "644   36.0     0.0  0.607843              1.0   25894.0                  3.0   \n",
              "539   23.0     1.0  0.542373              1.0   57931.0                  1.0   \n",
              "1122  44.0     1.0  0.705882              1.0   67140.0                  1.0   \n",
              "2053  38.0     0.0  0.727273              0.0  113256.0                  4.0   \n",
              "1140  32.0     1.0  0.727273              0.0   31057.0                  2.0   \n",
              "\n",
              "      Grade  Total Business Value  Q_Rating_Inc_Flag  inc_flag  \\\n",
              "644     3.0                   0.0                  0         0   \n",
              "539     1.0                   0.0                  0         0   \n",
              "1122    1.0             1752360.0                  0         0   \n",
              "2053    4.0                   0.0                  0         0   \n",
              "1140    2.0              807040.0                  0         0   \n",
              "\n",
              "      Reporting_year  Reporting_month  Joining_year  Joining_month  \n",
              "644             2020                1          2019             12  \n",
              "539             2019                1          2018             11  \n",
              "1122            2019                8          2019              8  \n",
              "2053            2019                8          2019              8  \n",
              "1140            2019               11          2019             11  "
            ],
            "text/html": [
              "\n",
              "  <div id=\"df-1c06f290-526c-473d-8d26-ab793c50cd68\">\n",
              "    <div class=\"colab-df-container\">\n",
              "      <div>\n",
              "<style scoped>\n",
              "    .dataframe tbody tr th:only-of-type {\n",
              "        vertical-align: middle;\n",
              "    }\n",
              "\n",
              "    .dataframe tbody tr th {\n",
              "        vertical-align: top;\n",
              "    }\n",
              "\n",
              "    .dataframe thead th {\n",
              "        text-align: right;\n",
              "    }\n",
              "</style>\n",
              "<table border=\"1\" class=\"dataframe\">\n",
              "  <thead>\n",
              "    <tr style=\"text-align: right;\">\n",
              "      <th></th>\n",
              "      <th>Age</th>\n",
              "      <th>Gender</th>\n",
              "      <th>City</th>\n",
              "      <th>Education_Level</th>\n",
              "      <th>Income</th>\n",
              "      <th>Joining Designation</th>\n",
              "      <th>Grade</th>\n",
              "      <th>Total Business Value</th>\n",
              "      <th>Q_Rating_Inc_Flag</th>\n",
              "      <th>inc_flag</th>\n",
              "      <th>Reporting_year</th>\n",
              "      <th>Reporting_month</th>\n",
              "      <th>Joining_year</th>\n",
              "      <th>Joining_month</th>\n",
              "    </tr>\n",
              "  </thead>\n",
              "  <tbody>\n",
              "    <tr>\n",
              "      <th>644</th>\n",
              "      <td>36.0</td>\n",
              "      <td>0.0</td>\n",
              "      <td>0.607843</td>\n",
              "      <td>1.0</td>\n",
              "      <td>25894.0</td>\n",
              "      <td>3.0</td>\n",
              "      <td>3.0</td>\n",
              "      <td>0.0</td>\n",
              "      <td>0</td>\n",
              "      <td>0</td>\n",
              "      <td>2020</td>\n",
              "      <td>1</td>\n",
              "      <td>2019</td>\n",
              "      <td>12</td>\n",
              "    </tr>\n",
              "    <tr>\n",
              "      <th>539</th>\n",
              "      <td>23.0</td>\n",
              "      <td>1.0</td>\n",
              "      <td>0.542373</td>\n",
              "      <td>1.0</td>\n",
              "      <td>57931.0</td>\n",
              "      <td>1.0</td>\n",
              "      <td>1.0</td>\n",
              "      <td>0.0</td>\n",
              "      <td>0</td>\n",
              "      <td>0</td>\n",
              "      <td>2019</td>\n",
              "      <td>1</td>\n",
              "      <td>2018</td>\n",
              "      <td>11</td>\n",
              "    </tr>\n",
              "    <tr>\n",
              "      <th>1122</th>\n",
              "      <td>44.0</td>\n",
              "      <td>1.0</td>\n",
              "      <td>0.705882</td>\n",
              "      <td>1.0</td>\n",
              "      <td>67140.0</td>\n",
              "      <td>1.0</td>\n",
              "      <td>1.0</td>\n",
              "      <td>1752360.0</td>\n",
              "      <td>0</td>\n",
              "      <td>0</td>\n",
              "      <td>2019</td>\n",
              "      <td>8</td>\n",
              "      <td>2019</td>\n",
              "      <td>8</td>\n",
              "    </tr>\n",
              "    <tr>\n",
              "      <th>2053</th>\n",
              "      <td>38.0</td>\n",
              "      <td>0.0</td>\n",
              "      <td>0.727273</td>\n",
              "      <td>0.0</td>\n",
              "      <td>113256.0</td>\n",
              "      <td>4.0</td>\n",
              "      <td>4.0</td>\n",
              "      <td>0.0</td>\n",
              "      <td>0</td>\n",
              "      <td>0</td>\n",
              "      <td>2019</td>\n",
              "      <td>8</td>\n",
              "      <td>2019</td>\n",
              "      <td>8</td>\n",
              "    </tr>\n",
              "    <tr>\n",
              "      <th>1140</th>\n",
              "      <td>32.0</td>\n",
              "      <td>1.0</td>\n",
              "      <td>0.727273</td>\n",
              "      <td>0.0</td>\n",
              "      <td>31057.0</td>\n",
              "      <td>2.0</td>\n",
              "      <td>2.0</td>\n",
              "      <td>807040.0</td>\n",
              "      <td>0</td>\n",
              "      <td>0</td>\n",
              "      <td>2019</td>\n",
              "      <td>11</td>\n",
              "      <td>2019</td>\n",
              "      <td>11</td>\n",
              "    </tr>\n",
              "  </tbody>\n",
              "</table>\n",
              "</div>\n",
              "      <button class=\"colab-df-convert\" onclick=\"convertToInteractive('df-1c06f290-526c-473d-8d26-ab793c50cd68')\"\n",
              "              title=\"Convert this dataframe to an interactive table.\"\n",
              "              style=\"display:none;\">\n",
              "        \n",
              "  <svg xmlns=\"http://www.w3.org/2000/svg\" height=\"24px\"viewBox=\"0 0 24 24\"\n",
              "       width=\"24px\">\n",
              "    <path d=\"M0 0h24v24H0V0z\" fill=\"none\"/>\n",
              "    <path d=\"M18.56 5.44l.94 2.06.94-2.06 2.06-.94-2.06-.94-.94-2.06-.94 2.06-2.06.94zm-11 1L8.5 8.5l.94-2.06 2.06-.94-2.06-.94L8.5 2.5l-.94 2.06-2.06.94zm10 10l.94 2.06.94-2.06 2.06-.94-2.06-.94-.94-2.06-.94 2.06-2.06.94z\"/><path d=\"M17.41 7.96l-1.37-1.37c-.4-.4-.92-.59-1.43-.59-.52 0-1.04.2-1.43.59L10.3 9.45l-7.72 7.72c-.78.78-.78 2.05 0 2.83L4 21.41c.39.39.9.59 1.41.59.51 0 1.02-.2 1.41-.59l7.78-7.78 2.81-2.81c.8-.78.8-2.07 0-2.86zM5.41 20L4 18.59l7.72-7.72 1.47 1.35L5.41 20z\"/>\n",
              "  </svg>\n",
              "      </button>\n",
              "      \n",
              "  <style>\n",
              "    .colab-df-container {\n",
              "      display:flex;\n",
              "      flex-wrap:wrap;\n",
              "      gap: 12px;\n",
              "    }\n",
              "\n",
              "    .colab-df-convert {\n",
              "      background-color: #E8F0FE;\n",
              "      border: none;\n",
              "      border-radius: 50%;\n",
              "      cursor: pointer;\n",
              "      display: none;\n",
              "      fill: #1967D2;\n",
              "      height: 32px;\n",
              "      padding: 0 0 0 0;\n",
              "      width: 32px;\n",
              "    }\n",
              "\n",
              "    .colab-df-convert:hover {\n",
              "      background-color: #E2EBFA;\n",
              "      box-shadow: 0px 1px 2px rgba(60, 64, 67, 0.3), 0px 1px 3px 1px rgba(60, 64, 67, 0.15);\n",
              "      fill: #174EA6;\n",
              "    }\n",
              "\n",
              "    [theme=dark] .colab-df-convert {\n",
              "      background-color: #3B4455;\n",
              "      fill: #D2E3FC;\n",
              "    }\n",
              "\n",
              "    [theme=dark] .colab-df-convert:hover {\n",
              "      background-color: #434B5C;\n",
              "      box-shadow: 0px 1px 3px 1px rgba(0, 0, 0, 0.15);\n",
              "      filter: drop-shadow(0px 1px 2px rgba(0, 0, 0, 0.3));\n",
              "      fill: #FFFFFF;\n",
              "    }\n",
              "  </style>\n",
              "\n",
              "      <script>\n",
              "        const buttonEl =\n",
              "          document.querySelector('#df-1c06f290-526c-473d-8d26-ab793c50cd68 button.colab-df-convert');\n",
              "        buttonEl.style.display =\n",
              "          google.colab.kernel.accessAllowed ? 'block' : 'none';\n",
              "\n",
              "        async function convertToInteractive(key) {\n",
              "          const element = document.querySelector('#df-1c06f290-526c-473d-8d26-ab793c50cd68');\n",
              "          const dataTable =\n",
              "            await google.colab.kernel.invokeFunction('convertToInteractive',\n",
              "                                                     [key], {});\n",
              "          if (!dataTable) return;\n",
              "\n",
              "          const docLinkHtml = 'Like what you see? Visit the ' +\n",
              "            '<a target=\"_blank\" href=https://colab.research.google.com/notebooks/data_table.ipynb>data table notebook</a>'\n",
              "            + ' to learn more about interactive tables.';\n",
              "          element.innerHTML = '';\n",
              "          dataTable['output_type'] = 'display_data';\n",
              "          await google.colab.output.renderOutput(dataTable, element);\n",
              "          const docLink = document.createElement('div');\n",
              "          docLink.innerHTML = docLinkHtml;\n",
              "          element.appendChild(docLink);\n",
              "        }\n",
              "      </script>\n",
              "    </div>\n",
              "  </div>\n",
              "  "
            ]
          },
          "metadata": {},
          "execution_count": 305
        }
      ]
    },
    {
      "cell_type": "code",
      "source": [
        "# Imbalance \n",
        "\n",
        "(df1['target'].value_counts()/len(df1))*100"
      ],
      "metadata": {
        "colab": {
          "base_uri": "https://localhost:8080/"
        },
        "id": "svhHzfbauZz7",
        "outputId": "8529e4f3-eb6a-47e4-8de2-02d93ec10f3a"
      },
      "execution_count": null,
      "outputs": [
        {
          "output_type": "execute_result",
          "data": {
            "text/plain": [
              "1    67.870643\n",
              "0    32.129357\n",
              "Name: target, dtype: float64"
            ]
          },
          "metadata": {},
          "execution_count": 308
        }
      ]
    },
    {
      "cell_type": "markdown",
      "source": [
        "<font color='#0dab7f'> Target column is imbalanced with ratio class_0 : class_1 = 1:2 . "
      ],
      "metadata": {
        "id": "6e1DcbiUvBRa"
      }
    },
    {
      "cell_type": "markdown",
      "source": [
        "# Model 1 - Random Forest clasifier"
      ],
      "metadata": {
        "id": "UExxLbqRwN9D"
      }
    },
    {
      "cell_type": "code",
      "source": [
        "from sklearn.utils import class_weight\n",
        "from sklearn.ensemble import RandomForestClassifier\n",
        "from sklearn.metrics import classification_report\n",
        "from sklearn.metrics import accuracy_score,recall_score,precision_score,f1_score,confusion_matrix\n",
        "from sklearn.model_selection import GridSearchCV\n",
        "\n",
        "param = {'max_depth':[2,3,4,5], 'n_estimators':[50,100,150,200]}\n",
        "random_forest = RandomForestClassifier(class_weight ='balanced')\n",
        "\n",
        "c = GridSearchCV(random_forest,param,cv=5,scoring='f1')\n",
        "c.fit(X_train, y_train)\n",
        "\n",
        "def display(results):\n",
        "  print(f'Best parameters are : {results.best_params_}')\n",
        "  print(f'The score is : {results.best_score_}')\n",
        "display(c)"
      ],
      "metadata": {
        "colab": {
          "base_uri": "https://localhost:8080/"
        },
        "id": "U1RAXmIfwRni",
        "outputId": "88dd85b8-28a0-403b-f255-00afd7d0c709"
      },
      "execution_count": null,
      "outputs": [
        {
          "output_type": "stream",
          "name": "stdout",
          "text": [
            "Best parameters are : {'max_depth': 5, 'n_estimators': 100}\n",
            "The score is : 0.889165225824615\n"
          ]
        }
      ]
    },
    {
      "cell_type": "code",
      "source": [],
      "metadata": {
        "id": "3LvL34KW3BDc"
      },
      "execution_count": null,
      "outputs": []
    },
    {
      "cell_type": "code",
      "source": [
        "res = c.cv_results_\n",
        "for i in range(len(res[\"params\"])):\n",
        "  print(f\"Parameters:{res['params'][i]} Mean_score: {res['mean_test_score'][i]} Rank: {res['rank_test_score'][i]}\")"
      ],
      "metadata": {
        "colab": {
          "base_uri": "https://localhost:8080/"
        },
        "id": "5UyeHof1yAB2",
        "outputId": "458d5fd5-b470-4a3b-b76a-c57691af9adf"
      },
      "execution_count": null,
      "outputs": [
        {
          "output_type": "stream",
          "name": "stdout",
          "text": [
            "Parameters:{'max_depth': 2, 'n_estimators': 50} Mean_score: 0.8232436388397877 Rank: 16\n",
            "Parameters:{'max_depth': 2, 'n_estimators': 100} Mean_score: 0.8391207075317227 Rank: 14\n",
            "Parameters:{'max_depth': 2, 'n_estimators': 150} Mean_score: 0.840458876494828 Rank: 13\n",
            "Parameters:{'max_depth': 2, 'n_estimators': 200} Mean_score: 0.8386424197809372 Rank: 15\n",
            "Parameters:{'max_depth': 3, 'n_estimators': 50} Mean_score: 0.8641721931044799 Rank: 11\n",
            "Parameters:{'max_depth': 3, 'n_estimators': 100} Mean_score: 0.8632453504478134 Rank: 12\n",
            "Parameters:{'max_depth': 3, 'n_estimators': 150} Mean_score: 0.8697050047296265 Rank: 10\n",
            "Parameters:{'max_depth': 3, 'n_estimators': 200} Mean_score: 0.869979426448795 Rank: 9\n",
            "Parameters:{'max_depth': 4, 'n_estimators': 50} Mean_score: 0.8825158865330647 Rank: 6\n",
            "Parameters:{'max_depth': 4, 'n_estimators': 100} Mean_score: 0.8854527661827831 Rank: 4\n",
            "Parameters:{'max_depth': 4, 'n_estimators': 150} Mean_score: 0.8806795082282755 Rank: 8\n",
            "Parameters:{'max_depth': 4, 'n_estimators': 200} Mean_score: 0.8808562596719034 Rank: 7\n",
            "Parameters:{'max_depth': 5, 'n_estimators': 50} Mean_score: 0.888812604177098 Rank: 2\n",
            "Parameters:{'max_depth': 5, 'n_estimators': 100} Mean_score: 0.8892775609607415 Rank: 1\n",
            "Parameters:{'max_depth': 5, 'n_estimators': 150} Mean_score: 0.8864659889028556 Rank: 3\n",
            "Parameters:{'max_depth': 5, 'n_estimators': 200} Mean_score: 0.8845576769618317 Rank: 5\n"
          ]
        }
      ]
    },
    {
      "cell_type": "code",
      "source": [
        "print(c.best_estimator_)"
      ],
      "metadata": {
        "colab": {
          "base_uri": "https://localhost:8080/"
        },
        "id": "EeBVKXo1yJP7",
        "outputId": "5013c5ad-243a-4f05-adf7-575326b47d67"
      },
      "execution_count": null,
      "outputs": [
        {
          "output_type": "stream",
          "name": "stdout",
          "text": [
            "RandomForestClassifier(class_weight='balanced', max_depth=5)\n"
          ]
        }
      ]
    },
    {
      "cell_type": "code",
      "source": [
        "# Training on best parameters\n",
        "random_forest=c.best_estimator_\n",
        "random_forest.fit(X_train, y_train)"
      ],
      "metadata": {
        "colab": {
          "base_uri": "https://localhost:8080/"
        },
        "id": "8OxGWvqCy806",
        "outputId": "e463caeb-1cb5-49b5-90a7-15e6cc733d48"
      },
      "execution_count": null,
      "outputs": [
        {
          "output_type": "execute_result",
          "data": {
            "text/plain": [
              "RandomForestClassifier(class_weight='balanced', max_depth=5)"
            ]
          },
          "metadata": {},
          "execution_count": 326
        }
      ]
    },
    {
      "cell_type": "code",
      "source": [
        "print(\" Model 1: Random Forest Classifier: Performance Report\")\n",
        "\n",
        "Y_pred = random_forest.predict(X_test)\n",
        "print(f\"{classification_report(y_test, Y_pred, target_names=['Not leaving the company (Churn:0)','Leaving the company (Churn:1)'])}\")\n",
        "\n",
        "print(f\"Test Accuracy : {accuracy_score(y_test, Y_pred)*100}%\")\n",
        "print(f\"recall_score : {recall_score(y_test, Y_pred)*100}%\")\n",
        "print(f\"precision_score : {precision_score(y_test, Y_pred)*100}%\")\n",
        "print(f\"f1_score : {f1_score(y_test, Y_pred)*100}%\")\n",
        "\n",
        "cm = confusion_matrix(y_test, Y_pred)\n",
        "print(cm)\n",
        "\n",
        "confusion = confusion_matrix(y_test, Y_pred)\n",
        "TP = confusion[1,1] # true positive \n",
        "TN = confusion[0,0] # true negatives\n",
        "FP = confusion[0,1] # false positives\n",
        "FN = confusion[1,0] # false negatives\n",
        "# Calculate the sensitivity\n",
        "\n",
        "print(f\"Model 1 Sensitivity: {np.round((TP/(TP+FN)),2)}\")\n",
        "# Calculate the specificity\n",
        "\n",
        "print(f\"Model 1 Specificity: {np.round((TN/(TN+FP)),2)}\")"
      ],
      "metadata": {
        "colab": {
          "base_uri": "https://localhost:8080/"
        },
        "id": "0IsyQJ4y01Vb",
        "outputId": "3c3c6447-fad7-4aa5-f64e-1baa9239c689"
      },
      "execution_count": null,
      "outputs": [
        {
          "output_type": "stream",
          "name": "stdout",
          "text": [
            " Model 1: Random Forest Classifier: Performance Report\n",
            "                                   precision    recall  f1-score   support\n",
            "\n",
            "Not leaving the company (Churn:0)       0.77      0.85      0.81       143\n",
            "    Leaving the company (Churn:1)       0.93      0.89      0.91       334\n",
            "\n",
            "                         accuracy                           0.88       477\n",
            "                        macro avg       0.85      0.87      0.86       477\n",
            "                     weighted avg       0.88      0.88      0.88       477\n",
            "\n",
            "Test Accuracy : 87.84067085953879%\n",
            "recall_score : 89.22155688622755%\n",
            "precision_score : 93.125%\n",
            "f1_score : 91.13149847094802%\n",
            "[[121  22]\n",
            " [ 36 298]]\n",
            "Model 1 Sensitivity: 0.89\n",
            "Model 1 Specificity: 0.85\n"
          ]
        }
      ]
    },
    {
      "cell_type": "code",
      "source": [
        "# AUC- ROC\n",
        "from sklearn import metrics\n",
        "from sklearn.metrics import confusion_matrix, accuracy_score, precision_score, recall_score, f1_score, precision_recall_curve\n",
        "\n",
        "Y_pred_proba = random_forest.predict_proba(X_test)[::,1]\n",
        "fpr, tpr, _ = metrics.roc_curve(y_test,  Y_pred_proba)\n",
        "auc = metrics.roc_auc_score(y_test, Y_pred_proba)\n",
        "#Create ROC curve and PR curve\n",
        "fig, a = plt.subplots(1,2,squeeze=False,figsize=(16,5))\n",
        "a[0][0].plot(fpr,tpr,label=\"AUC Score=\"+str(auc))\n",
        "a[0][0].plot([0, 1], [0, 1],'r--')\n",
        "a[0][0].set_ylabel('True Positive Rate')\n",
        "a[0][0].set_xlabel('False Positive Rate')\n",
        "a[0][0].legend(loc=4)\n",
        "a[0][0].grid()\n",
        "a[0][0].set_title(\"AU-ROC Curve for Random Forest\")\n",
        "print(f\"AUC SCORE :{auc}\" )\n",
        "\n",
        "# Precision Recall Curve\n",
        "pre, re,_ = precision_recall_curve(y_test, Y_pred_proba)\n",
        "a[0][1].plot(re, pre, label='Precision-Recall Curve')\n",
        "a[0][1].set_ylabel('Precision')\n",
        "a[0][1].set_xlabel('Recall')\n",
        "a[0][1].legend(loc=4)\n",
        "a[0][1].grid()\n",
        "a[0][1].set_title(\"Precision-Recall Curve for Random Forest\")\n",
        "plt.show()"
      ],
      "metadata": {
        "colab": {
          "base_uri": "https://localhost:8080/",
          "height": 367
        },
        "id": "4KA9OPvq10hK",
        "outputId": "82f9c921-724e-46f3-9f70-911cd8484c86"
      },
      "execution_count": null,
      "outputs": [
        {
          "output_type": "stream",
          "name": "stdout",
          "text": [
            "AUC SCORE :0.9255684435325153\n"
          ]
        },
        {
          "output_type": "display_data",
          "data": {
            "text/plain": [
              "<Figure size 1152x360 with 2 Axes>"
            ],
            "image/png": "[encoded data removed]"
          },
          "metadata": {
            "needs_background": "light"
          }
        }
      ]
    },
    {
      "cell_type": "code",
      "source": [
        "# Feature importance\n",
        "importances = random_forest.feature_importances_\n",
        "indices = np.argsort(importances)[::-1] # Sort feature importances in descending order\n",
        "names = [X.columns[i] for i in indices] # Rearrange feature names so they match the sorted feature importances\n",
        "plt.figure(figsize=(12, 5)) # Create plot\n",
        "plt.title(\"Feature Importance for Model 1-Random Forest Classifier\") # Create plot title\n",
        "plt.bar(range(X_test.shape[1]), importances[indices],color=sns.color_palette(\"summer\")) # Add bars\n",
        "plt.xticks(range(X_test.shape[1]), names, rotation=90) # Add feature names as x-axis labels\n",
        "plt.show()"
      ],
      "metadata": {
        "colab": {
          "base_uri": "https://localhost:8080/",
          "height": 427
        },
        "id": "VexjH-gf4svd",
        "outputId": "39fbb0e2-da1c-4470-e161-6a99f77b780a"
      },
      "execution_count": null,
      "outputs": [
        {
          "output_type": "display_data",
          "data": {
            "text/plain": [
              "<Figure size 864x360 with 1 Axes>"
            ],
            "image/png": "[encoded data removed]"
          },
          "metadata": {
            "needs_background": "light"
          }
        }
      ]
    },
    {
      "cell_type": "markdown",
      "source": [
        "<font color='#0dab7f'><B> Observations from Model 1- Random Forest Classifier (RF): </B> \n",
        "\n",
        "<font color='#0dab7f'> Best parameters are : {'max_depth': 5, 'n_estimators': 100}, score is : 0.88\n",
        "\n",
        "<font color='#0dab7f'>Test Accuracy : 0.87\n",
        "\n",
        "<font color='#0dab7f'>f1_score : 0.91\n",
        "\n",
        "<font color='#0dab7f'>The recall score for predicting leaving the company is 0.89\n",
        "\n",
        "<font color='#0dab7f'>The precision score for predicting leaving the company is 0.93\n",
        "\n",
        "<font color='#0dab7f'>The AUC score for predicting leaving the company is 0.92\n",
        "\n",
        "<font color='#0dab7f'>Model Sensitivity:0.89\n",
        "\n",
        "<font color='#0dab7f'>Model Specificity:0.85\n",
        "\n",
        "<font color='#0dab7f'>Most important features(highest to lowest): - Q_rating_flag - Joining year - \n",
        "Total Business Value - Reporting month - Reporting year - Joining month - Income\n",
        "\n",
        "<font color='#0dab7f'>Summary:\n",
        "\n",
        "<font color='#0dab7f'>Model 1 with the random forest classifier has better AUC, sensitivity metric. Another very significant advantage is this RF model captures the feature importance more accurately. The precision -recall curve is also better for the RF model."
      ],
      "metadata": {
        "id": "fbTcxGOO54nk"
      }
    },
    {
      "cell_type": "markdown",
      "source": [
        "# Model 2 - Gradient Boosted decision tree clasifier (GBDT)"
      ],
      "metadata": {
        "id": "aQN4pcEj7n9j"
      }
    },
    {
      "cell_type": "code",
      "source": [
        "from sklearn.ensemble import GradientBoostingClassifier as GBDT\n",
        "params = {\n",
        "        'learning_rate': [0.1,0.4, 0.6, 0.8],   # shrinkage coefficient - \"v\" [0,1]\n",
        "        'subsample': [0.6, 0.8, 1.0],     # concept of bagging in xgboost- row sampling\n",
        "        'max_depth': [3, 4, 5,6],\n",
        "    'n_estimators':[50,100,150,200,250]\n",
        "        }\n",
        "model2=GBDT()"
      ],
      "metadata": {
        "id": "b_wQ-zr17vo7"
      },
      "execution_count": null,
      "outputs": []
    },
    {
      "cell_type": "code",
      "source": [
        "from sklearn.model_selection import RandomizedSearchCV, GridSearchCV\n",
        "from sklearn.model_selection import StratifiedKFold  #StratifiedKFold is a variation of k-fold which returns stratified folds: each set contains \n",
        "#approximately the same percentage of samples of each target class as the complete set.Our dataset has balanced classes, so not useful.\n",
        "import datetime as dt\n",
        "\n",
        "folds = 3\n",
        "skf = StratifiedKFold(n_splits=folds, shuffle = True, random_state = 10)\n",
        "random_search = RandomizedSearchCV(model2, param_distributions=params, n_iter=10, scoring='f1', n_jobs=4, cv=skf.split(X_train,y_train), random_state=1001 )\n",
        "# number of iterations=10, n_jobs=4= it will try to distribute it across 4 cores\n",
        "start = dt.datetime.now()\n",
        "random_search.fit(X_train, y_train)\n",
        "end = dt.datetime.now()"
      ],
      "metadata": {
        "id": "uzTHe3lr70sS"
      },
      "execution_count": null,
      "outputs": []
    },
    {
      "cell_type": "code",
      "source": [
        "print('\\n Best hyperparameters:')\n",
        "print(random_search.best_params_)"
      ],
      "metadata": {
        "colab": {
          "base_uri": "https://localhost:8080/"
        },
        "id": "N58YKzeD7-WS",
        "outputId": "86322655-27b7-41ab-dac3-15c492302327"
      },
      "execution_count": null,
      "outputs": [
        {
          "output_type": "stream",
          "name": "stdout",
          "text": [
            "\n",
            " Best hyperparameters:\n",
            "{'subsample': 0.8, 'n_estimators': 250, 'max_depth': 6, 'learning_rate': 0.1}\n"
          ]
        }
      ]
    },
    {
      "cell_type": "code",
      "source": [
        "# Training on best GBDT parameters\n",
        "best_gbdt = GBDT(subsample=0.8, n_estimators=250, max_depth=3, learning_rate= 0.1)\n",
        "best_gbdt.fit(X_train, y_train)"
      ],
      "metadata": {
        "colab": {
          "base_uri": "https://localhost:8080/"
        },
        "id": "GDWqbpSq8HGk",
        "outputId": "b796d8e0-8e36-45d2-c260-e40d10cd1ed8"
      },
      "execution_count": null,
      "outputs": [
        {
          "output_type": "execute_result",
          "data": {
            "text/plain": [
              "GradientBoostingClassifier(n_estimators=250, subsample=0.8)"
            ]
          },
          "metadata": {},
          "execution_count": 337
        }
      ]
    },
    {
      "cell_type": "code",
      "source": [
        "print(f\"Time taken for training : {end - start}\\nTraining accuracy:{best_gbdt.score(X_train, y_train)}\\nTest Accuracy:{best_gbdt.score(X_test, y_test)}\")"
      ],
      "metadata": {
        "colab": {
          "base_uri": "https://localhost:8080/"
        },
        "id": "hg2AEUn-8OpS",
        "outputId": "36d6d775-9398-4d2c-c49b-85bdb4a6416f"
      },
      "execution_count": null,
      "outputs": [
        {
          "output_type": "stream",
          "name": "stdout",
          "text": [
            "Time taken for training : 0:00:11.126656\n",
            "Training accuracy:0.9586834733893558\n",
            "Test Accuracy:0.8679245283018868\n"
          ]
        }
      ]
    },
    {
      "cell_type": "code",
      "source": [
        "print(\" Model 2: GBDT Performance Report\")\n",
        "\n",
        "# Predicting the Test set results\n",
        "Y_pred = best_gbdt.predict(X_test)\n",
        "print(f\"{classification_report(y_test, Y_pred, target_names=['Not leaving the company (Churn:0)','Leaving the company (Churn:1)'])}\")\n",
        "print(f\"Test Accuracy : {accuracy_score(y_test, Y_pred)*100}%\")\n",
        "print(f\"recall_score : {recall_score(y_test, Y_pred)*100}%\")\n",
        "print(f\"precision_score : {precision_score(y_test, Y_pred)*100}%\")\n",
        "print(f\"f1_score : {f1_score(y_test, Y_pred)*100}%\")\n",
        "\n",
        "cm = confusion_matrix(y_test, Y_pred)\n",
        "print(cm)\n",
        "\n",
        "confusion = confusion_matrix(y_test, Y_pred)\n",
        "TP = confusion[1,1] # true positive \n",
        "TN = confusion[0,0] # true negatives\n",
        "FP = confusion[0,1] # false positives\n",
        "FN = confusion[1,0] # false negatives\n",
        "# Calculate the sensitivity\n",
        "\n",
        "print(f\"Model 3: GBDT Sensitivity: {np.round((TP/(TP+FN)),2)}\")\n",
        "# Calculate the specificity\n",
        "\n",
        "print(f\"Model 3: GBDT Specificity: {np.round((TN/(TN+FP)),2)}\")"
      ],
      "metadata": {
        "colab": {
          "base_uri": "https://localhost:8080/"
        },
        "id": "98kEq3lp8YWa",
        "outputId": "efd5dc0e-96a7-4da3-ff25-51fddca4923d"
      },
      "execution_count": null,
      "outputs": [
        {
          "output_type": "stream",
          "name": "stdout",
          "text": [
            " Model 2: GBDT Performance Report\n",
            "                                   precision    recall  f1-score   support\n",
            "\n",
            "Not leaving the company (Churn:0)       0.77      0.80      0.78       143\n",
            "    Leaving the company (Churn:1)       0.91      0.90      0.90       334\n",
            "\n",
            "                         accuracy                           0.87       477\n",
            "                        macro avg       0.84      0.85      0.84       477\n",
            "                     weighted avg       0.87      0.87      0.87       477\n",
            "\n",
            "Test Accuracy : 86.79245283018868%\n",
            "recall_score : 89.82035928143712%\n",
            "precision_score : 91.1854103343465%\n",
            "f1_score : 90.49773755656109%\n",
            "[[114  29]\n",
            " [ 34 300]]\n",
            "Model 3: GBDT Sensitivity: 0.9\n",
            "Model 3: GBDT Specificity: 0.8\n"
          ]
        }
      ]
    },
    {
      "cell_type": "code",
      "source": [
        "# AUC- ROC\n",
        "from sklearn import metrics\n",
        "from sklearn.metrics import confusion_matrix, accuracy_score, precision_score, recall_score, f1_score, precision_recall_curve\n",
        "\n",
        "Y_pred_proba = best_gbdt.predict_proba(X_test)[::,1]\n",
        "fpr, tpr, _ = metrics.roc_curve(y_test,  Y_pred_proba)\n",
        "auc = metrics.roc_auc_score(y_test, Y_pred_proba)\n",
        "\n",
        "#Create ROC curve\n",
        "fig, a = plt.subplots(1,2,squeeze=False,figsize=(16,5))\n",
        "a[0][0].plot(fpr,tpr,label=\"AUC Score=\"+str(auc))\n",
        "a[0][0].plot([0, 1], [0, 1],'r--')\n",
        "a[0][0].set_ylabel('True Positive Rate')\n",
        "a[0][0].set_xlabel('False Positive Rate')\n",
        "a[0][0].legend(loc=4)\n",
        "a[0][0].grid()\n",
        "a[0][0].set_title(\"AU-ROC Curve for GBDT\")\n",
        "print(f\"AUC SCORE :{auc}\" )\n",
        "\n",
        "# Precision Recall Curve\n",
        "pre, re,_ = precision_recall_curve(y_test, Y_pred_proba)\n",
        "a[0][1].plot(re, pre, label='Precision-Recall Curve')\n",
        "a[0][1].set_ylabel('Precision')\n",
        "a[0][1].set_xlabel('Recall')\n",
        "a[0][1].legend(loc=4)\n",
        "a[0][1].grid()\n",
        "a[0][1].set_title(\"Precision-Recall Curve for GBDT\")\n",
        "plt.show()"
      ],
      "metadata": {
        "colab": {
          "base_uri": "https://localhost:8080/",
          "height": 367
        },
        "id": "PdPbOaXr8rSj",
        "outputId": "ff69e970-2da4-4a47-9379-29a413c9db49"
      },
      "execution_count": null,
      "outputs": [
        {
          "output_type": "stream",
          "name": "stdout",
          "text": [
            "AUC SCORE :0.9328126962857501\n"
          ]
        },
        {
          "output_type": "display_data",
          "data": {
            "text/plain": [
              "<Figure size 1152x360 with 2 Axes>"
            ],
            "image/png": "[encoded data removed]"
          },
          "metadata": {
            "needs_background": "light"
          }
        }
      ]
    },
    {
      "cell_type": "code",
      "source": [
        "# Feature importance\n",
        "importances =best_gbdt.feature_importances_\n",
        "indices = np.argsort(importances)[::-1] # Sort feature importances in descending order\n",
        "names = [X.columns[i] for i in indices] # Rearrange feature names so they match the sorted feature importances\n",
        "plt.figure(figsize=(12, 5)) # Create plot\n",
        "plt.title(\"Feature Importance for Model 2- GBDT \") # Create plot title\n",
        "plt.bar(range(X_test.shape[1]), importances[indices],color=sns.color_palette(\"inferno\")) # Add bars\n",
        "plt.xticks(range(X_test.shape[1]), names, rotation=90) # Add feature names as x-axis labels\n",
        "plt.show() "
      ],
      "metadata": {
        "colab": {
          "base_uri": "https://localhost:8080/",
          "height": 427
        },
        "id": "Ok0q3iVw8yyc",
        "outputId": "e3cfa1a6-9d94-40d1-b879-7c5931059620"
      },
      "execution_count": null,
      "outputs": [
        {
          "output_type": "display_data",
          "data": {
            "text/plain": [
              "<Figure size 864x360 with 1 Axes>"
            ],
            "image/png": "[encoded data removed]"
          },
          "metadata": {
            "needs_background": "light"
          }
        }
      ]
    },
    {
      "cell_type": "markdown",
      "source": [
        "<font color='#0dab7f'><B> Observations from Model 2- GBDT Classifier (RF): </B> \n",
        "\n",
        "<font color='#0dab7f'> Best hyperparameters:{'subsample': 0.8, 'n_estimators': 250, 'max_depth': 6, 'learning_rate': 0.1}\n",
        "\n",
        "<font color='#0dab7f'>The AUC score is 0.93\n",
        "\n",
        "<font color='#0dab7f'>Test Accuracy : 0.86\n",
        "\n",
        "<font color='#0dab7f'>f1_score : 0.90\n",
        "\n",
        "<font color='#0dab7f'>The recall score for predicting leaving the company is 0.89\n",
        "\n",
        "<font color='#0dab7f'>The precision score for predicting leaving the company is 0.91.\n",
        "\n",
        "<font color='#0dab7f'>Model Sensitivity:0.9\n",
        "\n",
        "<font color='#0dab7f'>Model Specificity:0.8\n",
        "\n",
        "<font color='#0dab7f'>Top most important features (Highest to lowest):\n",
        "\n",
        "<font color='#0dab7f'> 1. Quaterly rating increment flag\n",
        "\n",
        "<font color='#0dab7f'>2. Total Business Value\n",
        "\n",
        "<font color='#0dab7f'>3. Year of Joining (driver tenure)\n",
        "\n",
        "<font color='#0dab7f'>4. Income\n",
        "\n",
        "<font color='#0dab7f'>5.Joining month\n",
        "\n",
        "\n",
        "<font color='#0dab7f'>Summary:\n",
        "\n",
        "<font color='#0dab7f'>Model 2 with the GBDT classifier has better sensitivity but less specificity compared to Model 1 Random Forest Classifier. Slightly different order of feature importances is observed with GBDT."
      ],
      "metadata": {
        "id": "dnZ3DlD49CPi"
      }
    },
    {
      "cell_type": "markdown",
      "source": [
        "<font color='#0dab7f'> Insights and Recommendation: \n",
        "\n",
        "<font color='#0dab7f'>1) Based on the prediction performance metrics Model2 with GBDT performs better than Model 1 with Random forest \n",
        "\n",
        "<font color='#0dab7f'>2) Quaterly performance rating - Drivers with high quaterly rating were more likely to stay with company. Company can encourage drivers with low quaterly rating with points. Additional training on the drivers whose performance is not good for more than 1 quarter so that issues can be identified and resolved which will avoid the high attrition rate.\n",
        "\n",
        "<font color='#0dab7f'>3) Total business value - Driver with low and negative Total Business value range has more attrition. Driver with high total business value has less attrition. The total business value is the total business that a driver generates, the company should set small financial milestones for the drivers to work through. The company should roll out a reward and recognition program for the drivers who meet their milestones\n",
        "\n",
        "<font color='#0dab7f'>4) Income/Grade: Driver with lower Income range 10000 - 40000 has more attrition. Driver with high Income range has less attrition. Income plays an important role in predicting the driver attrition. Company should ensure that the drivers have enough opportunities and motivation to increase their monthly average income above a certain threshold. Another option to ease the financial burden on the drivers and increase their morale is to provide vehicle maintenance offers, insurance policies, health checkups, and special education programs etc.\n",
        "\n",
        "\n",
        "<font color='#0dab7f'>5) Month and year reporting - Drivers who report every month were less likely to leave. Company can reward such drivers with points and gifts so that attrition rate will be less.\n",
        "\n"
      ],
      "metadata": {
        "id": "zAtI0TSe-sFK"
      }
    },
    {
      "cell_type": "markdown",
      "source": [],
      "metadata": {
        "id": "e1jHmRphDl5i"
      }
    },
    {
      "cell_type": "markdown",
      "source": [],
      "metadata": {
        "id": "iTg6C1F5DmPR"
      }
    }
  ]
}